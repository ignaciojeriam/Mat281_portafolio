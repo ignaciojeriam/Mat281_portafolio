{
 "cells": [
  {
   "cell_type": "markdown",
   "metadata": {
    "slideshow": {
     "slide_type": "slide"
    }
   },
   "source": [
    "<img src=\"https://upload.wikimedia.org/wikipedia/commons/4/47/Logo_UTFSM.png\" width=\"200\" alt=\"utfsm-logo\" align=\"left\"/>\n",
    "\n",
    "# MAT281\n",
    "### Aplicaciones de la Matemática en la Ingeniería"
   ]
  },
  {
   "cell_type": "markdown",
   "metadata": {
    "slideshow": {
     "slide_type": "slide"
    }
   },
   "source": [
    "## Módulo 03\n",
    "## Clase 03: Visualización Declarativa"
   ]
  },
  {
   "cell_type": "markdown",
   "metadata": {
    "slideshow": {
     "slide_type": "slide"
    }
   },
   "source": [
    "## Objetivos\n",
    "\n",
    "* Comprender el estilo de visualización declarativa.\n",
    "* Crear gráficos con la librería declarativa Altair."
   ]
  },
  {
   "cell_type": "markdown",
   "metadata": {
    "slideshow": {
     "slide_type": "subslide"
    }
   },
   "source": [
    "## Contenidos\n",
    "* [Visualización Declarativa](#declarative)\n",
    "* [Altair](#altair)   \n",
    "* [Gráfico a Gráfico](#plot-plot)\n",
    "    - [Gráfico de Barras](#barplot)\n",
    "    - [Gráfico de Líneas](#lineplot)\n",
    "    - [Scatter Plot](#scatter-plot)\n",
    "    - [Gráfico de Barras de Error](#error-bar-plot)\n",
    "    - [Gráficos de Área](#area-charts)\n",
    "    - [Mapa de Calor](#heatmap)\n",
    "    - [Mapas](#maps)"
   ]
  },
  {
   "cell_type": "markdown",
   "metadata": {
    "slideshow": {
     "slide_type": "slide"
    }
   },
   "source": [
    "## Visualización Declarativa\n",
    "<a id='declarative'></a>\n",
    "\n",
    "Es un paradigma de visualización en donde se busca preocuparse de los datos y sus relaciones, más que en detalles sin mayor importancia. Algunas características son:\n",
    "\n",
    "* Se especifica lo que se desea hacer.\n",
    "* Los detalles se determinan automáticamente.\n",
    "* Especificación y Ejecución están separadas.\n",
    "\n",
    "A modo de resumen, se refiere a construir visualizaciones a partir de los siguientes elementos:\n",
    "\n",
    "* _Data_\n",
    "* _Transformation_\n",
    "* _Marks_\n",
    "* _Encoding_\n",
    "* _Scale_\n",
    "* _Guides_"
   ]
  },
  {
   "cell_type": "markdown",
   "metadata": {},
   "source": [
    "Para una visualización declarativa adecuata, los datos deben encontrarse en el formato _*Tidy*_, es decir:\n",
    "\n",
    "* Cada variable corresponde a una columna.\n",
    "* Cada observación corresponde a una fila.\n",
    "* Cada tipo de unidad de observación corresponde a una tabla.\n",
    "\n",
    "Más detalles puedes ser encontrados en el siguiente [link](http://vita.had.co.nz/papers/tidy-data.pdf)."
   ]
  },
  {
   "cell_type": "markdown",
   "metadata": {},
   "source": [
    "Un ejemplo de datos _Tidy_:"
   ]
  },
  {
   "cell_type": "code",
   "execution_count": 1,
   "metadata": {},
   "outputs": [
    {
     "data": {
      "text/html": [
       "<div>\n",
       "<style scoped>\n",
       "    .dataframe tbody tr th:only-of-type {\n",
       "        vertical-align: middle;\n",
       "    }\n",
       "\n",
       "    .dataframe tbody tr th {\n",
       "        vertical-align: top;\n",
       "    }\n",
       "\n",
       "    .dataframe thead th {\n",
       "        text-align: right;\n",
       "    }\n",
       "</style>\n",
       "<table border=\"1\" class=\"dataframe\">\n",
       "  <thead>\n",
       "    <tr style=\"text-align: right;\">\n",
       "      <th></th>\n",
       "      <th>ID</th>\n",
       "      <th>Color</th>\n",
       "      <th>Duración</th>\n",
       "    </tr>\n",
       "  </thead>\n",
       "  <tbody>\n",
       "    <tr>\n",
       "      <th>0</th>\n",
       "      <td>0</td>\n",
       "      <td>Azul</td>\n",
       "      <td>1</td>\n",
       "    </tr>\n",
       "    <tr>\n",
       "      <th>1</th>\n",
       "      <td>1</td>\n",
       "      <td>Rojo</td>\n",
       "      <td>1</td>\n",
       "    </tr>\n",
       "    <tr>\n",
       "      <th>2</th>\n",
       "      <td>2</td>\n",
       "      <td>Azul</td>\n",
       "      <td>3</td>\n",
       "    </tr>\n",
       "    <tr>\n",
       "      <th>3</th>\n",
       "      <td>3</td>\n",
       "      <td>Azul</td>\n",
       "      <td>3</td>\n",
       "    </tr>\n",
       "    <tr>\n",
       "      <th>4</th>\n",
       "      <td>4</td>\n",
       "      <td>Rojo</td>\n",
       "      <td>3</td>\n",
       "    </tr>\n",
       "  </tbody>\n",
       "</table>\n",
       "</div>"
      ],
      "text/plain": [
       "   ID Color  Duración\n",
       "0   0  Azul         1\n",
       "1   1  Rojo         1\n",
       "2   2  Azul         3\n",
       "3   3  Azul         3\n",
       "4   4  Rojo         3"
      ]
     },
     "execution_count": 1,
     "metadata": {},
     "output_type": "execute_result"
    }
   ],
   "source": [
    "import pandas as pd\n",
    "df = pd.DataFrame({\n",
    "                   \"ID\": range(5),\n",
    "                   \"Color\": [\"Azul\", \"Rojo\", \"Azul\", \"Azul\", \"Rojo\"],\n",
    "                   \"Duración\": [1, 1, 3, 3, 3]\n",
    "                  })\n",
    "df.head()"
   ]
  },
  {
   "cell_type": "markdown",
   "metadata": {},
   "source": [
    "Un ejemplo de datos __NO__ _Tidy_"
   ]
  },
  {
   "cell_type": "code",
   "execution_count": 2,
   "metadata": {},
   "outputs": [
    {
     "data": {
      "text/html": [
       "<div>\n",
       "<style scoped>\n",
       "    .dataframe tbody tr th:only-of-type {\n",
       "        vertical-align: middle;\n",
       "    }\n",
       "\n",
       "    .dataframe tbody tr th {\n",
       "        vertical-align: top;\n",
       "    }\n",
       "\n",
       "    .dataframe thead th {\n",
       "        text-align: right;\n",
       "    }\n",
       "</style>\n",
       "<table border=\"1\" class=\"dataframe\">\n",
       "  <thead>\n",
       "    <tr style=\"text-align: right;\">\n",
       "      <th>Color</th>\n",
       "      <th>Azul</th>\n",
       "      <th>Rojo</th>\n",
       "    </tr>\n",
       "    <tr>\n",
       "      <th>ID</th>\n",
       "      <th></th>\n",
       "      <th></th>\n",
       "    </tr>\n",
       "  </thead>\n",
       "  <tbody>\n",
       "    <tr>\n",
       "      <th>0</th>\n",
       "      <td>1.0</td>\n",
       "      <td>NaN</td>\n",
       "    </tr>\n",
       "    <tr>\n",
       "      <th>1</th>\n",
       "      <td>NaN</td>\n",
       "      <td>1.0</td>\n",
       "    </tr>\n",
       "    <tr>\n",
       "      <th>2</th>\n",
       "      <td>3.0</td>\n",
       "      <td>NaN</td>\n",
       "    </tr>\n",
       "    <tr>\n",
       "      <th>3</th>\n",
       "      <td>3.0</td>\n",
       "      <td>NaN</td>\n",
       "    </tr>\n",
       "    <tr>\n",
       "      <th>4</th>\n",
       "      <td>NaN</td>\n",
       "      <td>3.0</td>\n",
       "    </tr>\n",
       "  </tbody>\n",
       "</table>\n",
       "</div>"
      ],
      "text/plain": [
       "Color  Azul  Rojo\n",
       "ID               \n",
       "0       1.0   NaN\n",
       "1       NaN   1.0\n",
       "2       3.0   NaN\n",
       "3       3.0   NaN\n",
       "4       NaN   3.0"
      ]
     },
     "execution_count": 2,
     "metadata": {},
     "output_type": "execute_result"
    }
   ],
   "source": [
    "df.pivot(index=\"ID\", columns=\"Color\", values=\"Duración\")"
   ]
  },
  {
   "cell_type": "markdown",
   "metadata": {},
   "source": [
    "No es _Tidy_ puesto que la variable \"Color\" utiliza más de una columna."
   ]
  },
  {
   "cell_type": "markdown",
   "metadata": {},
   "source": [
    "### Idea: Buenas implementaciones pueden influir en buenas conceptualizaciones."
   ]
  },
  {
   "cell_type": "markdown",
   "metadata": {},
   "source": [
    "![key](http://i.imgur.com/G0dFaFF.png)"
   ]
  },
  {
   "cell_type": "markdown",
   "metadata": {},
   "source": [
    "![hyp](http://i.imgur.com/JdPmESe.png)"
   ]
  },
  {
   "cell_type": "markdown",
   "metadata": {},
   "source": [
    "### Diferencias entre enfoques\n",
    "\n",
    "| Imperativa  | Declarativa | \n",
    "| ------|------------ | \n",
    "| Especificar _cómo_ se debe hacer algo | Especificar _qué_ se quiere hacer |\n",
    "| Especificación y ejecución entrelazadas | Separar especificación de ejecución |\n",
    "| _Colocar un círculo rojo aquí y un círculo azul acá_ | _Mapear `x` como posición e `y` como el color_ |\n"
   ]
  },
  {
   "cell_type": "markdown",
   "metadata": {},
   "source": [
    "### Ejemplo"
   ]
  },
  {
   "cell_type": "markdown",
   "metadata": {},
   "source": [
    "El _Iris dataset_ es un conjunto de datos famoso por ser un buen ejemplo, por lo que nos servirá para mostrar una de las mayores diferencias entre una visualización imperativa (como `matplotlib`) versus una declarativa (como `altair`)."
   ]
  },
  {
   "cell_type": "code",
   "execution_count": 3,
   "metadata": {},
   "outputs": [
    {
     "data": {
      "text/plain": [
       "ThemeRegistry.enable('opaque')"
      ]
     },
     "execution_count": 3,
     "metadata": {},
     "output_type": "execute_result"
    }
   ],
   "source": [
    "import altair as alt\n",
    "from vega_datasets import data  # Una librería con muchos datasets\n",
    "alt.themes.enable('opaque')  # Para quienes utilizan temas oscuros en Jupyter Lab"
   ]
  },
  {
   "cell_type": "code",
   "execution_count": 4,
   "metadata": {},
   "outputs": [
    {
     "data": {
      "text/plain": [
       "\u001b[1;31mSignature:\u001b[0m       \u001b[0mdata\u001b[0m\u001b[1;33m.\u001b[0m\u001b[0miris\u001b[0m\u001b[1;33m(\u001b[0m\u001b[0muse_local\u001b[0m\u001b[1;33m=\u001b[0m\u001b[1;32mTrue\u001b[0m\u001b[1;33m,\u001b[0m \u001b[1;33m**\u001b[0m\u001b[0mkwargs\u001b[0m\u001b[1;33m)\u001b[0m\u001b[1;33m\u001b[0m\u001b[1;33m\u001b[0m\u001b[0m\n",
       "\u001b[1;31mType:\u001b[0m            Dataset\n",
       "\u001b[1;31mString form:\u001b[0m     <vega_datasets.core.Dataset object at 0x000002806D8AFE80>\n",
       "\u001b[1;31mFile:\u001b[0m            c:\\users\\public\\documents\\anaconda\\lib\\site-packages\\vega_datasets\\core.py\n",
       "\u001b[1;31mDocstring:\u001b[0m      \n",
       "Loader for the iris dataset.\n",
       "\n",
       "This classic dataset contains lengths and widths of petals and sepals\n",
       "for 150 iris flowers, drawn from three species. It was introduced\n",
       "by R.A. Fisher in 1936 [1]_.\n",
       "\n",
       "This dataset is bundled with vega_datasets; it can be loaded without web access.\n",
       "Dataset source: https://vega.github.io/vega-datasets/data/iris.json\n",
       "\n",
       "Usage\n",
       "-----\n",
       "\n",
       "    >>> from vega_datasets import data\n",
       "    >>> iris = data.iris()\n",
       "    >>> type(iris)\n",
       "    <class 'pandas.core.frame.DataFrame'>\n",
       "\n",
       "Equivalently, you can use\n",
       "\n",
       "    >>> iris = data('iris')\n",
       "\n",
       "To get the raw dataset rather than the dataframe, use\n",
       "\n",
       "    >>> data_bytes = data.iris.raw()\n",
       "    >>> type(data_bytes)\n",
       "    bytes\n",
       "\n",
       "To find the dataset url, use\n",
       "\n",
       "    >>> data.iris.url\n",
       "    'https://vega.github.io/vega-datasets/data/iris.json'\n",
       "\n",
       "Attributes\n",
       "----------\n",
       "filename : string\n",
       "    The filename in which the dataset is stored\n",
       "url : string\n",
       "    The full URL of the dataset at http://vega.github.io\n",
       "format : string\n",
       "    The format of the dataset: usually one of {'csv', 'tsv', 'json'}\n",
       "pkg_filename : string\n",
       "    The path to the local dataset within the vega_datasets package\n",
       "is_local : bool\n",
       "    True if the dataset is available locally in the package\n",
       "filepath : string\n",
       "    If is_local is True, the local file path to the dataset.\n",
       "\n",
       "References\n",
       "----------\n",
       ".. [1] R. A. Fisher (1936). 'The use of multiple measurements in\n",
       "   taxonomic problems'. Annals of Eugenics. 7 (2): 179-188.\n",
       "\u001b[1;31mClass docstring:\u001b[0m Class to load a particular dataset by name\n",
       "\u001b[1;31mCall docstring:\u001b[0m \n",
       "Load and parse the dataset from remote URL or local file\n",
       "\n",
       "Parameters\n",
       "----------\n",
       "use_local : boolean\n",
       "    If True (default), then attempt to load the dataset locally. If\n",
       "    False or if the dataset is not available locally, then load the\n",
       "    data from an external URL.\n",
       "**kwargs :\n",
       "    additional keyword arguments are passed to data parser (usually\n",
       "    pd.read_csv or pd.read_json, depending on the format of the data\n",
       "    source)\n",
       "\n",
       "Returns\n",
       "-------\n",
       "data :\n",
       "    parsed data\n"
      ]
     },
     "metadata": {},
     "output_type": "display_data"
    }
   ],
   "source": [
    "# Una breve descripción\n",
    "data.iris?"
   ]
  },
  {
   "cell_type": "code",
   "execution_count": 5,
   "metadata": {},
   "outputs": [
    {
     "data": {
      "text/html": [
       "<div>\n",
       "<style scoped>\n",
       "    .dataframe tbody tr th:only-of-type {\n",
       "        vertical-align: middle;\n",
       "    }\n",
       "\n",
       "    .dataframe tbody tr th {\n",
       "        vertical-align: top;\n",
       "    }\n",
       "\n",
       "    .dataframe thead th {\n",
       "        text-align: right;\n",
       "    }\n",
       "</style>\n",
       "<table border=\"1\" class=\"dataframe\">\n",
       "  <thead>\n",
       "    <tr style=\"text-align: right;\">\n",
       "      <th></th>\n",
       "      <th>petalLength</th>\n",
       "      <th>petalWidth</th>\n",
       "      <th>sepalLength</th>\n",
       "      <th>sepalWidth</th>\n",
       "      <th>species</th>\n",
       "    </tr>\n",
       "  </thead>\n",
       "  <tbody>\n",
       "    <tr>\n",
       "      <th>0</th>\n",
       "      <td>1.4</td>\n",
       "      <td>0.2</td>\n",
       "      <td>5.1</td>\n",
       "      <td>3.5</td>\n",
       "      <td>setosa</td>\n",
       "    </tr>\n",
       "    <tr>\n",
       "      <th>1</th>\n",
       "      <td>1.4</td>\n",
       "      <td>0.2</td>\n",
       "      <td>4.9</td>\n",
       "      <td>3.0</td>\n",
       "      <td>setosa</td>\n",
       "    </tr>\n",
       "    <tr>\n",
       "      <th>2</th>\n",
       "      <td>1.3</td>\n",
       "      <td>0.2</td>\n",
       "      <td>4.7</td>\n",
       "      <td>3.2</td>\n",
       "      <td>setosa</td>\n",
       "    </tr>\n",
       "    <tr>\n",
       "      <th>3</th>\n",
       "      <td>1.5</td>\n",
       "      <td>0.2</td>\n",
       "      <td>4.6</td>\n",
       "      <td>3.1</td>\n",
       "      <td>setosa</td>\n",
       "    </tr>\n",
       "    <tr>\n",
       "      <th>4</th>\n",
       "      <td>1.4</td>\n",
       "      <td>0.2</td>\n",
       "      <td>5.0</td>\n",
       "      <td>3.6</td>\n",
       "      <td>setosa</td>\n",
       "    </tr>\n",
       "  </tbody>\n",
       "</table>\n",
       "</div>"
      ],
      "text/plain": [
       "   petalLength  petalWidth  sepalLength  sepalWidth species\n",
       "0          1.4         0.2          5.1         3.5  setosa\n",
       "1          1.4         0.2          4.9         3.0  setosa\n",
       "2          1.3         0.2          4.7         3.2  setosa\n",
       "3          1.5         0.2          4.6         3.1  setosa\n",
       "4          1.4         0.2          5.0         3.6  setosa"
      ]
     },
     "execution_count": 5,
     "metadata": {},
     "output_type": "execute_result"
    }
   ],
   "source": [
    "iris = data.iris()\n",
    "iris.head()"
   ]
  },
  {
   "cell_type": "code",
   "execution_count": 6,
   "metadata": {},
   "outputs": [
    {
     "name": "stdout",
     "output_type": "stream",
     "text": [
      "<class 'pandas.core.frame.DataFrame'>\n",
      "RangeIndex: 150 entries, 0 to 149\n",
      "Data columns (total 5 columns):\n",
      "petalLength    150 non-null float64\n",
      "petalWidth     150 non-null float64\n",
      "sepalLength    150 non-null float64\n",
      "sepalWidth     150 non-null float64\n",
      "species        150 non-null object\n",
      "dtypes: float64(4), object(1)\n",
      "memory usage: 5.9+ KB\n"
     ]
    }
   ],
   "source": [
    "iris.info()"
   ]
  },
  {
   "cell_type": "code",
   "execution_count": 7,
   "metadata": {},
   "outputs": [
    {
     "data": {
      "text/html": [
       "<div>\n",
       "<style scoped>\n",
       "    .dataframe tbody tr th:only-of-type {\n",
       "        vertical-align: middle;\n",
       "    }\n",
       "\n",
       "    .dataframe tbody tr th {\n",
       "        vertical-align: top;\n",
       "    }\n",
       "\n",
       "    .dataframe thead th {\n",
       "        text-align: right;\n",
       "    }\n",
       "</style>\n",
       "<table border=\"1\" class=\"dataframe\">\n",
       "  <thead>\n",
       "    <tr style=\"text-align: right;\">\n",
       "      <th></th>\n",
       "      <th>petalLength</th>\n",
       "      <th>petalWidth</th>\n",
       "      <th>sepalLength</th>\n",
       "      <th>sepalWidth</th>\n",
       "      <th>species</th>\n",
       "    </tr>\n",
       "  </thead>\n",
       "  <tbody>\n",
       "    <tr>\n",
       "      <th>count</th>\n",
       "      <td>150.000000</td>\n",
       "      <td>150.000000</td>\n",
       "      <td>150.000000</td>\n",
       "      <td>150.000000</td>\n",
       "      <td>150</td>\n",
       "    </tr>\n",
       "    <tr>\n",
       "      <th>unique</th>\n",
       "      <td>NaN</td>\n",
       "      <td>NaN</td>\n",
       "      <td>NaN</td>\n",
       "      <td>NaN</td>\n",
       "      <td>3</td>\n",
       "    </tr>\n",
       "    <tr>\n",
       "      <th>top</th>\n",
       "      <td>NaN</td>\n",
       "      <td>NaN</td>\n",
       "      <td>NaN</td>\n",
       "      <td>NaN</td>\n",
       "      <td>virginica</td>\n",
       "    </tr>\n",
       "    <tr>\n",
       "      <th>freq</th>\n",
       "      <td>NaN</td>\n",
       "      <td>NaN</td>\n",
       "      <td>NaN</td>\n",
       "      <td>NaN</td>\n",
       "      <td>50</td>\n",
       "    </tr>\n",
       "    <tr>\n",
       "      <th>mean</th>\n",
       "      <td>3.758000</td>\n",
       "      <td>1.199333</td>\n",
       "      <td>5.843333</td>\n",
       "      <td>3.057333</td>\n",
       "      <td>NaN</td>\n",
       "    </tr>\n",
       "    <tr>\n",
       "      <th>std</th>\n",
       "      <td>1.765298</td>\n",
       "      <td>0.762238</td>\n",
       "      <td>0.828066</td>\n",
       "      <td>0.435866</td>\n",
       "      <td>NaN</td>\n",
       "    </tr>\n",
       "    <tr>\n",
       "      <th>min</th>\n",
       "      <td>1.000000</td>\n",
       "      <td>0.100000</td>\n",
       "      <td>4.300000</td>\n",
       "      <td>2.000000</td>\n",
       "      <td>NaN</td>\n",
       "    </tr>\n",
       "    <tr>\n",
       "      <th>25%</th>\n",
       "      <td>1.600000</td>\n",
       "      <td>0.300000</td>\n",
       "      <td>5.100000</td>\n",
       "      <td>2.800000</td>\n",
       "      <td>NaN</td>\n",
       "    </tr>\n",
       "    <tr>\n",
       "      <th>50%</th>\n",
       "      <td>4.350000</td>\n",
       "      <td>1.300000</td>\n",
       "      <td>5.800000</td>\n",
       "      <td>3.000000</td>\n",
       "      <td>NaN</td>\n",
       "    </tr>\n",
       "    <tr>\n",
       "      <th>75%</th>\n",
       "      <td>5.100000</td>\n",
       "      <td>1.800000</td>\n",
       "      <td>6.400000</td>\n",
       "      <td>3.300000</td>\n",
       "      <td>NaN</td>\n",
       "    </tr>\n",
       "    <tr>\n",
       "      <th>max</th>\n",
       "      <td>6.900000</td>\n",
       "      <td>2.500000</td>\n",
       "      <td>7.900000</td>\n",
       "      <td>4.400000</td>\n",
       "      <td>NaN</td>\n",
       "    </tr>\n",
       "  </tbody>\n",
       "</table>\n",
       "</div>"
      ],
      "text/plain": [
       "        petalLength  petalWidth  sepalLength  sepalWidth    species\n",
       "count    150.000000  150.000000   150.000000  150.000000        150\n",
       "unique          NaN         NaN          NaN         NaN          3\n",
       "top             NaN         NaN          NaN         NaN  virginica\n",
       "freq            NaN         NaN          NaN         NaN         50\n",
       "mean       3.758000    1.199333     5.843333    3.057333        NaN\n",
       "std        1.765298    0.762238     0.828066    0.435866        NaN\n",
       "min        1.000000    0.100000     4.300000    2.000000        NaN\n",
       "25%        1.600000    0.300000     5.100000    2.800000        NaN\n",
       "50%        4.350000    1.300000     5.800000    3.000000        NaN\n",
       "75%        5.100000    1.800000     6.400000    3.300000        NaN\n",
       "max        6.900000    2.500000     7.900000    4.400000        NaN"
      ]
     },
     "execution_count": 7,
     "metadata": {},
     "output_type": "execute_result"
    }
   ],
   "source": [
    "iris.describe(include=\"all\")"
   ]
  },
  {
   "cell_type": "markdown",
   "metadata": {},
   "source": [
    "El ejemplo clásico consiste en graficar _sepalWidth_ versus _petalLength_ y colorear por especie. "
   ]
  },
  {
   "cell_type": "markdown",
   "metadata": {},
   "source": [
    "### Imperativo\n",
    "\n",
    "En `matplotlib` sería algo así:"
   ]
  },
  {
   "cell_type": "code",
   "execution_count": 8,
   "metadata": {},
   "outputs": [],
   "source": [
    "import matplotlib.pyplot as plt"
   ]
  },
  {
   "cell_type": "code",
   "execution_count": 9,
   "metadata": {},
   "outputs": [
    {
     "data": {
      "image/png": "[encoded data removed]",
      "text/plain": [
       "<Figure size 720x432 with 1 Axes>"
      ]
     },
     "metadata": {
      "needs_background": "light"
     },
     "output_type": "display_data"
    }
   ],
   "source": [
    "color_map = dict(zip(iris[\"species\"].unique(), \n",
    "                     [\"blue\", \"green\", \"red\"]))\n",
    "\n",
    "plt.figure(figsize=(10, 6))\n",
    "\n",
    "for species, group in iris.groupby(\"species\"):\n",
    "    plt.scatter(group[\"petalLength\"], \n",
    "                group[\"sepalWidth\"],\n",
    "                color=color_map[species],\n",
    "                alpha=0.3,\n",
    "                edgecolor=None,\n",
    "                label=species,\n",
    "               )\n",
    "    \n",
    "plt.legend(frameon=True, title=\"species\")\n",
    "plt.xlabel(\"petalLength\")\n",
    "plt.ylabel(\"sepalWidth\")\n",
    "plt.show()"
   ]
  },
  {
   "cell_type": "markdown",
   "metadata": {},
   "source": [
    "### Declarativo\n",
    "\n",
    "En `altair` sería algo así:"
   ]
  },
  {
   "cell_type": "code",
   "execution_count": 10,
   "metadata": {},
   "outputs": [
    {
     "data": {
      "text/html": [
       "\n",
       "<div id=\"altair-viz-1\"></div>\n",
       "<script type=\"text/javascript\">\n",
       "  (function(spec, embedOpt){\n",
       "    const outputDiv = document.getElementById(\"altair-viz-1\");\n",
       "    const paths = {\n",
       "      \"vega\": \"https://cdn.jsdelivr.net/npm//vega@5?noext\",\n",
       "      \"vega-lib\": \"https://cdn.jsdelivr.net/npm//vega-lib?noext\",\n",
       "      \"vega-lite\": \"https://cdn.jsdelivr.net/npm//vega-lite@4.0.0?noext\",\n",
       "      \"vega-embed\": \"https://cdn.jsdelivr.net/npm//vega-embed@6?noext\",\n",
       "    };\n",
       "\n",
       "    function loadScript(lib) {\n",
       "      return new Promise(function(resolve, reject) {\n",
       "        var s = document.createElement('script');\n",
       "        s.src = paths[lib];\n",
       "        s.async = true;\n",
       "        s.onload = () => resolve(paths[lib]);\n",
       "        s.onerror = () => reject(`Error loading script: ${paths[lib]}`);\n",
       "        document.getElementsByTagName(\"head\")[0].appendChild(s);\n",
       "      });\n",
       "    }\n",
       "\n",
       "    function showError(err) {\n",
       "      outputDiv.innerHTML = `<div class=\"error\" style=\"color:red;\">${err}</div>`;\n",
       "      throw err;\n",
       "    }\n",
       "\n",
       "    function displayChart(vegaEmbed) {\n",
       "      vegaEmbed(outputDiv, spec, embedOpt)\n",
       "        .catch(err => showError(`Javascript Error: ${err.message}<br>This usually means there's a typo in your chart specification. See the javascript console for the full traceback.`));\n",
       "    }\n",
       "\n",
       "    if(typeof define === \"function\" && define.amd) {\n",
       "      requirejs.config({paths});\n",
       "      require([\"vega-embed\"], displayChart, err => showError(`Error loading script: ${err.message}`));\n",
       "    } else if (typeof vegaEmbed === \"function\") {\n",
       "      displayChart(vegaEmbed);\n",
       "    } else {\n",
       "      loadScript(\"vega\")\n",
       "        .then(() => loadScript(\"vega-lite\"))\n",
       "        .then(() => loadScript(\"vega-embed\"))\n",
       "        .catch(showError)\n",
       "        .then(() => displayChart(vegaEmbed));\n",
       "    }\n",
       "  })({\"config\": {\"background\": \"white\", \"view\": {\"continuousWidth\": 400, \"continuousHeight\": 300}}, \"data\": {\"name\": \"data-a264acbd6e539a8b3afc0cb5f240fb57\"}, \"mark\": \"point\", \"encoding\": {\"color\": {\"type\": \"nominal\", \"field\": \"species\"}, \"x\": {\"type\": \"quantitative\", \"field\": \"petalLength\"}, \"y\": {\"type\": \"quantitative\", \"field\": \"sepalWidth\"}}, \"$schema\": \"https://vega.github.io/schema/vega-lite/v4.0.0.json\", \"datasets\": {\"data-a264acbd6e539a8b3afc0cb5f240fb57\": [{\"petalLength\": 1.4, \"petalWidth\": 0.2, \"sepalLength\": 5.1, \"sepalWidth\": 3.5, \"species\": \"setosa\"}, {\"petalLength\": 1.4, \"petalWidth\": 0.2, \"sepalLength\": 4.9, \"sepalWidth\": 3.0, \"species\": \"setosa\"}, {\"petalLength\": 1.3, \"petalWidth\": 0.2, \"sepalLength\": 4.7, \"sepalWidth\": 3.2, \"species\": \"setosa\"}, {\"petalLength\": 1.5, \"petalWidth\": 0.2, \"sepalLength\": 4.6, \"sepalWidth\": 3.1, \"species\": \"setosa\"}, {\"petalLength\": 1.4, \"petalWidth\": 0.2, \"sepalLength\": 5.0, \"sepalWidth\": 3.6, \"species\": \"setosa\"}, {\"petalLength\": 1.7000000000000002, \"petalWidth\": 0.4, \"sepalLength\": 5.4, \"sepalWidth\": 3.9, \"species\": \"setosa\"}, {\"petalLength\": 1.4, \"petalWidth\": 0.30000000000000004, \"sepalLength\": 4.6, \"sepalWidth\": 3.4, \"species\": \"setosa\"}, {\"petalLength\": 1.5, \"petalWidth\": 0.2, \"sepalLength\": 5.0, \"sepalWidth\": 3.4, \"species\": \"setosa\"}, {\"petalLength\": 1.4, \"petalWidth\": 0.2, \"sepalLength\": 4.4, \"sepalWidth\": 2.9, \"species\": \"setosa\"}, {\"petalLength\": 1.5, \"petalWidth\": 0.1, \"sepalLength\": 4.9, \"sepalWidth\": 3.1, \"species\": \"setosa\"}, {\"petalLength\": 1.5, \"petalWidth\": 0.2, \"sepalLength\": 5.4, \"sepalWidth\": 3.7, \"species\": \"setosa\"}, {\"petalLength\": 1.6, \"petalWidth\": 0.2, \"sepalLength\": 4.8, \"sepalWidth\": 3.4, \"species\": \"setosa\"}, {\"petalLength\": 1.4, \"petalWidth\": 0.1, \"sepalLength\": 4.8, \"sepalWidth\": 3.0, \"species\": \"setosa\"}, {\"petalLength\": 1.1, \"petalWidth\": 0.1, \"sepalLength\": 4.3, \"sepalWidth\": 3.0, \"species\": \"setosa\"}, {\"petalLength\": 1.2, \"petalWidth\": 0.2, \"sepalLength\": 5.8, \"sepalWidth\": 4.0, \"species\": \"setosa\"}, {\"petalLength\": 1.5, \"petalWidth\": 0.4, \"sepalLength\": 5.7, \"sepalWidth\": 4.4, \"species\": \"setosa\"}, {\"petalLength\": 1.3, \"petalWidth\": 0.4, \"sepalLength\": 5.4, \"sepalWidth\": 3.9, \"species\": \"setosa\"}, {\"petalLength\": 1.4, \"petalWidth\": 0.30000000000000004, \"sepalLength\": 5.1, \"sepalWidth\": 3.5, \"species\": \"setosa\"}, {\"petalLength\": 1.7000000000000002, \"petalWidth\": 0.30000000000000004, \"sepalLength\": 5.7, \"sepalWidth\": 3.8, \"species\": \"setosa\"}, {\"petalLength\": 1.5, \"petalWidth\": 0.30000000000000004, \"sepalLength\": 5.1, \"sepalWidth\": 3.8, \"species\": \"setosa\"}, {\"petalLength\": 1.7000000000000002, \"petalWidth\": 0.2, \"sepalLength\": 5.4, \"sepalWidth\": 3.4, \"species\": \"setosa\"}, {\"petalLength\": 1.5, \"petalWidth\": 0.4, \"sepalLength\": 5.1, \"sepalWidth\": 3.7, \"species\": \"setosa\"}, {\"petalLength\": 1.0, \"petalWidth\": 0.2, \"sepalLength\": 4.6, \"sepalWidth\": 3.6, \"species\": \"setosa\"}, {\"petalLength\": 1.7000000000000002, \"petalWidth\": 0.5, \"sepalLength\": 5.1, \"sepalWidth\": 3.3, \"species\": \"setosa\"}, {\"petalLength\": 1.9, \"petalWidth\": 0.2, \"sepalLength\": 4.8, \"sepalWidth\": 3.4, \"species\": \"setosa\"}, {\"petalLength\": 1.6, \"petalWidth\": 0.2, \"sepalLength\": 5.0, \"sepalWidth\": 3.0, \"species\": \"setosa\"}, {\"petalLength\": 1.6, \"petalWidth\": 0.4, \"sepalLength\": 5.0, \"sepalWidth\": 3.4, \"species\": \"setosa\"}, {\"petalLength\": 1.5, \"petalWidth\": 0.2, \"sepalLength\": 5.2, \"sepalWidth\": 3.5, \"species\": \"setosa\"}, {\"petalLength\": 1.4, \"petalWidth\": 0.2, \"sepalLength\": 5.2, \"sepalWidth\": 3.4, \"species\": \"setosa\"}, {\"petalLength\": 1.6, \"petalWidth\": 0.2, \"sepalLength\": 4.7, \"sepalWidth\": 3.2, \"species\": \"setosa\"}, {\"petalLength\": 1.6, \"petalWidth\": 0.2, \"sepalLength\": 4.8, \"sepalWidth\": 3.1, \"species\": \"setosa\"}, {\"petalLength\": 1.5, \"petalWidth\": 0.4, \"sepalLength\": 5.4, \"sepalWidth\": 3.4, \"species\": \"setosa\"}, {\"petalLength\": 1.5, \"petalWidth\": 0.1, \"sepalLength\": 5.2, \"sepalWidth\": 4.1, \"species\": \"setosa\"}, {\"petalLength\": 1.4, \"petalWidth\": 0.2, \"sepalLength\": 5.5, \"sepalWidth\": 4.2, \"species\": \"setosa\"}, {\"petalLength\": 1.5, \"petalWidth\": 0.2, \"sepalLength\": 4.9, \"sepalWidth\": 3.1, \"species\": \"setosa\"}, {\"petalLength\": 1.2, \"petalWidth\": 0.2, \"sepalLength\": 5.0, \"sepalWidth\": 3.2, \"species\": \"setosa\"}, {\"petalLength\": 1.3, \"petalWidth\": 0.2, \"sepalLength\": 5.5, \"sepalWidth\": 3.5, \"species\": \"setosa\"}, {\"petalLength\": 1.4, \"petalWidth\": 0.1, \"sepalLength\": 4.9, \"sepalWidth\": 3.6, \"species\": \"setosa\"}, {\"petalLength\": 1.3, \"petalWidth\": 0.2, \"sepalLength\": 4.4, \"sepalWidth\": 3.0, \"species\": \"setosa\"}, {\"petalLength\": 1.5, \"petalWidth\": 0.2, \"sepalLength\": 5.1, \"sepalWidth\": 3.4, \"species\": \"setosa\"}, {\"petalLength\": 1.3, \"petalWidth\": 0.30000000000000004, \"sepalLength\": 5.0, \"sepalWidth\": 3.5, \"species\": \"setosa\"}, {\"petalLength\": 1.3, \"petalWidth\": 0.30000000000000004, \"sepalLength\": 4.5, \"sepalWidth\": 2.3, \"species\": \"setosa\"}, {\"petalLength\": 1.3, \"petalWidth\": 0.2, \"sepalLength\": 4.4, \"sepalWidth\": 3.2, \"species\": \"setosa\"}, {\"petalLength\": 1.6, \"petalWidth\": 0.6000000000000001, \"sepalLength\": 5.0, \"sepalWidth\": 3.5, \"species\": \"setosa\"}, {\"petalLength\": 1.9, \"petalWidth\": 0.4, \"sepalLength\": 5.1, \"sepalWidth\": 3.8, \"species\": \"setosa\"}, {\"petalLength\": 1.4, \"petalWidth\": 0.30000000000000004, \"sepalLength\": 4.8, \"sepalWidth\": 3.0, \"species\": \"setosa\"}, {\"petalLength\": 1.6, \"petalWidth\": 0.2, \"sepalLength\": 5.1, \"sepalWidth\": 3.8, \"species\": \"setosa\"}, {\"petalLength\": 1.4, \"petalWidth\": 0.2, \"sepalLength\": 4.6, \"sepalWidth\": 3.2, \"species\": \"setosa\"}, {\"petalLength\": 1.5, \"petalWidth\": 0.2, \"sepalLength\": 5.3, \"sepalWidth\": 3.7, \"species\": \"setosa\"}, {\"petalLength\": 1.4, \"petalWidth\": 0.2, \"sepalLength\": 5.0, \"sepalWidth\": 3.3, \"species\": \"setosa\"}, {\"petalLength\": 4.7, \"petalWidth\": 1.4, \"sepalLength\": 7.0, \"sepalWidth\": 3.2, \"species\": \"versicolor\"}, {\"petalLength\": 4.5, \"petalWidth\": 1.5, \"sepalLength\": 6.4, \"sepalWidth\": 3.2, \"species\": \"versicolor\"}, {\"petalLength\": 4.9, \"petalWidth\": 1.5, \"sepalLength\": 6.9, \"sepalWidth\": 3.1, \"species\": \"versicolor\"}, {\"petalLength\": 4.0, \"petalWidth\": 1.3, \"sepalLength\": 5.5, \"sepalWidth\": 2.3, \"species\": \"versicolor\"}, {\"petalLength\": 4.6, \"petalWidth\": 1.5, \"sepalLength\": 6.5, \"sepalWidth\": 2.8, \"species\": \"versicolor\"}, {\"petalLength\": 4.5, \"petalWidth\": 1.3, \"sepalLength\": 5.7, \"sepalWidth\": 2.8, \"species\": \"versicolor\"}, {\"petalLength\": 4.7, \"petalWidth\": 1.6, \"sepalLength\": 6.3, \"sepalWidth\": 3.3, \"species\": \"versicolor\"}, {\"petalLength\": 3.3, \"petalWidth\": 1.0, \"sepalLength\": 4.9, \"sepalWidth\": 2.4, \"species\": \"versicolor\"}, {\"petalLength\": 4.6, \"petalWidth\": 1.3, \"sepalLength\": 6.6, \"sepalWidth\": 2.9, \"species\": \"versicolor\"}, {\"petalLength\": 3.9, \"petalWidth\": 1.4, \"sepalLength\": 5.2, \"sepalWidth\": 2.7, \"species\": \"versicolor\"}, {\"petalLength\": 3.5, \"petalWidth\": 1.0, \"sepalLength\": 5.0, \"sepalWidth\": 2.0, \"species\": \"versicolor\"}, {\"petalLength\": 4.2, \"petalWidth\": 1.5, \"sepalLength\": 5.9, \"sepalWidth\": 3.0, \"species\": \"versicolor\"}, {\"petalLength\": 4.0, \"petalWidth\": 1.0, \"sepalLength\": 6.0, \"sepalWidth\": 2.2, \"species\": \"versicolor\"}, {\"petalLength\": 4.7, \"petalWidth\": 1.4, \"sepalLength\": 6.1, \"sepalWidth\": 2.9, \"species\": \"versicolor\"}, {\"petalLength\": 3.6, \"petalWidth\": 1.3, \"sepalLength\": 5.6, \"sepalWidth\": 2.9, \"species\": \"versicolor\"}, {\"petalLength\": 4.4, \"petalWidth\": 1.4, \"sepalLength\": 6.7, \"sepalWidth\": 3.1, \"species\": \"versicolor\"}, {\"petalLength\": 4.5, \"petalWidth\": 1.5, \"sepalLength\": 5.6, \"sepalWidth\": 3.0, \"species\": \"versicolor\"}, {\"petalLength\": 4.1, \"petalWidth\": 1.0, \"sepalLength\": 5.8, \"sepalWidth\": 2.7, \"species\": \"versicolor\"}, {\"petalLength\": 4.5, \"petalWidth\": 1.5, \"sepalLength\": 6.2, \"sepalWidth\": 2.2, \"species\": \"versicolor\"}, {\"petalLength\": 3.9, \"petalWidth\": 1.1, \"sepalLength\": 5.6, \"sepalWidth\": 2.5, \"species\": \"versicolor\"}, {\"petalLength\": 4.8, \"petalWidth\": 1.8, \"sepalLength\": 5.9, \"sepalWidth\": 3.2, \"species\": \"versicolor\"}, {\"petalLength\": 4.0, \"petalWidth\": 1.3, \"sepalLength\": 6.1, \"sepalWidth\": 2.8, \"species\": \"versicolor\"}, {\"petalLength\": 4.9, \"petalWidth\": 1.5, \"sepalLength\": 6.3, \"sepalWidth\": 2.5, \"species\": \"versicolor\"}, {\"petalLength\": 4.7, \"petalWidth\": 1.2, \"sepalLength\": 6.1, \"sepalWidth\": 2.8, \"species\": \"versicolor\"}, {\"petalLength\": 4.3, \"petalWidth\": 1.3, \"sepalLength\": 6.4, \"sepalWidth\": 2.9, \"species\": \"versicolor\"}, {\"petalLength\": 4.4, \"petalWidth\": 1.4, \"sepalLength\": 6.6, \"sepalWidth\": 3.0, \"species\": \"versicolor\"}, {\"petalLength\": 4.8, \"petalWidth\": 1.4, \"sepalLength\": 6.8, \"sepalWidth\": 2.8, \"species\": \"versicolor\"}, {\"petalLength\": 5.0, \"petalWidth\": 1.7000000000000002, \"sepalLength\": 6.7, \"sepalWidth\": 3.0, \"species\": \"versicolor\"}, {\"petalLength\": 4.5, \"petalWidth\": 1.5, \"sepalLength\": 6.0, \"sepalWidth\": 2.9, \"species\": \"versicolor\"}, {\"petalLength\": 3.5, \"petalWidth\": 1.0, \"sepalLength\": 5.7, \"sepalWidth\": 2.6, \"species\": \"versicolor\"}, {\"petalLength\": 3.8, \"petalWidth\": 1.1, \"sepalLength\": 5.5, \"sepalWidth\": 2.4, \"species\": \"versicolor\"}, {\"petalLength\": 3.7, \"petalWidth\": 1.0, \"sepalLength\": 5.5, \"sepalWidth\": 2.4, \"species\": \"versicolor\"}, {\"petalLength\": 3.9, \"petalWidth\": 1.2, \"sepalLength\": 5.8, \"sepalWidth\": 2.7, \"species\": \"versicolor\"}, {\"petalLength\": 5.1, \"petalWidth\": 1.6, \"sepalLength\": 6.0, \"sepalWidth\": 2.7, \"species\": \"versicolor\"}, {\"petalLength\": 4.5, \"petalWidth\": 1.5, \"sepalLength\": 5.4, \"sepalWidth\": 3.0, \"species\": \"versicolor\"}, {\"petalLength\": 4.5, \"petalWidth\": 1.6, \"sepalLength\": 6.0, \"sepalWidth\": 3.4, \"species\": \"versicolor\"}, {\"petalLength\": 4.7, \"petalWidth\": 1.5, \"sepalLength\": 6.7, \"sepalWidth\": 3.1, \"species\": \"versicolor\"}, {\"petalLength\": 4.4, \"petalWidth\": 1.3, \"sepalLength\": 6.3, \"sepalWidth\": 2.3, \"species\": \"versicolor\"}, {\"petalLength\": 4.1, \"petalWidth\": 1.3, \"sepalLength\": 5.6, \"sepalWidth\": 3.0, \"species\": \"versicolor\"}, {\"petalLength\": 4.0, \"petalWidth\": 1.3, \"sepalLength\": 5.5, \"sepalWidth\": 2.5, \"species\": \"versicolor\"}, {\"petalLength\": 4.4, \"petalWidth\": 1.2, \"sepalLength\": 5.5, \"sepalWidth\": 2.6, \"species\": \"versicolor\"}, {\"petalLength\": 4.6, \"petalWidth\": 1.4, \"sepalLength\": 6.1, \"sepalWidth\": 3.0, \"species\": \"versicolor\"}, {\"petalLength\": 4.0, \"petalWidth\": 1.2, \"sepalLength\": 5.8, \"sepalWidth\": 2.6, \"species\": \"versicolor\"}, {\"petalLength\": 3.3, \"petalWidth\": 1.0, \"sepalLength\": 5.0, \"sepalWidth\": 2.3, \"species\": \"versicolor\"}, {\"petalLength\": 4.2, \"petalWidth\": 1.3, \"sepalLength\": 5.6, \"sepalWidth\": 2.7, \"species\": \"versicolor\"}, {\"petalLength\": 4.2, \"petalWidth\": 1.2, \"sepalLength\": 5.7, \"sepalWidth\": 3.0, \"species\": \"versicolor\"}, {\"petalLength\": 4.2, \"petalWidth\": 1.3, \"sepalLength\": 5.7, \"sepalWidth\": 2.9, \"species\": \"versicolor\"}, {\"petalLength\": 4.3, \"petalWidth\": 1.3, \"sepalLength\": 6.2, \"sepalWidth\": 2.9, \"species\": \"versicolor\"}, {\"petalLength\": 3.0, \"petalWidth\": 1.1, \"sepalLength\": 5.1, \"sepalWidth\": 2.5, \"species\": \"versicolor\"}, {\"petalLength\": 4.1, \"petalWidth\": 1.3, \"sepalLength\": 5.7, \"sepalWidth\": 2.8, \"species\": \"versicolor\"}, {\"petalLength\": 6.0, \"petalWidth\": 2.5, \"sepalLength\": 6.3, \"sepalWidth\": 3.3, \"species\": \"virginica\"}, {\"petalLength\": 5.1, \"petalWidth\": 1.9, \"sepalLength\": 5.8, \"sepalWidth\": 2.7, \"species\": \"virginica\"}, {\"petalLength\": 5.9, \"petalWidth\": 2.1, \"sepalLength\": 7.1, \"sepalWidth\": 3.0, \"species\": \"virginica\"}, {\"petalLength\": 5.6, \"petalWidth\": 1.8, \"sepalLength\": 6.3, \"sepalWidth\": 2.9, \"species\": \"virginica\"}, {\"petalLength\": 5.8, \"petalWidth\": 2.2, \"sepalLength\": 6.5, \"sepalWidth\": 3.0, \"species\": \"virginica\"}, {\"petalLength\": 6.6, \"petalWidth\": 2.1, \"sepalLength\": 7.6, \"sepalWidth\": 3.0, \"species\": \"virginica\"}, {\"petalLength\": 4.5, \"petalWidth\": 1.7000000000000002, \"sepalLength\": 4.9, \"sepalWidth\": 2.5, \"species\": \"virginica\"}, {\"petalLength\": 6.3, \"petalWidth\": 1.8, \"sepalLength\": 7.3, \"sepalWidth\": 2.9, \"species\": \"virginica\"}, {\"petalLength\": 5.8, \"petalWidth\": 1.8, \"sepalLength\": 6.7, \"sepalWidth\": 2.5, \"species\": \"virginica\"}, {\"petalLength\": 6.1, \"petalWidth\": 2.5, \"sepalLength\": 7.2, \"sepalWidth\": 3.6, \"species\": \"virginica\"}, {\"petalLength\": 5.1, \"petalWidth\": 2.0, \"sepalLength\": 6.5, \"sepalWidth\": 3.2, \"species\": \"virginica\"}, {\"petalLength\": 5.3, \"petalWidth\": 1.9, \"sepalLength\": 6.4, \"sepalWidth\": 2.7, \"species\": \"virginica\"}, {\"petalLength\": 5.5, \"petalWidth\": 2.1, \"sepalLength\": 6.8, \"sepalWidth\": 3.0, \"species\": \"virginica\"}, {\"petalLength\": 5.0, \"petalWidth\": 2.0, \"sepalLength\": 5.7, \"sepalWidth\": 2.5, \"species\": \"virginica\"}, {\"petalLength\": 5.1, \"petalWidth\": 2.4, \"sepalLength\": 5.8, \"sepalWidth\": 2.8, \"species\": \"virginica\"}, {\"petalLength\": 5.3, \"petalWidth\": 2.3, \"sepalLength\": 6.4, \"sepalWidth\": 3.2, \"species\": \"virginica\"}, {\"petalLength\": 5.5, \"petalWidth\": 1.8, \"sepalLength\": 6.5, \"sepalWidth\": 3.0, \"species\": \"virginica\"}, {\"petalLength\": 6.7, \"petalWidth\": 2.2, \"sepalLength\": 7.7, \"sepalWidth\": 3.8, \"species\": \"virginica\"}, {\"petalLength\": 6.9, \"petalWidth\": 2.3, \"sepalLength\": 7.7, \"sepalWidth\": 2.6, \"species\": \"virginica\"}, {\"petalLength\": 5.0, \"petalWidth\": 1.5, \"sepalLength\": 6.0, \"sepalWidth\": 2.2, \"species\": \"virginica\"}, {\"petalLength\": 5.7, \"petalWidth\": 2.3, \"sepalLength\": 6.9, \"sepalWidth\": 3.2, \"species\": \"virginica\"}, {\"petalLength\": 4.9, \"petalWidth\": 2.0, \"sepalLength\": 5.6, \"sepalWidth\": 2.8, \"species\": \"virginica\"}, {\"petalLength\": 6.7, \"petalWidth\": 2.0, \"sepalLength\": 7.7, \"sepalWidth\": 2.8, \"species\": \"virginica\"}, {\"petalLength\": 4.9, \"petalWidth\": 1.8, \"sepalLength\": 6.3, \"sepalWidth\": 2.7, \"species\": \"virginica\"}, {\"petalLength\": 5.7, \"petalWidth\": 2.1, \"sepalLength\": 6.7, \"sepalWidth\": 3.3, \"species\": \"virginica\"}, {\"petalLength\": 6.0, \"petalWidth\": 1.8, \"sepalLength\": 7.2, \"sepalWidth\": 3.2, \"species\": \"virginica\"}, {\"petalLength\": 4.8, \"petalWidth\": 1.8, \"sepalLength\": 6.2, \"sepalWidth\": 2.8, \"species\": \"virginica\"}, {\"petalLength\": 4.9, \"petalWidth\": 1.8, \"sepalLength\": 6.1, \"sepalWidth\": 3.0, \"species\": \"virginica\"}, {\"petalLength\": 5.6, \"petalWidth\": 2.1, \"sepalLength\": 6.4, \"sepalWidth\": 2.8, \"species\": \"virginica\"}, {\"petalLength\": 5.8, \"petalWidth\": 1.6, \"sepalLength\": 7.2, \"sepalWidth\": 3.0, \"species\": \"virginica\"}, {\"petalLength\": 6.1, \"petalWidth\": 1.9, \"sepalLength\": 7.4, \"sepalWidth\": 2.8, \"species\": \"virginica\"}, {\"petalLength\": 6.4, \"petalWidth\": 2.0, \"sepalLength\": 7.9, \"sepalWidth\": 3.8, \"species\": \"virginica\"}, {\"petalLength\": 5.6, \"petalWidth\": 2.2, \"sepalLength\": 6.4, \"sepalWidth\": 2.8, \"species\": \"virginica\"}, {\"petalLength\": 5.1, \"petalWidth\": 1.5, \"sepalLength\": 6.3, \"sepalWidth\": 2.8, \"species\": \"virginica\"}, {\"petalLength\": 5.6, \"petalWidth\": 1.4, \"sepalLength\": 6.1, \"sepalWidth\": 2.6, \"species\": \"virginica\"}, {\"petalLength\": 6.1, \"petalWidth\": 2.3, \"sepalLength\": 7.7, \"sepalWidth\": 3.0, \"species\": \"virginica\"}, {\"petalLength\": 5.6, \"petalWidth\": 2.4, \"sepalLength\": 6.3, \"sepalWidth\": 3.4, \"species\": \"virginica\"}, {\"petalLength\": 5.5, \"petalWidth\": 1.8, \"sepalLength\": 6.4, \"sepalWidth\": 3.1, \"species\": \"virginica\"}, {\"petalLength\": 4.8, \"petalWidth\": 1.8, \"sepalLength\": 6.0, \"sepalWidth\": 3.0, \"species\": \"virginica\"}, {\"petalLength\": 5.4, \"petalWidth\": 2.1, \"sepalLength\": 6.9, \"sepalWidth\": 3.1, \"species\": \"virginica\"}, {\"petalLength\": 5.6, \"petalWidth\": 2.4, \"sepalLength\": 6.7, \"sepalWidth\": 3.1, \"species\": \"virginica\"}, {\"petalLength\": 5.1, \"petalWidth\": 2.3, \"sepalLength\": 6.9, \"sepalWidth\": 3.1, \"species\": \"virginica\"}, {\"petalLength\": 5.1, \"petalWidth\": 1.9, \"sepalLength\": 5.8, \"sepalWidth\": 2.7, \"species\": \"virginica\"}, {\"petalLength\": 5.9, \"petalWidth\": 2.3, \"sepalLength\": 6.8, \"sepalWidth\": 3.2, \"species\": \"virginica\"}, {\"petalLength\": 5.7, \"petalWidth\": 2.5, \"sepalLength\": 6.7, \"sepalWidth\": 3.3, \"species\": \"virginica\"}, {\"petalLength\": 5.2, \"petalWidth\": 2.3, \"sepalLength\": 6.7, \"sepalWidth\": 3.0, \"species\": \"virginica\"}, {\"petalLength\": 5.0, \"petalWidth\": 1.9, \"sepalLength\": 6.3, \"sepalWidth\": 2.5, \"species\": \"virginica\"}, {\"petalLength\": 5.2, \"petalWidth\": 2.0, \"sepalLength\": 6.5, \"sepalWidth\": 3.0, \"species\": \"virginica\"}, {\"petalLength\": 5.4, \"petalWidth\": 2.3, \"sepalLength\": 6.2, \"sepalWidth\": 3.4, \"species\": \"virginica\"}, {\"petalLength\": 5.1, \"petalWidth\": 1.8, \"sepalLength\": 5.9, \"sepalWidth\": 3.0, \"species\": \"virginica\"}]}}, {\"mode\": \"vega-lite\"});\n",
       "</script>"
      ],
      "text/plain": [
       "alt.Chart(...)"
      ]
     },
     "execution_count": 10,
     "metadata": {},
     "output_type": "execute_result"
    }
   ],
   "source": [
    "alt.Chart(iris).mark_point().encode(\n",
    "    x=\"petalLength\",\n",
    "    y=\"sepalWidth\",\n",
    "    color=\"species\"\n",
    ")"
   ]
  },
  {
   "cell_type": "markdown",
   "metadata": {},
   "source": [
    "Spoiler: Solo bastan un par de líneas extras para crear un gráfico interactivo!"
   ]
  },
  {
   "cell_type": "code",
   "execution_count": 11,
   "metadata": {},
   "outputs": [
    {
     "data": {
      "text/html": [
       "\n",
       "<div id=\"altair-viz-2\"></div>\n",
       "<script type=\"text/javascript\">\n",
       "  (function(spec, embedOpt){\n",
       "    const outputDiv = document.getElementById(\"altair-viz-2\");\n",
       "    const paths = {\n",
       "      \"vega\": \"https://cdn.jsdelivr.net/npm//vega@5?noext\",\n",
       "      \"vega-lib\": \"https://cdn.jsdelivr.net/npm//vega-lib?noext\",\n",
       "      \"vega-lite\": \"https://cdn.jsdelivr.net/npm//vega-lite@4.0.0?noext\",\n",
       "      \"vega-embed\": \"https://cdn.jsdelivr.net/npm//vega-embed@6?noext\",\n",
       "    };\n",
       "\n",
       "    function loadScript(lib) {\n",
       "      return new Promise(function(resolve, reject) {\n",
       "        var s = document.createElement('script');\n",
       "        s.src = paths[lib];\n",
       "        s.async = true;\n",
       "        s.onload = () => resolve(paths[lib]);\n",
       "        s.onerror = () => reject(`Error loading script: ${paths[lib]}`);\n",
       "        document.getElementsByTagName(\"head\")[0].appendChild(s);\n",
       "      });\n",
       "    }\n",
       "\n",
       "    function showError(err) {\n",
       "      outputDiv.innerHTML = `<div class=\"error\" style=\"color:red;\">${err}</div>`;\n",
       "      throw err;\n",
       "    }\n",
       "\n",
       "    function displayChart(vegaEmbed) {\n",
       "      vegaEmbed(outputDiv, spec, embedOpt)\n",
       "        .catch(err => showError(`Javascript Error: ${err.message}<br>This usually means there's a typo in your chart specification. See the javascript console for the full traceback.`));\n",
       "    }\n",
       "\n",
       "    if(typeof define === \"function\" && define.amd) {\n",
       "      requirejs.config({paths});\n",
       "      require([\"vega-embed\"], displayChart, err => showError(`Error loading script: ${err.message}`));\n",
       "    } else if (typeof vegaEmbed === \"function\") {\n",
       "      displayChart(vegaEmbed);\n",
       "    } else {\n",
       "      loadScript(\"vega\")\n",
       "        .then(() => loadScript(\"vega-lite\"))\n",
       "        .then(() => loadScript(\"vega-embed\"))\n",
       "        .catch(showError)\n",
       "        .then(() => displayChart(vegaEmbed));\n",
       "    }\n",
       "  })({\"config\": {\"background\": \"white\", \"view\": {\"continuousWidth\": 400, \"continuousHeight\": 300}}, \"data\": {\"name\": \"data-a264acbd6e539a8b3afc0cb5f240fb57\"}, \"mark\": \"point\", \"encoding\": {\"color\": {\"type\": \"nominal\", \"field\": \"species\"}, \"tooltip\": {\"type\": \"nominal\", \"field\": \"species\"}, \"x\": {\"type\": \"quantitative\", \"field\": \"petalLength\"}, \"y\": {\"type\": \"quantitative\", \"field\": \"sepalWidth\"}}, \"selection\": {\"selector001\": {\"type\": \"interval\", \"bind\": \"scales\", \"encodings\": [\"x\", \"y\"]}}, \"$schema\": \"https://vega.github.io/schema/vega-lite/v4.0.0.json\", \"datasets\": {\"data-a264acbd6e539a8b3afc0cb5f240fb57\": [{\"petalLength\": 1.4, \"petalWidth\": 0.2, \"sepalLength\": 5.1, \"sepalWidth\": 3.5, \"species\": \"setosa\"}, {\"petalLength\": 1.4, \"petalWidth\": 0.2, \"sepalLength\": 4.9, \"sepalWidth\": 3.0, \"species\": \"setosa\"}, {\"petalLength\": 1.3, \"petalWidth\": 0.2, \"sepalLength\": 4.7, \"sepalWidth\": 3.2, \"species\": \"setosa\"}, {\"petalLength\": 1.5, \"petalWidth\": 0.2, \"sepalLength\": 4.6, \"sepalWidth\": 3.1, \"species\": \"setosa\"}, {\"petalLength\": 1.4, \"petalWidth\": 0.2, \"sepalLength\": 5.0, \"sepalWidth\": 3.6, \"species\": \"setosa\"}, {\"petalLength\": 1.7000000000000002, \"petalWidth\": 0.4, \"sepalLength\": 5.4, \"sepalWidth\": 3.9, \"species\": \"setosa\"}, {\"petalLength\": 1.4, \"petalWidth\": 0.30000000000000004, \"sepalLength\": 4.6, \"sepalWidth\": 3.4, \"species\": \"setosa\"}, {\"petalLength\": 1.5, \"petalWidth\": 0.2, \"sepalLength\": 5.0, \"sepalWidth\": 3.4, \"species\": \"setosa\"}, {\"petalLength\": 1.4, \"petalWidth\": 0.2, \"sepalLength\": 4.4, \"sepalWidth\": 2.9, \"species\": \"setosa\"}, {\"petalLength\": 1.5, \"petalWidth\": 0.1, \"sepalLength\": 4.9, \"sepalWidth\": 3.1, \"species\": \"setosa\"}, {\"petalLength\": 1.5, \"petalWidth\": 0.2, \"sepalLength\": 5.4, \"sepalWidth\": 3.7, \"species\": \"setosa\"}, {\"petalLength\": 1.6, \"petalWidth\": 0.2, \"sepalLength\": 4.8, \"sepalWidth\": 3.4, \"species\": \"setosa\"}, {\"petalLength\": 1.4, \"petalWidth\": 0.1, \"sepalLength\": 4.8, \"sepalWidth\": 3.0, \"species\": \"setosa\"}, {\"petalLength\": 1.1, \"petalWidth\": 0.1, \"sepalLength\": 4.3, \"sepalWidth\": 3.0, \"species\": \"setosa\"}, {\"petalLength\": 1.2, \"petalWidth\": 0.2, \"sepalLength\": 5.8, \"sepalWidth\": 4.0, \"species\": \"setosa\"}, {\"petalLength\": 1.5, \"petalWidth\": 0.4, \"sepalLength\": 5.7, \"sepalWidth\": 4.4, \"species\": \"setosa\"}, {\"petalLength\": 1.3, \"petalWidth\": 0.4, \"sepalLength\": 5.4, \"sepalWidth\": 3.9, \"species\": \"setosa\"}, {\"petalLength\": 1.4, \"petalWidth\": 0.30000000000000004, \"sepalLength\": 5.1, \"sepalWidth\": 3.5, \"species\": \"setosa\"}, {\"petalLength\": 1.7000000000000002, \"petalWidth\": 0.30000000000000004, \"sepalLength\": 5.7, \"sepalWidth\": 3.8, \"species\": \"setosa\"}, {\"petalLength\": 1.5, \"petalWidth\": 0.30000000000000004, \"sepalLength\": 5.1, \"sepalWidth\": 3.8, \"species\": \"setosa\"}, {\"petalLength\": 1.7000000000000002, \"petalWidth\": 0.2, \"sepalLength\": 5.4, \"sepalWidth\": 3.4, \"species\": \"setosa\"}, {\"petalLength\": 1.5, \"petalWidth\": 0.4, \"sepalLength\": 5.1, \"sepalWidth\": 3.7, \"species\": \"setosa\"}, {\"petalLength\": 1.0, \"petalWidth\": 0.2, \"sepalLength\": 4.6, \"sepalWidth\": 3.6, \"species\": \"setosa\"}, {\"petalLength\": 1.7000000000000002, \"petalWidth\": 0.5, \"sepalLength\": 5.1, \"sepalWidth\": 3.3, \"species\": \"setosa\"}, {\"petalLength\": 1.9, \"petalWidth\": 0.2, \"sepalLength\": 4.8, \"sepalWidth\": 3.4, \"species\": \"setosa\"}, {\"petalLength\": 1.6, \"petalWidth\": 0.2, \"sepalLength\": 5.0, \"sepalWidth\": 3.0, \"species\": \"setosa\"}, {\"petalLength\": 1.6, \"petalWidth\": 0.4, \"sepalLength\": 5.0, \"sepalWidth\": 3.4, \"species\": \"setosa\"}, {\"petalLength\": 1.5, \"petalWidth\": 0.2, \"sepalLength\": 5.2, \"sepalWidth\": 3.5, \"species\": \"setosa\"}, {\"petalLength\": 1.4, \"petalWidth\": 0.2, \"sepalLength\": 5.2, \"sepalWidth\": 3.4, \"species\": \"setosa\"}, {\"petalLength\": 1.6, \"petalWidth\": 0.2, \"sepalLength\": 4.7, \"sepalWidth\": 3.2, \"species\": \"setosa\"}, {\"petalLength\": 1.6, \"petalWidth\": 0.2, \"sepalLength\": 4.8, \"sepalWidth\": 3.1, \"species\": \"setosa\"}, {\"petalLength\": 1.5, \"petalWidth\": 0.4, \"sepalLength\": 5.4, \"sepalWidth\": 3.4, \"species\": \"setosa\"}, {\"petalLength\": 1.5, \"petalWidth\": 0.1, \"sepalLength\": 5.2, \"sepalWidth\": 4.1, \"species\": \"setosa\"}, {\"petalLength\": 1.4, \"petalWidth\": 0.2, \"sepalLength\": 5.5, \"sepalWidth\": 4.2, \"species\": \"setosa\"}, {\"petalLength\": 1.5, \"petalWidth\": 0.2, \"sepalLength\": 4.9, \"sepalWidth\": 3.1, \"species\": \"setosa\"}, {\"petalLength\": 1.2, \"petalWidth\": 0.2, \"sepalLength\": 5.0, \"sepalWidth\": 3.2, \"species\": \"setosa\"}, {\"petalLength\": 1.3, \"petalWidth\": 0.2, \"sepalLength\": 5.5, \"sepalWidth\": 3.5, \"species\": \"setosa\"}, {\"petalLength\": 1.4, \"petalWidth\": 0.1, \"sepalLength\": 4.9, \"sepalWidth\": 3.6, \"species\": \"setosa\"}, {\"petalLength\": 1.3, \"petalWidth\": 0.2, \"sepalLength\": 4.4, \"sepalWidth\": 3.0, \"species\": \"setosa\"}, {\"petalLength\": 1.5, \"petalWidth\": 0.2, \"sepalLength\": 5.1, \"sepalWidth\": 3.4, \"species\": \"setosa\"}, {\"petalLength\": 1.3, \"petalWidth\": 0.30000000000000004, \"sepalLength\": 5.0, \"sepalWidth\": 3.5, \"species\": \"setosa\"}, {\"petalLength\": 1.3, \"petalWidth\": 0.30000000000000004, \"sepalLength\": 4.5, \"sepalWidth\": 2.3, \"species\": \"setosa\"}, {\"petalLength\": 1.3, \"petalWidth\": 0.2, \"sepalLength\": 4.4, \"sepalWidth\": 3.2, \"species\": \"setosa\"}, {\"petalLength\": 1.6, \"petalWidth\": 0.6000000000000001, \"sepalLength\": 5.0, \"sepalWidth\": 3.5, \"species\": \"setosa\"}, {\"petalLength\": 1.9, \"petalWidth\": 0.4, \"sepalLength\": 5.1, \"sepalWidth\": 3.8, \"species\": \"setosa\"}, {\"petalLength\": 1.4, \"petalWidth\": 0.30000000000000004, \"sepalLength\": 4.8, \"sepalWidth\": 3.0, \"species\": \"setosa\"}, {\"petalLength\": 1.6, \"petalWidth\": 0.2, \"sepalLength\": 5.1, \"sepalWidth\": 3.8, \"species\": \"setosa\"}, {\"petalLength\": 1.4, \"petalWidth\": 0.2, \"sepalLength\": 4.6, \"sepalWidth\": 3.2, \"species\": \"setosa\"}, {\"petalLength\": 1.5, \"petalWidth\": 0.2, \"sepalLength\": 5.3, \"sepalWidth\": 3.7, \"species\": \"setosa\"}, {\"petalLength\": 1.4, \"petalWidth\": 0.2, \"sepalLength\": 5.0, \"sepalWidth\": 3.3, \"species\": \"setosa\"}, {\"petalLength\": 4.7, \"petalWidth\": 1.4, \"sepalLength\": 7.0, \"sepalWidth\": 3.2, \"species\": \"versicolor\"}, {\"petalLength\": 4.5, \"petalWidth\": 1.5, \"sepalLength\": 6.4, \"sepalWidth\": 3.2, \"species\": \"versicolor\"}, {\"petalLength\": 4.9, \"petalWidth\": 1.5, \"sepalLength\": 6.9, \"sepalWidth\": 3.1, \"species\": \"versicolor\"}, {\"petalLength\": 4.0, \"petalWidth\": 1.3, \"sepalLength\": 5.5, \"sepalWidth\": 2.3, \"species\": \"versicolor\"}, {\"petalLength\": 4.6, \"petalWidth\": 1.5, \"sepalLength\": 6.5, \"sepalWidth\": 2.8, \"species\": \"versicolor\"}, {\"petalLength\": 4.5, \"petalWidth\": 1.3, \"sepalLength\": 5.7, \"sepalWidth\": 2.8, \"species\": \"versicolor\"}, {\"petalLength\": 4.7, \"petalWidth\": 1.6, \"sepalLength\": 6.3, \"sepalWidth\": 3.3, \"species\": \"versicolor\"}, {\"petalLength\": 3.3, \"petalWidth\": 1.0, \"sepalLength\": 4.9, \"sepalWidth\": 2.4, \"species\": \"versicolor\"}, {\"petalLength\": 4.6, \"petalWidth\": 1.3, \"sepalLength\": 6.6, \"sepalWidth\": 2.9, \"species\": \"versicolor\"}, {\"petalLength\": 3.9, \"petalWidth\": 1.4, \"sepalLength\": 5.2, \"sepalWidth\": 2.7, \"species\": \"versicolor\"}, {\"petalLength\": 3.5, \"petalWidth\": 1.0, \"sepalLength\": 5.0, \"sepalWidth\": 2.0, \"species\": \"versicolor\"}, {\"petalLength\": 4.2, \"petalWidth\": 1.5, \"sepalLength\": 5.9, \"sepalWidth\": 3.0, \"species\": \"versicolor\"}, {\"petalLength\": 4.0, \"petalWidth\": 1.0, \"sepalLength\": 6.0, \"sepalWidth\": 2.2, \"species\": \"versicolor\"}, {\"petalLength\": 4.7, \"petalWidth\": 1.4, \"sepalLength\": 6.1, \"sepalWidth\": 2.9, \"species\": \"versicolor\"}, {\"petalLength\": 3.6, \"petalWidth\": 1.3, \"sepalLength\": 5.6, \"sepalWidth\": 2.9, \"species\": \"versicolor\"}, {\"petalLength\": 4.4, \"petalWidth\": 1.4, \"sepalLength\": 6.7, \"sepalWidth\": 3.1, \"species\": \"versicolor\"}, {\"petalLength\": 4.5, \"petalWidth\": 1.5, \"sepalLength\": 5.6, \"sepalWidth\": 3.0, \"species\": \"versicolor\"}, {\"petalLength\": 4.1, \"petalWidth\": 1.0, \"sepalLength\": 5.8, \"sepalWidth\": 2.7, \"species\": \"versicolor\"}, {\"petalLength\": 4.5, \"petalWidth\": 1.5, \"sepalLength\": 6.2, \"sepalWidth\": 2.2, \"species\": \"versicolor\"}, {\"petalLength\": 3.9, \"petalWidth\": 1.1, \"sepalLength\": 5.6, \"sepalWidth\": 2.5, \"species\": \"versicolor\"}, {\"petalLength\": 4.8, \"petalWidth\": 1.8, \"sepalLength\": 5.9, \"sepalWidth\": 3.2, \"species\": \"versicolor\"}, {\"petalLength\": 4.0, \"petalWidth\": 1.3, \"sepalLength\": 6.1, \"sepalWidth\": 2.8, \"species\": \"versicolor\"}, {\"petalLength\": 4.9, \"petalWidth\": 1.5, \"sepalLength\": 6.3, \"sepalWidth\": 2.5, \"species\": \"versicolor\"}, {\"petalLength\": 4.7, \"petalWidth\": 1.2, \"sepalLength\": 6.1, \"sepalWidth\": 2.8, \"species\": \"versicolor\"}, {\"petalLength\": 4.3, \"petalWidth\": 1.3, \"sepalLength\": 6.4, \"sepalWidth\": 2.9, \"species\": \"versicolor\"}, {\"petalLength\": 4.4, \"petalWidth\": 1.4, \"sepalLength\": 6.6, \"sepalWidth\": 3.0, \"species\": \"versicolor\"}, {\"petalLength\": 4.8, \"petalWidth\": 1.4, \"sepalLength\": 6.8, \"sepalWidth\": 2.8, \"species\": \"versicolor\"}, {\"petalLength\": 5.0, \"petalWidth\": 1.7000000000000002, \"sepalLength\": 6.7, \"sepalWidth\": 3.0, \"species\": \"versicolor\"}, {\"petalLength\": 4.5, \"petalWidth\": 1.5, \"sepalLength\": 6.0, \"sepalWidth\": 2.9, \"species\": \"versicolor\"}, {\"petalLength\": 3.5, \"petalWidth\": 1.0, \"sepalLength\": 5.7, \"sepalWidth\": 2.6, \"species\": \"versicolor\"}, {\"petalLength\": 3.8, \"petalWidth\": 1.1, \"sepalLength\": 5.5, \"sepalWidth\": 2.4, \"species\": \"versicolor\"}, {\"petalLength\": 3.7, \"petalWidth\": 1.0, \"sepalLength\": 5.5, \"sepalWidth\": 2.4, \"species\": \"versicolor\"}, {\"petalLength\": 3.9, \"petalWidth\": 1.2, \"sepalLength\": 5.8, \"sepalWidth\": 2.7, \"species\": \"versicolor\"}, {\"petalLength\": 5.1, \"petalWidth\": 1.6, \"sepalLength\": 6.0, \"sepalWidth\": 2.7, \"species\": \"versicolor\"}, {\"petalLength\": 4.5, \"petalWidth\": 1.5, \"sepalLength\": 5.4, \"sepalWidth\": 3.0, \"species\": \"versicolor\"}, {\"petalLength\": 4.5, \"petalWidth\": 1.6, \"sepalLength\": 6.0, \"sepalWidth\": 3.4, \"species\": \"versicolor\"}, {\"petalLength\": 4.7, \"petalWidth\": 1.5, \"sepalLength\": 6.7, \"sepalWidth\": 3.1, \"species\": \"versicolor\"}, {\"petalLength\": 4.4, \"petalWidth\": 1.3, \"sepalLength\": 6.3, \"sepalWidth\": 2.3, \"species\": \"versicolor\"}, {\"petalLength\": 4.1, \"petalWidth\": 1.3, \"sepalLength\": 5.6, \"sepalWidth\": 3.0, \"species\": \"versicolor\"}, {\"petalLength\": 4.0, \"petalWidth\": 1.3, \"sepalLength\": 5.5, \"sepalWidth\": 2.5, \"species\": \"versicolor\"}, {\"petalLength\": 4.4, \"petalWidth\": 1.2, \"sepalLength\": 5.5, \"sepalWidth\": 2.6, \"species\": \"versicolor\"}, {\"petalLength\": 4.6, \"petalWidth\": 1.4, \"sepalLength\": 6.1, \"sepalWidth\": 3.0, \"species\": \"versicolor\"}, {\"petalLength\": 4.0, \"petalWidth\": 1.2, \"sepalLength\": 5.8, \"sepalWidth\": 2.6, \"species\": \"versicolor\"}, {\"petalLength\": 3.3, \"petalWidth\": 1.0, \"sepalLength\": 5.0, \"sepalWidth\": 2.3, \"species\": \"versicolor\"}, {\"petalLength\": 4.2, \"petalWidth\": 1.3, \"sepalLength\": 5.6, \"sepalWidth\": 2.7, \"species\": \"versicolor\"}, {\"petalLength\": 4.2, \"petalWidth\": 1.2, \"sepalLength\": 5.7, \"sepalWidth\": 3.0, \"species\": \"versicolor\"}, {\"petalLength\": 4.2, \"petalWidth\": 1.3, \"sepalLength\": 5.7, \"sepalWidth\": 2.9, \"species\": \"versicolor\"}, {\"petalLength\": 4.3, \"petalWidth\": 1.3, \"sepalLength\": 6.2, \"sepalWidth\": 2.9, \"species\": \"versicolor\"}, {\"petalLength\": 3.0, \"petalWidth\": 1.1, \"sepalLength\": 5.1, \"sepalWidth\": 2.5, \"species\": \"versicolor\"}, {\"petalLength\": 4.1, \"petalWidth\": 1.3, \"sepalLength\": 5.7, \"sepalWidth\": 2.8, \"species\": \"versicolor\"}, {\"petalLength\": 6.0, \"petalWidth\": 2.5, \"sepalLength\": 6.3, \"sepalWidth\": 3.3, \"species\": \"virginica\"}, {\"petalLength\": 5.1, \"petalWidth\": 1.9, \"sepalLength\": 5.8, \"sepalWidth\": 2.7, \"species\": \"virginica\"}, {\"petalLength\": 5.9, \"petalWidth\": 2.1, \"sepalLength\": 7.1, \"sepalWidth\": 3.0, \"species\": \"virginica\"}, {\"petalLength\": 5.6, \"petalWidth\": 1.8, \"sepalLength\": 6.3, \"sepalWidth\": 2.9, \"species\": \"virginica\"}, {\"petalLength\": 5.8, \"petalWidth\": 2.2, \"sepalLength\": 6.5, \"sepalWidth\": 3.0, \"species\": \"virginica\"}, {\"petalLength\": 6.6, \"petalWidth\": 2.1, \"sepalLength\": 7.6, \"sepalWidth\": 3.0, \"species\": \"virginica\"}, {\"petalLength\": 4.5, \"petalWidth\": 1.7000000000000002, \"sepalLength\": 4.9, \"sepalWidth\": 2.5, \"species\": \"virginica\"}, {\"petalLength\": 6.3, \"petalWidth\": 1.8, \"sepalLength\": 7.3, \"sepalWidth\": 2.9, \"species\": \"virginica\"}, {\"petalLength\": 5.8, \"petalWidth\": 1.8, \"sepalLength\": 6.7, \"sepalWidth\": 2.5, \"species\": \"virginica\"}, {\"petalLength\": 6.1, \"petalWidth\": 2.5, \"sepalLength\": 7.2, \"sepalWidth\": 3.6, \"species\": \"virginica\"}, {\"petalLength\": 5.1, \"petalWidth\": 2.0, \"sepalLength\": 6.5, \"sepalWidth\": 3.2, \"species\": \"virginica\"}, {\"petalLength\": 5.3, \"petalWidth\": 1.9, \"sepalLength\": 6.4, \"sepalWidth\": 2.7, \"species\": \"virginica\"}, {\"petalLength\": 5.5, \"petalWidth\": 2.1, \"sepalLength\": 6.8, \"sepalWidth\": 3.0, \"species\": \"virginica\"}, {\"petalLength\": 5.0, \"petalWidth\": 2.0, \"sepalLength\": 5.7, \"sepalWidth\": 2.5, \"species\": \"virginica\"}, {\"petalLength\": 5.1, \"petalWidth\": 2.4, \"sepalLength\": 5.8, \"sepalWidth\": 2.8, \"species\": \"virginica\"}, {\"petalLength\": 5.3, \"petalWidth\": 2.3, \"sepalLength\": 6.4, \"sepalWidth\": 3.2, \"species\": \"virginica\"}, {\"petalLength\": 5.5, \"petalWidth\": 1.8, \"sepalLength\": 6.5, \"sepalWidth\": 3.0, \"species\": \"virginica\"}, {\"petalLength\": 6.7, \"petalWidth\": 2.2, \"sepalLength\": 7.7, \"sepalWidth\": 3.8, \"species\": \"virginica\"}, {\"petalLength\": 6.9, \"petalWidth\": 2.3, \"sepalLength\": 7.7, \"sepalWidth\": 2.6, \"species\": \"virginica\"}, {\"petalLength\": 5.0, \"petalWidth\": 1.5, \"sepalLength\": 6.0, \"sepalWidth\": 2.2, \"species\": \"virginica\"}, {\"petalLength\": 5.7, \"petalWidth\": 2.3, \"sepalLength\": 6.9, \"sepalWidth\": 3.2, \"species\": \"virginica\"}, {\"petalLength\": 4.9, \"petalWidth\": 2.0, \"sepalLength\": 5.6, \"sepalWidth\": 2.8, \"species\": \"virginica\"}, {\"petalLength\": 6.7, \"petalWidth\": 2.0, \"sepalLength\": 7.7, \"sepalWidth\": 2.8, \"species\": \"virginica\"}, {\"petalLength\": 4.9, \"petalWidth\": 1.8, \"sepalLength\": 6.3, \"sepalWidth\": 2.7, \"species\": \"virginica\"}, {\"petalLength\": 5.7, \"petalWidth\": 2.1, \"sepalLength\": 6.7, \"sepalWidth\": 3.3, \"species\": \"virginica\"}, {\"petalLength\": 6.0, \"petalWidth\": 1.8, \"sepalLength\": 7.2, \"sepalWidth\": 3.2, \"species\": \"virginica\"}, {\"petalLength\": 4.8, \"petalWidth\": 1.8, \"sepalLength\": 6.2, \"sepalWidth\": 2.8, \"species\": \"virginica\"}, {\"petalLength\": 4.9, \"petalWidth\": 1.8, \"sepalLength\": 6.1, \"sepalWidth\": 3.0, \"species\": \"virginica\"}, {\"petalLength\": 5.6, \"petalWidth\": 2.1, \"sepalLength\": 6.4, \"sepalWidth\": 2.8, \"species\": \"virginica\"}, {\"petalLength\": 5.8, \"petalWidth\": 1.6, \"sepalLength\": 7.2, \"sepalWidth\": 3.0, \"species\": \"virginica\"}, {\"petalLength\": 6.1, \"petalWidth\": 1.9, \"sepalLength\": 7.4, \"sepalWidth\": 2.8, \"species\": \"virginica\"}, {\"petalLength\": 6.4, \"petalWidth\": 2.0, \"sepalLength\": 7.9, \"sepalWidth\": 3.8, \"species\": \"virginica\"}, {\"petalLength\": 5.6, \"petalWidth\": 2.2, \"sepalLength\": 6.4, \"sepalWidth\": 2.8, \"species\": \"virginica\"}, {\"petalLength\": 5.1, \"petalWidth\": 1.5, \"sepalLength\": 6.3, \"sepalWidth\": 2.8, \"species\": \"virginica\"}, {\"petalLength\": 5.6, \"petalWidth\": 1.4, \"sepalLength\": 6.1, \"sepalWidth\": 2.6, \"species\": \"virginica\"}, {\"petalLength\": 6.1, \"petalWidth\": 2.3, \"sepalLength\": 7.7, \"sepalWidth\": 3.0, \"species\": \"virginica\"}, {\"petalLength\": 5.6, \"petalWidth\": 2.4, \"sepalLength\": 6.3, \"sepalWidth\": 3.4, \"species\": \"virginica\"}, {\"petalLength\": 5.5, \"petalWidth\": 1.8, \"sepalLength\": 6.4, \"sepalWidth\": 3.1, \"species\": \"virginica\"}, {\"petalLength\": 4.8, \"petalWidth\": 1.8, \"sepalLength\": 6.0, \"sepalWidth\": 3.0, \"species\": \"virginica\"}, {\"petalLength\": 5.4, \"petalWidth\": 2.1, \"sepalLength\": 6.9, \"sepalWidth\": 3.1, \"species\": \"virginica\"}, {\"petalLength\": 5.6, \"petalWidth\": 2.4, \"sepalLength\": 6.7, \"sepalWidth\": 3.1, \"species\": \"virginica\"}, {\"petalLength\": 5.1, \"petalWidth\": 2.3, \"sepalLength\": 6.9, \"sepalWidth\": 3.1, \"species\": \"virginica\"}, {\"petalLength\": 5.1, \"petalWidth\": 1.9, \"sepalLength\": 5.8, \"sepalWidth\": 2.7, \"species\": \"virginica\"}, {\"petalLength\": 5.9, \"petalWidth\": 2.3, \"sepalLength\": 6.8, \"sepalWidth\": 3.2, \"species\": \"virginica\"}, {\"petalLength\": 5.7, \"petalWidth\": 2.5, \"sepalLength\": 6.7, \"sepalWidth\": 3.3, \"species\": \"virginica\"}, {\"petalLength\": 5.2, \"petalWidth\": 2.3, \"sepalLength\": 6.7, \"sepalWidth\": 3.0, \"species\": \"virginica\"}, {\"petalLength\": 5.0, \"petalWidth\": 1.9, \"sepalLength\": 6.3, \"sepalWidth\": 2.5, \"species\": \"virginica\"}, {\"petalLength\": 5.2, \"petalWidth\": 2.0, \"sepalLength\": 6.5, \"sepalWidth\": 3.0, \"species\": \"virginica\"}, {\"petalLength\": 5.4, \"petalWidth\": 2.3, \"sepalLength\": 6.2, \"sepalWidth\": 3.4, \"species\": \"virginica\"}, {\"petalLength\": 5.1, \"petalWidth\": 1.8, \"sepalLength\": 5.9, \"sepalWidth\": 3.0, \"species\": \"virginica\"}]}}, {\"mode\": \"vega-lite\"});\n",
       "</script>"
      ],
      "text/plain": [
       "alt.Chart(...)"
      ]
     },
     "execution_count": 11,
     "metadata": {},
     "output_type": "execute_result"
    }
   ],
   "source": [
    "alt.Chart(iris).mark_point().encode(\n",
    "    x=\"petalLength\",\n",
    "    y=\"sepalWidth\",\n",
    "    color=\"species\",\n",
    "    tooltip=\"species\"\n",
    ").interactive()"
   ]
  },
  {
   "cell_type": "markdown",
   "metadata": {},
   "source": [
    "## Altair \n",
    "<a id='altair'></a>\n",
    "\n",
    "_Altair is a declarative statistical visualization library for Python, based on Vega and Vega-Lite, and the source is available on GitHub._\n",
    "\n",
    "_With Altair, you can spend more time understanding your data and its meaning. Altair’s API is simple, friendly and consistent and built on top of the powerful Vega-Lite visualization grammar. This elegant simplicity produces beautiful and effective visualizations with a minimal amount of code._"
   ]
  },
  {
   "cell_type": "markdown",
   "metadata": {},
   "source": [
    "### Data\n",
    "Los datos en Altair son basados en Dataframe de Pandas, los cuales deben ser _Tidy_ para una mejor experiencia.\n",
    "\n",
    "El objeto _*Chart*_ es el fundamental, pues tiene como argumento los datos."
   ]
  },
  {
   "cell_type": "code",
   "execution_count": 12,
   "metadata": {},
   "outputs": [],
   "source": [
    "# Utilizaremos estos datos como ejemplo\n",
    "import pandas as pd\n",
    "df = pd.DataFrame({'a': list('CCCDDDEEE'),\n",
    "                     'b': [2, 7, 4, 1, 2, 6, 8, 4, 7]})"
   ]
  },
  {
   "cell_type": "code",
   "execution_count": 13,
   "metadata": {},
   "outputs": [],
   "source": [
    "import altair as alt\n",
    "chart = alt.Chart(df)"
   ]
  },
  {
   "cell_type": "markdown",
   "metadata": {},
   "source": [
    "### Mark\n",
    "\n",
    "¿Cómo queremos que se vean los datos? La respuesta está en los _marks_, que en Altair corresponden a un método de un objeto _Chart_. "
   ]
  },
  {
   "cell_type": "code",
   "execution_count": 14,
   "metadata": {},
   "outputs": [
    {
     "data": {
      "text/html": [
       "\n",
       "<div id=\"altair-viz-3\"></div>\n",
       "<script type=\"text/javascript\">\n",
       "  (function(spec, embedOpt){\n",
       "    const outputDiv = document.getElementById(\"altair-viz-3\");\n",
       "    const paths = {\n",
       "      \"vega\": \"https://cdn.jsdelivr.net/npm//vega@5?noext\",\n",
       "      \"vega-lib\": \"https://cdn.jsdelivr.net/npm//vega-lib?noext\",\n",
       "      \"vega-lite\": \"https://cdn.jsdelivr.net/npm//vega-lite@4.0.0?noext\",\n",
       "      \"vega-embed\": \"https://cdn.jsdelivr.net/npm//vega-embed@6?noext\",\n",
       "    };\n",
       "\n",
       "    function loadScript(lib) {\n",
       "      return new Promise(function(resolve, reject) {\n",
       "        var s = document.createElement('script');\n",
       "        s.src = paths[lib];\n",
       "        s.async = true;\n",
       "        s.onload = () => resolve(paths[lib]);\n",
       "        s.onerror = () => reject(`Error loading script: ${paths[lib]}`);\n",
       "        document.getElementsByTagName(\"head\")[0].appendChild(s);\n",
       "      });\n",
       "    }\n",
       "\n",
       "    function showError(err) {\n",
       "      outputDiv.innerHTML = `<div class=\"error\" style=\"color:red;\">${err}</div>`;\n",
       "      throw err;\n",
       "    }\n",
       "\n",
       "    function displayChart(vegaEmbed) {\n",
       "      vegaEmbed(outputDiv, spec, embedOpt)\n",
       "        .catch(err => showError(`Javascript Error: ${err.message}<br>This usually means there's a typo in your chart specification. See the javascript console for the full traceback.`));\n",
       "    }\n",
       "\n",
       "    if(typeof define === \"function\" && define.amd) {\n",
       "      requirejs.config({paths});\n",
       "      require([\"vega-embed\"], displayChart, err => showError(`Error loading script: ${err.message}`));\n",
       "    } else if (typeof vegaEmbed === \"function\") {\n",
       "      displayChart(vegaEmbed);\n",
       "    } else {\n",
       "      loadScript(\"vega\")\n",
       "        .then(() => loadScript(\"vega-lite\"))\n",
       "        .then(() => loadScript(\"vega-embed\"))\n",
       "        .catch(showError)\n",
       "        .then(() => displayChart(vegaEmbed));\n",
       "    }\n",
       "  })({\"config\": {\"background\": \"white\", \"view\": {\"continuousWidth\": 400, \"continuousHeight\": 300}}, \"data\": {\"name\": \"data-347f1284ea3247c0f55cb966abbdd2d8\"}, \"mark\": \"point\", \"$schema\": \"https://vega.github.io/schema/vega-lite/v4.0.0.json\", \"datasets\": {\"data-347f1284ea3247c0f55cb966abbdd2d8\": [{\"a\": \"C\", \"b\": 2}, {\"a\": \"C\", \"b\": 7}, {\"a\": \"C\", \"b\": 4}, {\"a\": \"D\", \"b\": 1}, {\"a\": \"D\", \"b\": 2}, {\"a\": \"D\", \"b\": 6}, {\"a\": \"E\", \"b\": 8}, {\"a\": \"E\", \"b\": 4}, {\"a\": \"E\", \"b\": 7}]}}, {\"mode\": \"vega-lite\"});\n",
       "</script>"
      ],
      "text/plain": [
       "alt.Chart(...)"
      ]
     },
     "execution_count": 14,
     "metadata": {},
     "output_type": "execute_result"
    }
   ],
   "source": [
    "alt.Chart(df).mark_point()"
   ]
  },
  {
   "cell_type": "markdown",
   "metadata": {},
   "source": [
    "La representación anterior consiste en un solo punto, pues aún no se ha especificado las posiciones de los puntos."
   ]
  },
  {
   "cell_type": "markdown",
   "metadata": {},
   "source": [
    "### Encoding\n",
    "\n",
    "Canales asociados a columnas de los datos con tal de separar visualmente los elementos (que para estos datos se están graficando puntos). \n",
    "\n",
    "Por ejemplo, es posible codificar la variable `a` con el canal `x`, que representa el eje horizontal donde se posicionan los puntos. Esto es posible mediante el método `encode` de los objetos _Charts_."
   ]
  },
  {
   "cell_type": "code",
   "execution_count": 15,
   "metadata": {},
   "outputs": [
    {
     "data": {
      "text/html": [
       "\n",
       "<div id=\"altair-viz-4\"></div>\n",
       "<script type=\"text/javascript\">\n",
       "  (function(spec, embedOpt){\n",
       "    const outputDiv = document.getElementById(\"altair-viz-4\");\n",
       "    const paths = {\n",
       "      \"vega\": \"https://cdn.jsdelivr.net/npm//vega@5?noext\",\n",
       "      \"vega-lib\": \"https://cdn.jsdelivr.net/npm//vega-lib?noext\",\n",
       "      \"vega-lite\": \"https://cdn.jsdelivr.net/npm//vega-lite@4.0.0?noext\",\n",
       "      \"vega-embed\": \"https://cdn.jsdelivr.net/npm//vega-embed@6?noext\",\n",
       "    };\n",
       "\n",
       "    function loadScript(lib) {\n",
       "      return new Promise(function(resolve, reject) {\n",
       "        var s = document.createElement('script');\n",
       "        s.src = paths[lib];\n",
       "        s.async = true;\n",
       "        s.onload = () => resolve(paths[lib]);\n",
       "        s.onerror = () => reject(`Error loading script: ${paths[lib]}`);\n",
       "        document.getElementsByTagName(\"head\")[0].appendChild(s);\n",
       "      });\n",
       "    }\n",
       "\n",
       "    function showError(err) {\n",
       "      outputDiv.innerHTML = `<div class=\"error\" style=\"color:red;\">${err}</div>`;\n",
       "      throw err;\n",
       "    }\n",
       "\n",
       "    function displayChart(vegaEmbed) {\n",
       "      vegaEmbed(outputDiv, spec, embedOpt)\n",
       "        .catch(err => showError(`Javascript Error: ${err.message}<br>This usually means there's a typo in your chart specification. See the javascript console for the full traceback.`));\n",
       "    }\n",
       "\n",
       "    if(typeof define === \"function\" && define.amd) {\n",
       "      requirejs.config({paths});\n",
       "      require([\"vega-embed\"], displayChart, err => showError(`Error loading script: ${err.message}`));\n",
       "    } else if (typeof vegaEmbed === \"function\") {\n",
       "      displayChart(vegaEmbed);\n",
       "    } else {\n",
       "      loadScript(\"vega\")\n",
       "        .then(() => loadScript(\"vega-lite\"))\n",
       "        .then(() => loadScript(\"vega-embed\"))\n",
       "        .catch(showError)\n",
       "        .then(() => displayChart(vegaEmbed));\n",
       "    }\n",
       "  })({\"config\": {\"background\": \"white\", \"view\": {\"continuousWidth\": 400, \"continuousHeight\": 300}}, \"data\": {\"name\": \"data-347f1284ea3247c0f55cb966abbdd2d8\"}, \"mark\": \"point\", \"encoding\": {\"x\": {\"type\": \"nominal\", \"field\": \"a\"}}, \"$schema\": \"https://vega.github.io/schema/vega-lite/v4.0.0.json\", \"datasets\": {\"data-347f1284ea3247c0f55cb966abbdd2d8\": [{\"a\": \"C\", \"b\": 2}, {\"a\": \"C\", \"b\": 7}, {\"a\": \"C\", \"b\": 4}, {\"a\": \"D\", \"b\": 1}, {\"a\": \"D\", \"b\": 2}, {\"a\": \"D\", \"b\": 6}, {\"a\": \"E\", \"b\": 8}, {\"a\": \"E\", \"b\": 4}, {\"a\": \"E\", \"b\": 7}]}}, {\"mode\": \"vega-lite\"});\n",
       "</script>"
      ],
      "text/plain": [
       "alt.Chart(...)"
      ]
     },
     "execution_count": 15,
     "metadata": {},
     "output_type": "execute_result"
    }
   ],
   "source": [
    "alt.Chart(df).mark_point().encode(\n",
    "    x='a',\n",
    ")"
   ]
  },
  {
   "cell_type": "markdown",
   "metadata": {},
   "source": [
    "Los principales canales de _encoding_ son `x`, `y`, `color`, `shape`, `size`, etc. los cuales se pueden designar utilizando el nombre de la columna asociada a los datos."
   ]
  },
  {
   "cell_type": "markdown",
   "metadata": {},
   "source": [
    "Finalmente, separemos la posición vertical asignando el canal `y`, que como te imaginas, corresponde al eje vertical."
   ]
  },
  {
   "cell_type": "code",
   "execution_count": 16,
   "metadata": {},
   "outputs": [
    {
     "data": {
      "text/html": [
       "\n",
       "<div id=\"altair-viz-5\"></div>\n",
       "<script type=\"text/javascript\">\n",
       "  (function(spec, embedOpt){\n",
       "    const outputDiv = document.getElementById(\"altair-viz-5\");\n",
       "    const paths = {\n",
       "      \"vega\": \"https://cdn.jsdelivr.net/npm//vega@5?noext\",\n",
       "      \"vega-lib\": \"https://cdn.jsdelivr.net/npm//vega-lib?noext\",\n",
       "      \"vega-lite\": \"https://cdn.jsdelivr.net/npm//vega-lite@4.0.0?noext\",\n",
       "      \"vega-embed\": \"https://cdn.jsdelivr.net/npm//vega-embed@6?noext\",\n",
       "    };\n",
       "\n",
       "    function loadScript(lib) {\n",
       "      return new Promise(function(resolve, reject) {\n",
       "        var s = document.createElement('script');\n",
       "        s.src = paths[lib];\n",
       "        s.async = true;\n",
       "        s.onload = () => resolve(paths[lib]);\n",
       "        s.onerror = () => reject(`Error loading script: ${paths[lib]}`);\n",
       "        document.getElementsByTagName(\"head\")[0].appendChild(s);\n",
       "      });\n",
       "    }\n",
       "\n",
       "    function showError(err) {\n",
       "      outputDiv.innerHTML = `<div class=\"error\" style=\"color:red;\">${err}</div>`;\n",
       "      throw err;\n",
       "    }\n",
       "\n",
       "    function displayChart(vegaEmbed) {\n",
       "      vegaEmbed(outputDiv, spec, embedOpt)\n",
       "        .catch(err => showError(`Javascript Error: ${err.message}<br>This usually means there's a typo in your chart specification. See the javascript console for the full traceback.`));\n",
       "    }\n",
       "\n",
       "    if(typeof define === \"function\" && define.amd) {\n",
       "      requirejs.config({paths});\n",
       "      require([\"vega-embed\"], displayChart, err => showError(`Error loading script: ${err.message}`));\n",
       "    } else if (typeof vegaEmbed === \"function\") {\n",
       "      displayChart(vegaEmbed);\n",
       "    } else {\n",
       "      loadScript(\"vega\")\n",
       "        .then(() => loadScript(\"vega-lite\"))\n",
       "        .then(() => loadScript(\"vega-embed\"))\n",
       "        .catch(showError)\n",
       "        .then(() => displayChart(vegaEmbed));\n",
       "    }\n",
       "  })({\"config\": {\"background\": \"white\", \"view\": {\"continuousWidth\": 400, \"continuousHeight\": 300}}, \"data\": {\"name\": \"data-347f1284ea3247c0f55cb966abbdd2d8\"}, \"mark\": \"point\", \"encoding\": {\"x\": {\"type\": \"nominal\", \"field\": \"a\"}, \"y\": {\"type\": \"quantitative\", \"field\": \"b\"}}, \"$schema\": \"https://vega.github.io/schema/vega-lite/v4.0.0.json\", \"datasets\": {\"data-347f1284ea3247c0f55cb966abbdd2d8\": [{\"a\": \"C\", \"b\": 2}, {\"a\": \"C\", \"b\": 7}, {\"a\": \"C\", \"b\": 4}, {\"a\": \"D\", \"b\": 1}, {\"a\": \"D\", \"b\": 2}, {\"a\": \"D\", \"b\": 6}, {\"a\": \"E\", \"b\": 8}, {\"a\": \"E\", \"b\": 4}, {\"a\": \"E\", \"b\": 7}]}}, {\"mode\": \"vega-lite\"});\n",
       "</script>"
      ],
      "text/plain": [
       "alt.Chart(...)"
      ]
     },
     "execution_count": 16,
     "metadata": {},
     "output_type": "execute_result"
    }
   ],
   "source": [
    "alt.Chart(df).mark_point().encode(\n",
    "    x='a',\n",
    "    y='b'\n",
    ")"
   ]
  },
  {
   "cell_type": "markdown",
   "metadata": {},
   "source": [
    "### Transformación\n",
    "\n",
    "Altair permite incluso transformar datos con tal de entregar mayor flexibilidad, para ello dispone de una sintaxis incorporada para `Agregaciones`. Por ejemplo, para calcular el promedio."
   ]
  },
  {
   "cell_type": "code",
   "execution_count": 17,
   "metadata": {},
   "outputs": [
    {
     "data": {
      "text/html": [
       "\n",
       "<div id=\"altair-viz-6\"></div>\n",
       "<script type=\"text/javascript\">\n",
       "  (function(spec, embedOpt){\n",
       "    const outputDiv = document.getElementById(\"altair-viz-6\");\n",
       "    const paths = {\n",
       "      \"vega\": \"https://cdn.jsdelivr.net/npm//vega@5?noext\",\n",
       "      \"vega-lib\": \"https://cdn.jsdelivr.net/npm//vega-lib?noext\",\n",
       "      \"vega-lite\": \"https://cdn.jsdelivr.net/npm//vega-lite@4.0.0?noext\",\n",
       "      \"vega-embed\": \"https://cdn.jsdelivr.net/npm//vega-embed@6?noext\",\n",
       "    };\n",
       "\n",
       "    function loadScript(lib) {\n",
       "      return new Promise(function(resolve, reject) {\n",
       "        var s = document.createElement('script');\n",
       "        s.src = paths[lib];\n",
       "        s.async = true;\n",
       "        s.onload = () => resolve(paths[lib]);\n",
       "        s.onerror = () => reject(`Error loading script: ${paths[lib]}`);\n",
       "        document.getElementsByTagName(\"head\")[0].appendChild(s);\n",
       "      });\n",
       "    }\n",
       "\n",
       "    function showError(err) {\n",
       "      outputDiv.innerHTML = `<div class=\"error\" style=\"color:red;\">${err}</div>`;\n",
       "      throw err;\n",
       "    }\n",
       "\n",
       "    function displayChart(vegaEmbed) {\n",
       "      vegaEmbed(outputDiv, spec, embedOpt)\n",
       "        .catch(err => showError(`Javascript Error: ${err.message}<br>This usually means there's a typo in your chart specification. See the javascript console for the full traceback.`));\n",
       "    }\n",
       "\n",
       "    if(typeof define === \"function\" && define.amd) {\n",
       "      requirejs.config({paths});\n",
       "      require([\"vega-embed\"], displayChart, err => showError(`Error loading script: ${err.message}`));\n",
       "    } else if (typeof vegaEmbed === \"function\") {\n",
       "      displayChart(vegaEmbed);\n",
       "    } else {\n",
       "      loadScript(\"vega\")\n",
       "        .then(() => loadScript(\"vega-lite\"))\n",
       "        .then(() => loadScript(\"vega-embed\"))\n",
       "        .catch(showError)\n",
       "        .then(() => displayChart(vegaEmbed));\n",
       "    }\n",
       "  })({\"config\": {\"background\": \"white\", \"view\": {\"continuousWidth\": 400, \"continuousHeight\": 300}}, \"data\": {\"name\": \"data-347f1284ea3247c0f55cb966abbdd2d8\"}, \"mark\": \"point\", \"encoding\": {\"x\": {\"type\": \"nominal\", \"field\": \"a\"}, \"y\": {\"type\": \"quantitative\", \"aggregate\": \"average\", \"field\": \"b\"}}, \"$schema\": \"https://vega.github.io/schema/vega-lite/v4.0.0.json\", \"datasets\": {\"data-347f1284ea3247c0f55cb966abbdd2d8\": [{\"a\": \"C\", \"b\": 2}, {\"a\": \"C\", \"b\": 7}, {\"a\": \"C\", \"b\": 4}, {\"a\": \"D\", \"b\": 1}, {\"a\": \"D\", \"b\": 2}, {\"a\": \"D\", \"b\": 6}, {\"a\": \"E\", \"b\": 8}, {\"a\": \"E\", \"b\": 4}, {\"a\": \"E\", \"b\": 7}]}}, {\"mode\": \"vega-lite\"});\n",
       "</script>"
      ],
      "text/plain": [
       "alt.Chart(...)"
      ]
     },
     "execution_count": 17,
     "metadata": {},
     "output_type": "execute_result"
    }
   ],
   "source": [
    "alt.Chart(df).mark_point().encode(\n",
    "    x='a',\n",
    "    y='average(b)'\n",
    ")"
   ]
  },
  {
   "cell_type": "markdown",
   "metadata": {},
   "source": [
    "Aunque en realidad es más acertado utilizar gráficos de barra para mostrar agregaciones. Es tan fácil como cambiar el método `mark_point()` por `mark_bar()`."
   ]
  },
  {
   "cell_type": "code",
   "execution_count": 18,
   "metadata": {},
   "outputs": [
    {
     "data": {
      "text/html": [
       "\n",
       "<div id=\"altair-viz-7\"></div>\n",
       "<script type=\"text/javascript\">\n",
       "  (function(spec, embedOpt){\n",
       "    const outputDiv = document.getElementById(\"altair-viz-7\");\n",
       "    const paths = {\n",
       "      \"vega\": \"https://cdn.jsdelivr.net/npm//vega@5?noext\",\n",
       "      \"vega-lib\": \"https://cdn.jsdelivr.net/npm//vega-lib?noext\",\n",
       "      \"vega-lite\": \"https://cdn.jsdelivr.net/npm//vega-lite@4.0.0?noext\",\n",
       "      \"vega-embed\": \"https://cdn.jsdelivr.net/npm//vega-embed@6?noext\",\n",
       "    };\n",
       "\n",
       "    function loadScript(lib) {\n",
       "      return new Promise(function(resolve, reject) {\n",
       "        var s = document.createElement('script');\n",
       "        s.src = paths[lib];\n",
       "        s.async = true;\n",
       "        s.onload = () => resolve(paths[lib]);\n",
       "        s.onerror = () => reject(`Error loading script: ${paths[lib]}`);\n",
       "        document.getElementsByTagName(\"head\")[0].appendChild(s);\n",
       "      });\n",
       "    }\n",
       "\n",
       "    function showError(err) {\n",
       "      outputDiv.innerHTML = `<div class=\"error\" style=\"color:red;\">${err}</div>`;\n",
       "      throw err;\n",
       "    }\n",
       "\n",
       "    function displayChart(vegaEmbed) {\n",
       "      vegaEmbed(outputDiv, spec, embedOpt)\n",
       "        .catch(err => showError(`Javascript Error: ${err.message}<br>This usually means there's a typo in your chart specification. See the javascript console for the full traceback.`));\n",
       "    }\n",
       "\n",
       "    if(typeof define === \"function\" && define.amd) {\n",
       "      requirejs.config({paths});\n",
       "      require([\"vega-embed\"], displayChart, err => showError(`Error loading script: ${err.message}`));\n",
       "    } else if (typeof vegaEmbed === \"function\") {\n",
       "      displayChart(vegaEmbed);\n",
       "    } else {\n",
       "      loadScript(\"vega\")\n",
       "        .then(() => loadScript(\"vega-lite\"))\n",
       "        .then(() => loadScript(\"vega-embed\"))\n",
       "        .catch(showError)\n",
       "        .then(() => displayChart(vegaEmbed));\n",
       "    }\n",
       "  })({\"config\": {\"background\": \"white\", \"view\": {\"continuousWidth\": 400, \"continuousHeight\": 300}}, \"data\": {\"name\": \"data-347f1284ea3247c0f55cb966abbdd2d8\"}, \"mark\": \"bar\", \"encoding\": {\"x\": {\"type\": \"nominal\", \"field\": \"a\"}, \"y\": {\"type\": \"quantitative\", \"aggregate\": \"average\", \"field\": \"b\"}}, \"$schema\": \"https://vega.github.io/schema/vega-lite/v4.0.0.json\", \"datasets\": {\"data-347f1284ea3247c0f55cb966abbdd2d8\": [{\"a\": \"C\", \"b\": 2}, {\"a\": \"C\", \"b\": 7}, {\"a\": \"C\", \"b\": 4}, {\"a\": \"D\", \"b\": 1}, {\"a\": \"D\", \"b\": 2}, {\"a\": \"D\", \"b\": 6}, {\"a\": \"E\", \"b\": 8}, {\"a\": \"E\", \"b\": 4}, {\"a\": \"E\", \"b\": 7}]}}, {\"mode\": \"vega-lite\"});\n",
       "</script>"
      ],
      "text/plain": [
       "alt.Chart(...)"
      ]
     },
     "execution_count": 18,
     "metadata": {},
     "output_type": "execute_result"
    }
   ],
   "source": [
    "alt.Chart(df).mark_bar().encode(\n",
    "    x='a',\n",
    "    y='average(b)'\n",
    ")"
   ]
  },
  {
   "cell_type": "markdown",
   "metadata": {},
   "source": [
    "### Muchas más personalizaciones\n",
    "\n",
    "Por defecto, Altair a través de Vega-Lite realiza algunas elecciones sobre las propiedades por defecto en cada visualización. Sin embargo, Altair también provee una API para personalizar los gráficos. Por ejemplo, es posible especificar el título de cada eje utilizando los atributos de los canales. Inclusive es posible escoger el color de los _marks_."
   ]
  },
  {
   "cell_type": "code",
   "execution_count": 19,
   "metadata": {},
   "outputs": [
    {
     "data": {
      "text/html": [
       "\n",
       "<div id=\"altair-viz-8\"></div>\n",
       "<script type=\"text/javascript\">\n",
       "  (function(spec, embedOpt){\n",
       "    const outputDiv = document.getElementById(\"altair-viz-8\");\n",
       "    const paths = {\n",
       "      \"vega\": \"https://cdn.jsdelivr.net/npm//vega@5?noext\",\n",
       "      \"vega-lib\": \"https://cdn.jsdelivr.net/npm//vega-lib?noext\",\n",
       "      \"vega-lite\": \"https://cdn.jsdelivr.net/npm//vega-lite@4.0.0?noext\",\n",
       "      \"vega-embed\": \"https://cdn.jsdelivr.net/npm//vega-embed@6?noext\",\n",
       "    };\n",
       "\n",
       "    function loadScript(lib) {\n",
       "      return new Promise(function(resolve, reject) {\n",
       "        var s = document.createElement('script');\n",
       "        s.src = paths[lib];\n",
       "        s.async = true;\n",
       "        s.onload = () => resolve(paths[lib]);\n",
       "        s.onerror = () => reject(`Error loading script: ${paths[lib]}`);\n",
       "        document.getElementsByTagName(\"head\")[0].appendChild(s);\n",
       "      });\n",
       "    }\n",
       "\n",
       "    function showError(err) {\n",
       "      outputDiv.innerHTML = `<div class=\"error\" style=\"color:red;\">${err}</div>`;\n",
       "      throw err;\n",
       "    }\n",
       "\n",
       "    function displayChart(vegaEmbed) {\n",
       "      vegaEmbed(outputDiv, spec, embedOpt)\n",
       "        .catch(err => showError(`Javascript Error: ${err.message}<br>This usually means there's a typo in your chart specification. See the javascript console for the full traceback.`));\n",
       "    }\n",
       "\n",
       "    if(typeof define === \"function\" && define.amd) {\n",
       "      requirejs.config({paths});\n",
       "      require([\"vega-embed\"], displayChart, err => showError(`Error loading script: ${err.message}`));\n",
       "    } else if (typeof vegaEmbed === \"function\") {\n",
       "      displayChart(vegaEmbed);\n",
       "    } else {\n",
       "      loadScript(\"vega\")\n",
       "        .then(() => loadScript(\"vega-lite\"))\n",
       "        .then(() => loadScript(\"vega-embed\"))\n",
       "        .catch(showError)\n",
       "        .then(() => displayChart(vegaEmbed));\n",
       "    }\n",
       "  })({\"config\": {\"background\": \"white\", \"view\": {\"continuousWidth\": 400, \"continuousHeight\": 300}}, \"data\": {\"name\": \"data-347f1284ea3247c0f55cb966abbdd2d8\"}, \"mark\": {\"type\": \"bar\", \"color\": \"firebrick\"}, \"encoding\": {\"x\": {\"type\": \"quantitative\", \"aggregate\": \"average\", \"axis\": {\"title\": \"avg(b) by category\"}, \"field\": \"b\"}, \"y\": {\"type\": \"nominal\", \"axis\": {\"title\": \"category\"}, \"field\": \"a\"}}, \"$schema\": \"https://vega.github.io/schema/vega-lite/v4.0.0.json\", \"datasets\": {\"data-347f1284ea3247c0f55cb966abbdd2d8\": [{\"a\": \"C\", \"b\": 2}, {\"a\": \"C\", \"b\": 7}, {\"a\": \"C\", \"b\": 4}, {\"a\": \"D\", \"b\": 1}, {\"a\": \"D\", \"b\": 2}, {\"a\": \"D\", \"b\": 6}, {\"a\": \"E\", \"b\": 8}, {\"a\": \"E\", \"b\": 4}, {\"a\": \"E\", \"b\": 7}]}}, {\"mode\": \"vega-lite\"});\n",
       "</script>"
      ],
      "text/plain": [
       "alt.Chart(...)"
      ]
     },
     "execution_count": 19,
     "metadata": {},
     "output_type": "execute_result"
    }
   ],
   "source": [
    "alt.Chart(df).mark_bar(color='firebrick').encode(\n",
    "    y=alt.Y('a', axis=alt.Axis(title='category')),\n",
    "    x=alt.X('average(b)', axis=alt.Axis(title='avg(b) by category'))\n",
    ")"
   ]
  },
  {
   "cell_type": "markdown",
   "metadata": {},
   "source": [
    "En el ejemplo anterior no basta con solo el nombre de la columna, es necesario crear el objeto `alt.__` correspondiente a los canales."
   ]
  },
  {
   "cell_type": "markdown",
   "metadata": {},
   "source": [
    "Otro ejemplo útil consiste en juntar dos gŕaficos en una misma figura."
   ]
  },
  {
   "cell_type": "code",
   "execution_count": 20,
   "metadata": {},
   "outputs": [
    {
     "data": {
      "text/html": [
       "\n",
       "<div id=\"altair-viz-9\"></div>\n",
       "<script type=\"text/javascript\">\n",
       "  (function(spec, embedOpt){\n",
       "    const outputDiv = document.getElementById(\"altair-viz-9\");\n",
       "    const paths = {\n",
       "      \"vega\": \"https://cdn.jsdelivr.net/npm//vega@5?noext\",\n",
       "      \"vega-lib\": \"https://cdn.jsdelivr.net/npm//vega-lib?noext\",\n",
       "      \"vega-lite\": \"https://cdn.jsdelivr.net/npm//vega-lite@4.0.0?noext\",\n",
       "      \"vega-embed\": \"https://cdn.jsdelivr.net/npm//vega-embed@6?noext\",\n",
       "    };\n",
       "\n",
       "    function loadScript(lib) {\n",
       "      return new Promise(function(resolve, reject) {\n",
       "        var s = document.createElement('script');\n",
       "        s.src = paths[lib];\n",
       "        s.async = true;\n",
       "        s.onload = () => resolve(paths[lib]);\n",
       "        s.onerror = () => reject(`Error loading script: ${paths[lib]}`);\n",
       "        document.getElementsByTagName(\"head\")[0].appendChild(s);\n",
       "      });\n",
       "    }\n",
       "\n",
       "    function showError(err) {\n",
       "      outputDiv.innerHTML = `<div class=\"error\" style=\"color:red;\">${err}</div>`;\n",
       "      throw err;\n",
       "    }\n",
       "\n",
       "    function displayChart(vegaEmbed) {\n",
       "      vegaEmbed(outputDiv, spec, embedOpt)\n",
       "        .catch(err => showError(`Javascript Error: ${err.message}<br>This usually means there's a typo in your chart specification. See the javascript console for the full traceback.`));\n",
       "    }\n",
       "\n",
       "    if(typeof define === \"function\" && define.amd) {\n",
       "      requirejs.config({paths});\n",
       "      require([\"vega-embed\"], displayChart, err => showError(`Error loading script: ${err.message}`));\n",
       "    } else if (typeof vegaEmbed === \"function\") {\n",
       "      displayChart(vegaEmbed);\n",
       "    } else {\n",
       "      loadScript(\"vega\")\n",
       "        .then(() => loadScript(\"vega-lite\"))\n",
       "        .then(() => loadScript(\"vega-embed\"))\n",
       "        .catch(showError)\n",
       "        .then(() => displayChart(vegaEmbed));\n",
       "    }\n",
       "  })({\"config\": {\"background\": \"white\", \"view\": {\"continuousWidth\": 400, \"continuousHeight\": 300}}, \"hconcat\": [{\"mark\": \"bar\", \"encoding\": {\"x\": {\"type\": \"nominal\", \"field\": \"a\"}, \"y\": {\"type\": \"quantitative\", \"aggregate\": \"average\", \"field\": \"b\"}}}, {\"mark\": {\"type\": \"bar\", \"color\": \"firebrick\"}, \"encoding\": {\"x\": {\"type\": \"quantitative\", \"aggregate\": \"average\", \"axis\": {\"title\": \"avg(b) by category\"}, \"field\": \"b\"}, \"y\": {\"type\": \"nominal\", \"axis\": {\"title\": \"category\"}, \"field\": \"a\"}}}], \"data\": {\"name\": \"data-347f1284ea3247c0f55cb966abbdd2d8\"}, \"$schema\": \"https://vega.github.io/schema/vega-lite/v4.0.0.json\", \"datasets\": {\"data-347f1284ea3247c0f55cb966abbdd2d8\": [{\"a\": \"C\", \"b\": 2}, {\"a\": \"C\", \"b\": 7}, {\"a\": \"C\", \"b\": 4}, {\"a\": \"D\", \"b\": 1}, {\"a\": \"D\", \"b\": 2}, {\"a\": \"D\", \"b\": 6}, {\"a\": \"E\", \"b\": 8}, {\"a\": \"E\", \"b\": 4}, {\"a\": \"E\", \"b\": 7}]}}, {\"mode\": \"vega-lite\"});\n",
       "</script>"
      ],
      "text/plain": [
       "alt.HConcatChart(...)"
      ]
     },
     "execution_count": 20,
     "metadata": {},
     "output_type": "execute_result"
    }
   ],
   "source": [
    "vertical_chart = alt.Chart(df).mark_bar().encode(\n",
    "    x='a',\n",
    "    y='average(b)'\n",
    ")\n",
    "\n",
    "horizontal_chart = alt.Chart(df).mark_bar(color='firebrick').encode(\n",
    "    y=alt.Y('a', axis=alt.Axis(title='category')),\n",
    "    x=alt.X('average(b)', axis=alt.Axis(title='avg(b) by category'))\n",
    ")\n",
    "\n",
    "vertical_chart | horizontal_chart  "
   ]
  },
  {
   "cell_type": "markdown",
   "metadata": {},
   "source": [
    "Inclusive se puden sumar!"
   ]
  },
  {
   "cell_type": "code",
   "execution_count": 21,
   "metadata": {},
   "outputs": [
    {
     "data": {
      "text/html": [
       "\n",
       "<div id=\"altair-viz-10\"></div>\n",
       "<script type=\"text/javascript\">\n",
       "  (function(spec, embedOpt){\n",
       "    const outputDiv = document.getElementById(\"altair-viz-10\");\n",
       "    const paths = {\n",
       "      \"vega\": \"https://cdn.jsdelivr.net/npm//vega@5?noext\",\n",
       "      \"vega-lib\": \"https://cdn.jsdelivr.net/npm//vega-lib?noext\",\n",
       "      \"vega-lite\": \"https://cdn.jsdelivr.net/npm//vega-lite@4.0.0?noext\",\n",
       "      \"vega-embed\": \"https://cdn.jsdelivr.net/npm//vega-embed@6?noext\",\n",
       "    };\n",
       "\n",
       "    function loadScript(lib) {\n",
       "      return new Promise(function(resolve, reject) {\n",
       "        var s = document.createElement('script');\n",
       "        s.src = paths[lib];\n",
       "        s.async = true;\n",
       "        s.onload = () => resolve(paths[lib]);\n",
       "        s.onerror = () => reject(`Error loading script: ${paths[lib]}`);\n",
       "        document.getElementsByTagName(\"head\")[0].appendChild(s);\n",
       "      });\n",
       "    }\n",
       "\n",
       "    function showError(err) {\n",
       "      outputDiv.innerHTML = `<div class=\"error\" style=\"color:red;\">${err}</div>`;\n",
       "      throw err;\n",
       "    }\n",
       "\n",
       "    function displayChart(vegaEmbed) {\n",
       "      vegaEmbed(outputDiv, spec, embedOpt)\n",
       "        .catch(err => showError(`Javascript Error: ${err.message}<br>This usually means there's a typo in your chart specification. See the javascript console for the full traceback.`));\n",
       "    }\n",
       "\n",
       "    if(typeof define === \"function\" && define.amd) {\n",
       "      requirejs.config({paths});\n",
       "      require([\"vega-embed\"], displayChart, err => showError(`Error loading script: ${err.message}`));\n",
       "    } else if (typeof vegaEmbed === \"function\") {\n",
       "      displayChart(vegaEmbed);\n",
       "    } else {\n",
       "      loadScript(\"vega\")\n",
       "        .then(() => loadScript(\"vega-lite\"))\n",
       "        .then(() => loadScript(\"vega-embed\"))\n",
       "        .catch(showError)\n",
       "        .then(() => displayChart(vegaEmbed));\n",
       "    }\n",
       "  })({\"config\": {\"background\": \"white\", \"view\": {\"continuousWidth\": 400, \"continuousHeight\": 300}}, \"layer\": [{\"mark\": \"bar\", \"encoding\": {\"x\": {\"type\": \"nominal\", \"field\": \"a\"}, \"y\": {\"type\": \"quantitative\", \"aggregate\": \"average\", \"field\": \"b\"}}}, {\"mark\": {\"type\": \"point\", \"color\": \"firebrick\"}, \"encoding\": {\"x\": {\"type\": \"nominal\", \"field\": \"a\"}, \"y\": {\"type\": \"quantitative\", \"aggregate\": \"average\", \"field\": \"b\"}}}], \"data\": {\"name\": \"data-347f1284ea3247c0f55cb966abbdd2d8\"}, \"$schema\": \"https://vega.github.io/schema/vega-lite/v4.0.0.json\", \"datasets\": {\"data-347f1284ea3247c0f55cb966abbdd2d8\": [{\"a\": \"C\", \"b\": 2}, {\"a\": \"C\", \"b\": 7}, {\"a\": \"C\", \"b\": 4}, {\"a\": \"D\", \"b\": 1}, {\"a\": \"D\", \"b\": 2}, {\"a\": \"D\", \"b\": 6}, {\"a\": \"E\", \"b\": 8}, {\"a\": \"E\", \"b\": 4}, {\"a\": \"E\", \"b\": 7}]}}, {\"mode\": \"vega-lite\"});\n",
       "</script>"
      ],
      "text/plain": [
       "alt.LayerChart(...)"
      ]
     },
     "execution_count": 21,
     "metadata": {},
     "output_type": "execute_result"
    }
   ],
   "source": [
    "vertical_chart_point = alt.Chart(df).mark_point(color='firebrick').encode(\n",
    "    x='a',\n",
    "    y='average(b)'\n",
    ")\n",
    "\n",
    "vertical_chart + vertical_chart_point"
   ]
  },
  {
   "cell_type": "markdown",
   "metadata": {},
   "source": [
    "## Gráfico a Gráfico\n",
    "<a id='plot-plot'></a>"
   ]
  },
  {
   "cell_type": "markdown",
   "metadata": {},
   "source": [
    "### Gráfico de Barras\n",
    "<a id='barplot'></a>"
   ]
  },
  {
   "cell_type": "code",
   "execution_count": 22,
   "metadata": {},
   "outputs": [
    {
     "data": {
      "text/html": [
       "\n",
       "<div id=\"altair-viz-11\"></div>\n",
       "<script type=\"text/javascript\">\n",
       "  (function(spec, embedOpt){\n",
       "    const outputDiv = document.getElementById(\"altair-viz-11\");\n",
       "    const paths = {\n",
       "      \"vega\": \"https://cdn.jsdelivr.net/npm//vega@5?noext\",\n",
       "      \"vega-lib\": \"https://cdn.jsdelivr.net/npm//vega-lib?noext\",\n",
       "      \"vega-lite\": \"https://cdn.jsdelivr.net/npm//vega-lite@4.0.0?noext\",\n",
       "      \"vega-embed\": \"https://cdn.jsdelivr.net/npm//vega-embed@6?noext\",\n",
       "    };\n",
       "\n",
       "    function loadScript(lib) {\n",
       "      return new Promise(function(resolve, reject) {\n",
       "        var s = document.createElement('script');\n",
       "        s.src = paths[lib];\n",
       "        s.async = true;\n",
       "        s.onload = () => resolve(paths[lib]);\n",
       "        s.onerror = () => reject(`Error loading script: ${paths[lib]}`);\n",
       "        document.getElementsByTagName(\"head\")[0].appendChild(s);\n",
       "      });\n",
       "    }\n",
       "\n",
       "    function showError(err) {\n",
       "      outputDiv.innerHTML = `<div class=\"error\" style=\"color:red;\">${err}</div>`;\n",
       "      throw err;\n",
       "    }\n",
       "\n",
       "    function displayChart(vegaEmbed) {\n",
       "      vegaEmbed(outputDiv, spec, embedOpt)\n",
       "        .catch(err => showError(`Javascript Error: ${err.message}<br>This usually means there's a typo in your chart specification. See the javascript console for the full traceback.`));\n",
       "    }\n",
       "\n",
       "    if(typeof define === \"function\" && define.amd) {\n",
       "      requirejs.config({paths});\n",
       "      require([\"vega-embed\"], displayChart, err => showError(`Error loading script: ${err.message}`));\n",
       "    } else if (typeof vegaEmbed === \"function\") {\n",
       "      displayChart(vegaEmbed);\n",
       "    } else {\n",
       "      loadScript(\"vega\")\n",
       "        .then(() => loadScript(\"vega-lite\"))\n",
       "        .then(() => loadScript(\"vega-embed\"))\n",
       "        .catch(showError)\n",
       "        .then(() => displayChart(vegaEmbed));\n",
       "    }\n",
       "  })({\"config\": {\"background\": \"white\", \"view\": {\"continuousWidth\": 400, \"continuousHeight\": 300}}, \"data\": {\"name\": \"data-c2a3e89ba9d5d1687d5e8c28d630a033\"}, \"mark\": \"bar\", \"encoding\": {\"x\": {\"type\": \"nominal\", \"field\": \"a\"}, \"y\": {\"type\": \"quantitative\", \"field\": \"b\"}}, \"$schema\": \"https://vega.github.io/schema/vega-lite/v4.0.0.json\", \"datasets\": {\"data-c2a3e89ba9d5d1687d5e8c28d630a033\": [{\"a\": \"A\", \"b\": 28}, {\"a\": \"B\", \"b\": 55}, {\"a\": \"C\", \"b\": 43}, {\"a\": \"D\", \"b\": 91}, {\"a\": \"E\", \"b\": 81}, {\"a\": \"F\", \"b\": 53}, {\"a\": \"G\", \"b\": 19}, {\"a\": \"H\", \"b\": 87}, {\"a\": \"I\", \"b\": 52}]}}, {\"mode\": \"vega-lite\"});\n",
       "</script>"
      ],
      "text/plain": [
       "alt.Chart(...)"
      ]
     },
     "execution_count": 22,
     "metadata": {},
     "output_type": "execute_result"
    }
   ],
   "source": [
    "source = pd.DataFrame({\n",
    "    'a': ['A', 'B', 'C', 'D', 'E', 'F', 'G', 'H', 'I'],\n",
    "    'b': [28, 55, 43, 91, 81, 53, 19, 87, 52]\n",
    "})\n",
    "\n",
    "alt.Chart(source).mark_bar().encode(\n",
    "    x='a',\n",
    "    y='b'\n",
    ")"
   ]
  },
  {
   "cell_type": "markdown",
   "metadata": {},
   "source": [
    "Añadir una capa de complejidad, ya sea diferenciar por color, es tan simple como:"
   ]
  },
  {
   "cell_type": "code",
   "execution_count": 23,
   "metadata": {},
   "outputs": [
    {
     "data": {
      "text/html": [
       "\n",
       "<div id=\"altair-viz-12\"></div>\n",
       "<script type=\"text/javascript\">\n",
       "  (function(spec, embedOpt){\n",
       "    const outputDiv = document.getElementById(\"altair-viz-12\");\n",
       "    const paths = {\n",
       "      \"vega\": \"https://cdn.jsdelivr.net/npm//vega@5?noext\",\n",
       "      \"vega-lib\": \"https://cdn.jsdelivr.net/npm//vega-lib?noext\",\n",
       "      \"vega-lite\": \"https://cdn.jsdelivr.net/npm//vega-lite@4.0.0?noext\",\n",
       "      \"vega-embed\": \"https://cdn.jsdelivr.net/npm//vega-embed@6?noext\",\n",
       "    };\n",
       "\n",
       "    function loadScript(lib) {\n",
       "      return new Promise(function(resolve, reject) {\n",
       "        var s = document.createElement('script');\n",
       "        s.src = paths[lib];\n",
       "        s.async = true;\n",
       "        s.onload = () => resolve(paths[lib]);\n",
       "        s.onerror = () => reject(`Error loading script: ${paths[lib]}`);\n",
       "        document.getElementsByTagName(\"head\")[0].appendChild(s);\n",
       "      });\n",
       "    }\n",
       "\n",
       "    function showError(err) {\n",
       "      outputDiv.innerHTML = `<div class=\"error\" style=\"color:red;\">${err}</div>`;\n",
       "      throw err;\n",
       "    }\n",
       "\n",
       "    function displayChart(vegaEmbed) {\n",
       "      vegaEmbed(outputDiv, spec, embedOpt)\n",
       "        .catch(err => showError(`Javascript Error: ${err.message}<br>This usually means there's a typo in your chart specification. See the javascript console for the full traceback.`));\n",
       "    }\n",
       "\n",
       "    if(typeof define === \"function\" && define.amd) {\n",
       "      requirejs.config({paths});\n",
       "      require([\"vega-embed\"], displayChart, err => showError(`Error loading script: ${err.message}`));\n",
       "    } else if (typeof vegaEmbed === \"function\") {\n",
       "      displayChart(vegaEmbed);\n",
       "    } else {\n",
       "      loadScript(\"vega\")\n",
       "        .then(() => loadScript(\"vega-lite\"))\n",
       "        .then(() => loadScript(\"vega-embed\"))\n",
       "        .catch(showError)\n",
       "        .then(() => displayChart(vegaEmbed));\n",
       "    }\n",
       "  })({\"config\": {\"background\": \"white\", \"view\": {\"continuousWidth\": 400, \"continuousHeight\": 300}}, \"data\": {\"name\": \"data-093ece8c35bb2d41094cfb6138ec810b\"}, \"mark\": \"bar\", \"encoding\": {\"color\": {\"type\": \"nominal\", \"field\": \"year\"}, \"column\": {\"type\": \"nominal\", \"field\": \"site\"}, \"x\": {\"type\": \"ordinal\", \"field\": \"year\"}, \"y\": {\"type\": \"quantitative\", \"aggregate\": \"sum\", \"field\": \"yield\"}}, \"$schema\": \"https://vega.github.io/schema/vega-lite/v4.0.0.json\", \"datasets\": {\"data-093ece8c35bb2d41094cfb6138ec810b\": [{\"site\": \"University Farm\", \"variety\": \"Manchuria\", \"year\": 1931, \"yield\": 27.0}, {\"site\": \"Waseca\", \"variety\": \"Manchuria\", \"year\": 1931, \"yield\": 48.86667}, {\"site\": \"Morris\", \"variety\": \"Manchuria\", \"year\": 1931, \"yield\": 27.43334}, {\"site\": \"Crookston\", \"variety\": \"Manchuria\", \"year\": 1931, \"yield\": 39.93333}, {\"site\": \"Grand Rapids\", \"variety\": \"Manchuria\", \"year\": 1931, \"yield\": 32.96667}, {\"site\": \"Duluth\", \"variety\": \"Manchuria\", \"year\": 1931, \"yield\": 28.96667}, {\"site\": \"University Farm\", \"variety\": \"Glabron\", \"year\": 1931, \"yield\": 43.06666}, {\"site\": \"Waseca\", \"variety\": \"Glabron\", \"year\": 1931, \"yield\": 55.2}, {\"site\": \"Morris\", \"variety\": \"Glabron\", \"year\": 1931, \"yield\": 28.76667}, {\"site\": \"Crookston\", \"variety\": \"Glabron\", \"year\": 1931, \"yield\": 38.13333}, {\"site\": \"Grand Rapids\", \"variety\": \"Glabron\", \"year\": 1931, \"yield\": 29.13333}, {\"site\": \"Duluth\", \"variety\": \"Glabron\", \"year\": 1931, \"yield\": 29.66667}, {\"site\": \"University Farm\", \"variety\": \"Svansota\", \"year\": 1931, \"yield\": 35.13333}, {\"site\": \"Waseca\", \"variety\": \"Svansota\", \"year\": 1931, \"yield\": 47.33333}, {\"site\": \"Morris\", \"variety\": \"Svansota\", \"year\": 1931, \"yield\": 25.76667}, {\"site\": \"Crookston\", \"variety\": \"Svansota\", \"year\": 1931, \"yield\": 40.46667}, {\"site\": \"Grand Rapids\", \"variety\": \"Svansota\", \"year\": 1931, \"yield\": 29.66667}, {\"site\": \"Duluth\", \"variety\": \"Svansota\", \"year\": 1931, \"yield\": 25.7}, {\"site\": \"University Farm\", \"variety\": \"Velvet\", \"year\": 1931, \"yield\": 39.9}, {\"site\": \"Waseca\", \"variety\": \"Velvet\", \"year\": 1931, \"yield\": 50.23333}, {\"site\": \"Morris\", \"variety\": \"Velvet\", \"year\": 1931, \"yield\": 26.13333}, {\"site\": \"Crookston\", \"variety\": \"Velvet\", \"year\": 1931, \"yield\": 41.33333}, {\"site\": \"Grand Rapids\", \"variety\": \"Velvet\", \"year\": 1931, \"yield\": 23.03333}, {\"site\": \"Duluth\", \"variety\": \"Velvet\", \"year\": 1931, \"yield\": 26.3}, {\"site\": \"University Farm\", \"variety\": \"Trebi\", \"year\": 1931, \"yield\": 36.56666}, {\"site\": \"Waseca\", \"variety\": \"Trebi\", \"year\": 1931, \"yield\": 63.8333}, {\"site\": \"Morris\", \"variety\": \"Trebi\", \"year\": 1931, \"yield\": 43.76667}, {\"site\": \"Crookston\", \"variety\": \"Trebi\", \"year\": 1931, \"yield\": 46.93333}, {\"site\": \"Grand Rapids\", \"variety\": \"Trebi\", \"year\": 1931, \"yield\": 29.76667}, {\"site\": \"Duluth\", \"variety\": \"Trebi\", \"year\": 1931, \"yield\": 33.93333}, {\"site\": \"University Farm\", \"variety\": \"No. 457\", \"year\": 1931, \"yield\": 43.26667}, {\"site\": \"Waseca\", \"variety\": \"No. 457\", \"year\": 1931, \"yield\": 58.1}, {\"site\": \"Morris\", \"variety\": \"No. 457\", \"year\": 1931, \"yield\": 28.7}, {\"site\": \"Crookston\", \"variety\": \"No. 457\", \"year\": 1931, \"yield\": 45.66667}, {\"site\": \"Grand Rapids\", \"variety\": \"No. 457\", \"year\": 1931, \"yield\": 32.16667}, {\"site\": \"Duluth\", \"variety\": \"No. 457\", \"year\": 1931, \"yield\": 33.6}, {\"site\": \"University Farm\", \"variety\": \"No. 462\", \"year\": 1931, \"yield\": 36.6}, {\"site\": \"Waseca\", \"variety\": \"No. 462\", \"year\": 1931, \"yield\": 65.7667}, {\"site\": \"Morris\", \"variety\": \"No. 462\", \"year\": 1931, \"yield\": 30.36667}, {\"site\": \"Crookston\", \"variety\": \"No. 462\", \"year\": 1931, \"yield\": 48.56666}, {\"site\": \"Grand Rapids\", \"variety\": \"No. 462\", \"year\": 1931, \"yield\": 24.93334}, {\"site\": \"Duluth\", \"variety\": \"No. 462\", \"year\": 1931, \"yield\": 28.1}, {\"site\": \"University Farm\", \"variety\": \"Peatland\", \"year\": 1931, \"yield\": 32.76667}, {\"site\": \"Waseca\", \"variety\": \"Peatland\", \"year\": 1931, \"yield\": 48.56666}, {\"site\": \"Morris\", \"variety\": \"Peatland\", \"year\": 1931, \"yield\": 29.86667}, {\"site\": \"Crookston\", \"variety\": \"Peatland\", \"year\": 1931, \"yield\": 41.6}, {\"site\": \"Grand Rapids\", \"variety\": \"Peatland\", \"year\": 1931, \"yield\": 34.7}, {\"site\": \"Duluth\", \"variety\": \"Peatland\", \"year\": 1931, \"yield\": 32.0}, {\"site\": \"University Farm\", \"variety\": \"No. 475\", \"year\": 1931, \"yield\": 24.66667}, {\"site\": \"Waseca\", \"variety\": \"No. 475\", \"year\": 1931, \"yield\": 46.76667}, {\"site\": \"Morris\", \"variety\": \"No. 475\", \"year\": 1931, \"yield\": 22.6}, {\"site\": \"Crookston\", \"variety\": \"No. 475\", \"year\": 1931, \"yield\": 44.1}, {\"site\": \"Grand Rapids\", \"variety\": \"No. 475\", \"year\": 1931, \"yield\": 19.7}, {\"site\": \"Duluth\", \"variety\": \"No. 475\", \"year\": 1931, \"yield\": 33.06666}, {\"site\": \"University Farm\", \"variety\": \"Wisconsin No. 38\", \"year\": 1931, \"yield\": 39.3}, {\"site\": \"Waseca\", \"variety\": \"Wisconsin No. 38\", \"year\": 1931, \"yield\": 58.8}, {\"site\": \"Morris\", \"variety\": \"Wisconsin No. 38\", \"year\": 1931, \"yield\": 29.46667}, {\"site\": \"Crookston\", \"variety\": \"Wisconsin No. 38\", \"year\": 1931, \"yield\": 49.86667}, {\"site\": \"Grand Rapids\", \"variety\": \"Wisconsin No. 38\", \"year\": 1931, \"yield\": 34.46667}, {\"site\": \"Duluth\", \"variety\": \"Wisconsin No. 38\", \"year\": 1931, \"yield\": 31.6}, {\"site\": \"University Farm\", \"variety\": \"Manchuria\", \"year\": 1932, \"yield\": 26.9}, {\"site\": \"Waseca\", \"variety\": \"Manchuria\", \"year\": 1932, \"yield\": 33.46667}, {\"site\": \"Morris\", \"variety\": \"Manchuria\", \"year\": 1932, \"yield\": 34.36666}, {\"site\": \"Crookston\", \"variety\": \"Manchuria\", \"year\": 1932, \"yield\": 32.96667}, {\"site\": \"Grand Rapids\", \"variety\": \"Manchuria\", \"year\": 1932, \"yield\": 22.13333}, {\"site\": \"Duluth\", \"variety\": \"Manchuria\", \"year\": 1932, \"yield\": 22.56667}, {\"site\": \"University Farm\", \"variety\": \"Glabron\", \"year\": 1932, \"yield\": 36.8}, {\"site\": \"Waseca\", \"variety\": \"Glabron\", \"year\": 1932, \"yield\": 37.73333}, {\"site\": \"Morris\", \"variety\": \"Glabron\", \"year\": 1932, \"yield\": 35.13333}, {\"site\": \"Crookston\", \"variety\": \"Glabron\", \"year\": 1932, \"yield\": 26.16667}, {\"site\": \"Grand Rapids\", \"variety\": \"Glabron\", \"year\": 1932, \"yield\": 14.43333}, {\"site\": \"Duluth\", \"variety\": \"Glabron\", \"year\": 1932, \"yield\": 25.86667}, {\"site\": \"University Farm\", \"variety\": \"Svansota\", \"year\": 1932, \"yield\": 27.43334}, {\"site\": \"Waseca\", \"variety\": \"Svansota\", \"year\": 1932, \"yield\": 38.5}, {\"site\": \"Morris\", \"variety\": \"Svansota\", \"year\": 1932, \"yield\": 35.03333}, {\"site\": \"Crookston\", \"variety\": \"Svansota\", \"year\": 1932, \"yield\": 20.63333}, {\"site\": \"Grand Rapids\", \"variety\": \"Svansota\", \"year\": 1932, \"yield\": 16.63333}, {\"site\": \"Duluth\", \"variety\": \"Svansota\", \"year\": 1932, \"yield\": 22.23333}, {\"site\": \"University Farm\", \"variety\": \"Velvet\", \"year\": 1932, \"yield\": 26.8}, {\"site\": \"Waseca\", \"variety\": \"Velvet\", \"year\": 1932, \"yield\": 37.4}, {\"site\": \"Morris\", \"variety\": \"Velvet\", \"year\": 1932, \"yield\": 38.83333}, {\"site\": \"Crookston\", \"variety\": \"Velvet\", \"year\": 1932, \"yield\": 32.06666}, {\"site\": \"Grand Rapids\", \"variety\": \"Velvet\", \"year\": 1932, \"yield\": 32.23333}, {\"site\": \"Duluth\", \"variety\": \"Velvet\", \"year\": 1932, \"yield\": 22.46667}, {\"site\": \"University Farm\", \"variety\": \"Trebi\", \"year\": 1932, \"yield\": 29.06667}, {\"site\": \"Waseca\", \"variety\": \"Trebi\", \"year\": 1932, \"yield\": 49.2333}, {\"site\": \"Morris\", \"variety\": \"Trebi\", \"year\": 1932, \"yield\": 46.63333}, {\"site\": \"Crookston\", \"variety\": \"Trebi\", \"year\": 1932, \"yield\": 41.83333}, {\"site\": \"Grand Rapids\", \"variety\": \"Trebi\", \"year\": 1932, \"yield\": 20.63333}, {\"site\": \"Duluth\", \"variety\": \"Trebi\", \"year\": 1932, \"yield\": 30.6}, {\"site\": \"University Farm\", \"variety\": \"No. 457\", \"year\": 1932, \"yield\": 26.43334}, {\"site\": \"Waseca\", \"variety\": \"No. 457\", \"year\": 1932, \"yield\": 42.2}, {\"site\": \"Morris\", \"variety\": \"No. 457\", \"year\": 1932, \"yield\": 43.53334}, {\"site\": \"Crookston\", \"variety\": \"No. 457\", \"year\": 1932, \"yield\": 34.33333}, {\"site\": \"Grand Rapids\", \"variety\": \"No. 457\", \"year\": 1932, \"yield\": 19.46667}, {\"site\": \"Duluth\", \"variety\": \"No. 457\", \"year\": 1932, \"yield\": 22.7}, {\"site\": \"University Farm\", \"variety\": \"No. 462\", \"year\": 1932, \"yield\": 25.56667}, {\"site\": \"Waseca\", \"variety\": \"No. 462\", \"year\": 1932, \"yield\": 44.7}, {\"site\": \"Morris\", \"variety\": \"No. 462\", \"year\": 1932, \"yield\": 47.0}, {\"site\": \"Crookston\", \"variety\": \"No. 462\", \"year\": 1932, \"yield\": 30.53333}, {\"site\": \"Grand Rapids\", \"variety\": \"No. 462\", \"year\": 1932, \"yield\": 19.9}, {\"site\": \"Duluth\", \"variety\": \"No. 462\", \"year\": 1932, \"yield\": 22.5}, {\"site\": \"University Farm\", \"variety\": \"Peatland\", \"year\": 1932, \"yield\": 28.06667}, {\"site\": \"Waseca\", \"variety\": \"Peatland\", \"year\": 1932, \"yield\": 36.03333}, {\"site\": \"Morris\", \"variety\": \"Peatland\", \"year\": 1932, \"yield\": 43.2}, {\"site\": \"Crookston\", \"variety\": \"Peatland\", \"year\": 1932, \"yield\": 25.23333}, {\"site\": \"Grand Rapids\", \"variety\": \"Peatland\", \"year\": 1932, \"yield\": 26.76667}, {\"site\": \"Duluth\", \"variety\": \"Peatland\", \"year\": 1932, \"yield\": 31.36667}, {\"site\": \"University Farm\", \"variety\": \"No. 475\", \"year\": 1932, \"yield\": 30.0}, {\"site\": \"Waseca\", \"variety\": \"No. 475\", \"year\": 1932, \"yield\": 41.26667}, {\"site\": \"Morris\", \"variety\": \"No. 475\", \"year\": 1932, \"yield\": 44.23333}, {\"site\": \"Crookston\", \"variety\": \"No. 475\", \"year\": 1932, \"yield\": 32.13333}, {\"site\": \"Grand Rapids\", \"variety\": \"No. 475\", \"year\": 1932, \"yield\": 15.23333}, {\"site\": \"Duluth\", \"variety\": \"No. 475\", \"year\": 1932, \"yield\": 27.36667}, {\"site\": \"University Farm\", \"variety\": \"Wisconsin No. 38\", \"year\": 1932, \"yield\": 38.0}, {\"site\": \"Waseca\", \"variety\": \"Wisconsin No. 38\", \"year\": 1932, \"yield\": 58.16667}, {\"site\": \"Morris\", \"variety\": \"Wisconsin No. 38\", \"year\": 1932, \"yield\": 47.16667}, {\"site\": \"Crookston\", \"variety\": \"Wisconsin No. 38\", \"year\": 1932, \"yield\": 35.9}, {\"site\": \"Grand Rapids\", \"variety\": \"Wisconsin No. 38\", \"year\": 1932, \"yield\": 20.66667}, {\"site\": \"Duluth\", \"variety\": \"Wisconsin No. 38\", \"year\": 1932, \"yield\": 29.33333}]}}, {\"mode\": \"vega-lite\"});\n",
       "</script>"
      ],
      "text/plain": [
       "alt.Chart(...)"
      ]
     },
     "execution_count": 23,
     "metadata": {},
     "output_type": "execute_result"
    }
   ],
   "source": [
    "source = data.barley()\n",
    "\n",
    "alt.Chart(source).mark_bar().encode(\n",
    "    x='year:O',\n",
    "    y='sum(yield):Q',\n",
    "    color='year:N',\n",
    "    column='site:N'\n",
    ")"
   ]
  },
  {
   "cell_type": "markdown",
   "metadata": {},
   "source": [
    "#### Caso Especial: Histogramas"
   ]
  },
  {
   "cell_type": "markdown",
   "metadata": {},
   "source": [
    "Este ejemplo muesrta un histograma con una línea superpuesta indicando la media global."
   ]
  },
  {
   "cell_type": "code",
   "execution_count": 24,
   "metadata": {},
   "outputs": [
    {
     "data": {
      "text/html": [
       "\n",
       "<div id=\"altair-viz-13\"></div>\n",
       "<script type=\"text/javascript\">\n",
       "  (function(spec, embedOpt){\n",
       "    const outputDiv = document.getElementById(\"altair-viz-13\");\n",
       "    const paths = {\n",
       "      \"vega\": \"https://cdn.jsdelivr.net/npm//vega@5?noext\",\n",
       "      \"vega-lib\": \"https://cdn.jsdelivr.net/npm//vega-lib?noext\",\n",
       "      \"vega-lite\": \"https://cdn.jsdelivr.net/npm//vega-lite@4.0.0?noext\",\n",
       "      \"vega-embed\": \"https://cdn.jsdelivr.net/npm//vega-embed@6?noext\",\n",
       "    };\n",
       "\n",
       "    function loadScript(lib) {\n",
       "      return new Promise(function(resolve, reject) {\n",
       "        var s = document.createElement('script');\n",
       "        s.src = paths[lib];\n",
       "        s.async = true;\n",
       "        s.onload = () => resolve(paths[lib]);\n",
       "        s.onerror = () => reject(`Error loading script: ${paths[lib]}`);\n",
       "        document.getElementsByTagName(\"head\")[0].appendChild(s);\n",
       "      });\n",
       "    }\n",
       "\n",
       "    function showError(err) {\n",
       "      outputDiv.innerHTML = `<div class=\"error\" style=\"color:red;\">${err}</div>`;\n",
       "      throw err;\n",
       "    }\n",
       "\n",
       "    function displayChart(vegaEmbed) {\n",
       "      vegaEmbed(outputDiv, spec, embedOpt)\n",
       "        .catch(err => showError(`Javascript Error: ${err.message}<br>This usually means there's a typo in your chart specification. See the javascript console for the full traceback.`));\n",
       "    }\n",
       "\n",
       "    if(typeof define === \"function\" && define.amd) {\n",
       "      requirejs.config({paths});\n",
       "      require([\"vega-embed\"], displayChart, err => showError(`Error loading script: ${err.message}`));\n",
       "    } else if (typeof vegaEmbed === \"function\") {\n",
       "      displayChart(vegaEmbed);\n",
       "    } else {\n",
       "      loadScript(\"vega\")\n",
       "        .then(() => loadScript(\"vega-lite\"))\n",
       "        .then(() => loadScript(\"vega-embed\"))\n",
       "        .catch(showError)\n",
       "        .then(() => displayChart(vegaEmbed));\n",
       "    }\n",
       "  })({\"config\": {\"background\": \"white\", \"view\": {\"continuousWidth\": 400, \"continuousHeight\": 300}}, \"layer\": [{\"mark\": \"bar\", \"encoding\": {\"x\": {\"type\": \"quantitative\", \"axis\": null, \"bin\": true, \"field\": \"IMDB_Rating\"}, \"y\": {\"type\": \"quantitative\", \"aggregate\": \"count\"}}}, {\"mark\": {\"type\": \"rule\", \"color\": \"red\"}, \"encoding\": {\"size\": {\"value\": 5}, \"x\": {\"type\": \"quantitative\", \"aggregate\": \"mean\", \"field\": \"IMDB_Rating\"}}}], \"data\": {\"url\": \"https://vega.github.io/vega-datasets/data/movies.json\"}, \"$schema\": \"https://vega.github.io/schema/vega-lite/v4.0.0.json\"}, {\"mode\": \"vega-lite\"});\n",
       "</script>"
      ],
      "text/plain": [
       "alt.LayerChart(...)"
      ]
     },
     "execution_count": 24,
     "metadata": {},
     "output_type": "execute_result"
    }
   ],
   "source": [
    "source = data.movies.url\n",
    "\n",
    "base = alt.Chart(source)\n",
    "\n",
    "bar = base.mark_bar().encode(\n",
    "    x=alt.X('IMDB_Rating:Q', bin=True, axis=None),\n",
    "    y='count()'\n",
    ")\n",
    "\n",
    "rule = base.mark_rule(color='red').encode(\n",
    "    x='mean(IMDB_Rating):Q',\n",
    "    size=alt.value(5)\n",
    ")\n",
    "\n",
    "bar + rule"
   ]
  },
  {
   "cell_type": "markdown",
   "metadata": {},
   "source": [
    "### Gráfico de Líneas\n",
    "<a id='lineplot'></a>"
   ]
  },
  {
   "cell_type": "code",
   "execution_count": 25,
   "metadata": {},
   "outputs": [
    {
     "ename": "NameError",
     "evalue": "name 'np' is not defined",
     "output_type": "error",
     "traceback": [
      "\u001b[1;31m---------------------------------------------------------------------------\u001b[0m",
      "\u001b[1;31mNameError\u001b[0m                                 Traceback (most recent call last)",
      "\u001b[1;32m<ipython-input-25-d477e7fc1012>\u001b[0m in \u001b[0;36m<module>\u001b[1;34m\u001b[0m\n\u001b[1;32m----> 1\u001b[1;33m \u001b[0mx\u001b[0m \u001b[1;33m=\u001b[0m \u001b[0mnp\u001b[0m\u001b[1;33m.\u001b[0m\u001b[0marange\u001b[0m\u001b[1;33m(\u001b[0m\u001b[1;36m100\u001b[0m\u001b[1;33m)\u001b[0m\u001b[1;33m\u001b[0m\u001b[1;33m\u001b[0m\u001b[0m\n\u001b[0m\u001b[0;32m      2\u001b[0m source = pd.DataFrame({\n\u001b[0;32m      3\u001b[0m   \u001b[1;34m'x'\u001b[0m\u001b[1;33m:\u001b[0m \u001b[0mx\u001b[0m\u001b[1;33m,\u001b[0m\u001b[1;33m\u001b[0m\u001b[1;33m\u001b[0m\u001b[0m\n\u001b[0;32m      4\u001b[0m   \u001b[1;34m'f(x)'\u001b[0m\u001b[1;33m:\u001b[0m \u001b[0mnp\u001b[0m\u001b[1;33m.\u001b[0m\u001b[0msin\u001b[0m\u001b[1;33m(\u001b[0m\u001b[0mx\u001b[0m \u001b[1;33m/\u001b[0m \u001b[1;36m5\u001b[0m\u001b[1;33m)\u001b[0m\u001b[1;33m\u001b[0m\u001b[1;33m\u001b[0m\u001b[0m\n\u001b[0;32m      5\u001b[0m })\n",
      "\u001b[1;31mNameError\u001b[0m: name 'np' is not defined"
     ]
    }
   ],
   "source": [
    "x = np.arange(100)\n",
    "source = pd.DataFrame({\n",
    "  'x': x,\n",
    "  'f(x)': np.sin(x / 5)\n",
    "})\n",
    "\n",
    "alt.Chart(source).mark_line().encode(\n",
    "    x='x',\n",
    "    y='f(x)'\n",
    ")"
   ]
  },
  {
   "cell_type": "markdown",
   "metadata": {},
   "source": [
    "Este ejemplo muestra un gráfico de líneas de series múltiples de los precios de cierre diarios de las acciones de AAPL, AMZN, GOOG, IBM y MSFT entre 2000 y 2010."
   ]
  },
  {
   "cell_type": "code",
   "execution_count": null,
   "metadata": {},
   "outputs": [],
   "source": [
    "source = data.stocks()\n",
    "\n",
    "alt.Chart(source).mark_line().encode(\n",
    "    x='date',\n",
    "    y='price',\n",
    "    color='symbol'\n",
    ")"
   ]
  },
  {
   "cell_type": "markdown",
   "metadata": {},
   "source": [
    "### Scatter Plot\n",
    "<a id='scatter-plot'></a>"
   ]
  },
  {
   "cell_type": "code",
   "execution_count": null,
   "metadata": {},
   "outputs": [],
   "source": [
    "source = data.cars()\n",
    "\n",
    "alt.Chart(source).mark_circle(size=60).encode(\n",
    "    x='Horsepower',\n",
    "    y='Miles_per_Gallon',\n",
    "    color='Origin',\n",
    ")"
   ]
  },
  {
   "cell_type": "markdown",
   "metadata": {},
   "source": [
    "Un scatter plot con una superposición media continua. En este ejemplo, se utiliza una ventana de 30 días para calcular la media de la temperatura máxima alrededor de cada fecha."
   ]
  },
  {
   "cell_type": "code",
   "execution_count": null,
   "metadata": {},
   "outputs": [],
   "source": [
    "source = data.seattle_weather()\n",
    "\n",
    "line = alt.Chart(source).mark_line(\n",
    "    color='red',\n",
    "    size=2\n",
    ").transform_window(\n",
    "    rolling_mean='mean(temp_max)',\n",
    "    frame=[-15, 15]\n",
    ").encode(\n",
    "    x='date:T',\n",
    "    y='rolling_mean:Q'\n",
    ")\n",
    "\n",
    "points = alt.Chart(source).mark_point().encode(\n",
    "    x='date:T',\n",
    "    y=alt.Y('temp_max:Q',\n",
    "            axis=alt.Axis(title='Max Temp'))\n",
    ")\n",
    "\n",
    "points + line"
   ]
  },
  {
   "cell_type": "markdown",
   "metadata": {},
   "source": [
    "### Gráfico de Barras de Error\n",
    "<a id='error-bar-plot'></a>"
   ]
  },
  {
   "cell_type": "markdown",
   "metadata": {},
   "source": [
    "Este ejemplo muestra barras de error con desviación estándar utilizando diferentes datos de rendimiento de cultivos en la década de 1930."
   ]
  },
  {
   "cell_type": "code",
   "execution_count": null,
   "metadata": {},
   "outputs": [],
   "source": [
    "source = data.barley()\n",
    "\n",
    "error_bars = alt.Chart(source).mark_errorbar(extent='stdev').encode(\n",
    "  x=alt.X('yield:Q', scale=alt.Scale(zero=False)),\n",
    "  y=alt.Y('variety:N')\n",
    ")\n",
    "\n",
    "points = alt.Chart(source).mark_point(filled=True, color='black').encode(\n",
    "  x=alt.X('yield:Q', aggregate='mean'),\n",
    "  y=alt.Y('variety:N'),\n",
    ")\n",
    "\n",
    "error_bars + points"
   ]
  },
  {
   "cell_type": "markdown",
   "metadata": {},
   "source": [
    "### Gráficos de Area\n",
    "<a id='area-charts'></a>"
   ]
  },
  {
   "cell_type": "markdown",
   "metadata": {},
   "source": [
    "Este ejemplo muestra como hacer un gráfico de área apilado y normalizado."
   ]
  },
  {
   "cell_type": "code",
   "execution_count": null,
   "metadata": {},
   "outputs": [],
   "source": [
    "source = data.iowa_electricity()\n",
    "\n",
    "alt.Chart(source).mark_area().encode(\n",
    "    x=\"year:T\",\n",
    "    y=alt.Y(\"net_generation:Q\"),\n",
    "    color=\"source:N\"\n",
    ")"
   ]
  },
  {
   "cell_type": "markdown",
   "metadata": {},
   "source": [
    "Este ejemplo muestra como hacer un gráfico de área apilado y normalizado."
   ]
  },
  {
   "cell_type": "code",
   "execution_count": null,
   "metadata": {},
   "outputs": [],
   "source": [
    "source = data.iowa_electricity()\n",
    "\n",
    "alt.Chart(source).mark_area().encode(\n",
    "    x=\"year:T\",\n",
    "    y=alt.Y(\"net_generation:Q\", stack=\"normalize\"),\n",
    "    color=\"source:N\"\n",
    ")"
   ]
  },
  {
   "cell_type": "markdown",
   "metadata": {},
   "source": [
    "### Mapas de Calor\n",
    "<a id='heatmap'></a>"
   ]
  },
  {
   "cell_type": "markdown",
   "metadata": {},
   "source": [
    "Este ejemplo muestra un mapa de calor simple para mostrar datos cuadriculados."
   ]
  },
  {
   "cell_type": "code",
   "execution_count": null,
   "metadata": {},
   "outputs": [],
   "source": [
    "# Compute x^2 + y^2 across a 2D grid\n",
    "x, y = np.meshgrid(range(-5, 5), range(-5, 5))\n",
    "z = x ** 2 + y ** 2\n",
    "\n",
    "# Convert this grid to columnar data expected by Altair\n",
    "source = pd.DataFrame({'x': x.ravel(),\n",
    "                     'y': y.ravel(),\n",
    "                     'z': z.ravel()})\n",
    "\n",
    "alt.Chart(source).mark_rect().encode(\n",
    "    x='x:O',\n",
    "    y='y:O',\n",
    "    color='z:Q'\n",
    ")"
   ]
  },
  {
   "cell_type": "markdown",
   "metadata": {},
   "source": [
    "Este ejemplo muestra un gráfico de texto en capas sobre un mapa de calor utilizando el conjunto de datos de automóviles."
   ]
  },
  {
   "cell_type": "code",
   "execution_count": null,
   "metadata": {},
   "outputs": [],
   "source": [
    "source = data.cars()\n",
    "\n",
    "# Configure common options\n",
    "base = alt.Chart(source).transform_aggregate(\n",
    "    num_cars='count()',\n",
    "    groupby=['Origin', 'Cylinders']\n",
    ").encode(\n",
    "    alt.X('Cylinders:O', scale=alt.Scale(paddingInner=0)),\n",
    "    alt.Y('Origin:O', scale=alt.Scale(paddingInner=0)),\n",
    ")\n",
    "\n",
    "# Configure heatmap\n",
    "heatmap = base.mark_rect().encode(\n",
    "    color=alt.Color('num_cars:Q',\n",
    "        scale=alt.Scale(scheme='viridis'),\n",
    "        legend=alt.Legend(direction='horizontal')\n",
    "    )\n",
    ")\n",
    "\n",
    "# Configure text\n",
    "text = base.mark_text(baseline='middle').encode(\n",
    "    text='num_cars:Q',\n",
    "    color=alt.condition(\n",
    "        alt.datum.num_cars > 100,\n",
    "        alt.value('black'),\n",
    "        alt.value('white')\n",
    "    )\n",
    ")\n",
    "\n",
    "# Draw the chart\n",
    "heatmap + text"
   ]
  },
  {
   "cell_type": "markdown",
   "metadata": {},
   "source": [
    "### Mapas\n",
    "<a id='maps'></a>"
   ]
  },
  {
   "cell_type": "markdown",
   "metadata": {},
   "source": [
    "Este ejemplo muestra un mapa coroplético de la tasa de desempleo por condado en los EE. UU."
   ]
  },
  {
   "cell_type": "code",
   "execution_count": null,
   "metadata": {},
   "outputs": [],
   "source": [
    "counties = alt.topo_feature(data.us_10m.url, 'counties')\n",
    "source = data.unemployment.url\n",
    "\n",
    "alt.Chart(counties).mark_geoshape().encode(\n",
    "    color='rate:Q'\n",
    ").transform_lookup(\n",
    "    lookup='id',\n",
    "    from_=alt.LookupData(source, 'id', ['rate'])\n",
    ").project(\n",
    "    type='albersUsa'\n",
    ").properties(\n",
    "    width=500,\n",
    "    height=300\n",
    ")"
   ]
  },
  {
   "cell_type": "markdown",
   "metadata": {},
   "source": [
    "Este ejemplo muestra una visualización geográfica en capas que muestra las posiciones de los aeropuertos de EE. UU. En un contexto de estados de EE. UU."
   ]
  },
  {
   "cell_type": "code",
   "execution_count": null,
   "metadata": {},
   "outputs": [],
   "source": [
    "airports = data.airports.url\n",
    "states = alt.topo_feature(data.us_10m.url, feature='states')\n",
    "\n",
    "# US states background\n",
    "background = alt.Chart(states).mark_geoshape(\n",
    "    fill='lightgray',\n",
    "    stroke='white'\n",
    ").properties(\n",
    "    width=500,\n",
    "    height=300\n",
    ").project('albersUsa')\n",
    "\n",
    "# airport positions on background\n",
    "points = alt.Chart(airports).transform_aggregate(\n",
    "    latitude='mean(latitude)',\n",
    "    longitude='mean(longitude)',\n",
    "    count='count()',\n",
    "    groupby=['state']\n",
    ").mark_circle().encode(\n",
    "    longitude='longitude:Q',\n",
    "    latitude='latitude:Q',\n",
    "    size=alt.Size('count:Q', title='Number of Airports'),\n",
    "    color=alt.value('steelblue'),\n",
    "    tooltip=['state:N','count:Q']\n",
    ").properties(\n",
    "    title='Number of airports in US'\n",
    ")\n",
    "\n",
    "background + points"
   ]
  },
  {
   "cell_type": "markdown",
   "metadata": {},
   "source": [
    "### El límite es la imaginación??\n",
    "\n",
    "Todos los ejemplos anteriores fueron recopilados de la Galería de Ejemplos de Altair ([link](https://altair-viz.github.io/gallery/index.html)), como podrás darte cuenta, son muchos menos que los ofrecidos por matplotlib. Altair es una librería nueva, alrededor de 3 años, versus los 17 años de matplotlib. \n",
    "\n",
    "Si bien crear gráficos \"comunes\" es mucho menos verboso, al querer realizar gráficos de bajo nivel matplotlib es el claro ganador. Dependiendo de tus necesidades del momento, debes saber escoger una u otra librería, __son complementarias y no enemigas!__\n",
    "\n",
    "Sin embargo, eso no quita el hecho que en Altair se puedan realizar gráficos \"poco convencionales\"."
   ]
  },
  {
   "cell_type": "code",
   "execution_count": null,
   "metadata": {},
   "outputs": [],
   "source": [
    "\"\"\"\n",
    "Isotype Visualization shows the distribution of animals across UK and US, \n",
    "using unicode emoji marks rather than custom SVG paths \n",
    "(see https://altair-viz.github.io/gallery/isotype.html). \n",
    "This is adapted from Vega-Lite example https://vega.github.io/vega-lite/examples/isotype_bar_chart_emoji.html.\n",
    "\"\"\"\n",
    "\n",
    "source = pd.DataFrame([\n",
    "      {'country': 'Great Britain', 'animal': 'cattle'},\n",
    "      {'country': 'Great Britain', 'animal': 'cattle'},\n",
    "      {'country': 'Great Britain', 'animal': 'cattle'},\n",
    "      {'country': 'Great Britain', 'animal': 'pigs'},\n",
    "      {'country': 'Great Britain', 'animal': 'pigs'},\n",
    "      {'country': 'Great Britain', 'animal': 'sheep'},\n",
    "      {'country': 'Great Britain', 'animal': 'sheep'},\n",
    "      {'country': 'Great Britain', 'animal': 'sheep'},\n",
    "      {'country': 'Great Britain', 'animal': 'sheep'},\n",
    "      {'country': 'Great Britain', 'animal': 'sheep'},\n",
    "      {'country': 'Great Britain', 'animal': 'sheep'},\n",
    "      {'country': 'Great Britain', 'animal': 'sheep'},\n",
    "      {'country': 'Great Britain', 'animal': 'sheep'},\n",
    "      {'country': 'Great Britain', 'animal': 'sheep'},\n",
    "      {'country': 'Great Britain', 'animal': 'sheep'},\n",
    "      {'country': 'United States', 'animal': 'cattle'},\n",
    "      {'country': 'United States', 'animal': 'cattle'},\n",
    "      {'country': 'United States', 'animal': 'cattle'},\n",
    "      {'country': 'United States', 'animal': 'cattle'},\n",
    "      {'country': 'United States', 'animal': 'cattle'},\n",
    "      {'country': 'United States', 'animal': 'cattle'},\n",
    "      {'country': 'United States', 'animal': 'cattle'},\n",
    "      {'country': 'United States', 'animal': 'cattle'},\n",
    "      {'country': 'United States', 'animal': 'cattle'},\n",
    "      {'country': 'United States', 'animal': 'pigs'},\n",
    "      {'country': 'United States', 'animal': 'pigs'},\n",
    "      {'country': 'United States', 'animal': 'pigs'},\n",
    "      {'country': 'United States', 'animal': 'pigs'},\n",
    "      {'country': 'United States', 'animal': 'pigs'},\n",
    "      {'country': 'United States', 'animal': 'pigs'},\n",
    "      {'country': 'United States', 'animal': 'sheep'},\n",
    "      {'country': 'United States', 'animal': 'sheep'},\n",
    "      {'country': 'United States', 'animal': 'sheep'},\n",
    "      {'country': 'United States', 'animal': 'sheep'},\n",
    "      {'country': 'United States', 'animal': 'sheep'},\n",
    "      {'country': 'United States', 'animal': 'sheep'},\n",
    "      {'country': 'United States', 'animal': 'sheep'}\n",
    "    ])\n",
    "\n",
    "\n",
    "alt.Chart(source).mark_text(size=45, baseline='middle').encode(\n",
    "    alt.X('x:O', axis=None),\n",
    "    alt.Y('animal:O', axis=None),\n",
    "    alt.Row('country:N', header=alt.Header(title='')),\n",
    "    alt.Text('emoji:N')\n",
    ").transform_calculate(\n",
    "    emoji=\"{'cattle': '🐄', 'pigs': '🐖', 'sheep': '🐏'}[datum.animal]\"\n",
    ").transform_window(\n",
    "    x='rank()',\n",
    "    groupby=['country', 'animal']\n",
    ").properties(width=550, height=140)"
   ]
  },
  {
   "cell_type": "markdown",
   "metadata": {},
   "source": [
    "<a id='plot-plot'></a>"
   ]
  }
 ],
 "metadata": {
  "celltoolbar": "Slideshow",
  "kernelspec": {
   "display_name": "Python 3",
   "language": "python",
   "name": "python3"
  },
  "language_info": {
   "codemirror_mode": {
    "name": "ipython",
    "version": 3
   },
   "file_extension": ".py",
   "mimetype": "text/x-python",
   "name": "python",
   "nbconvert_exporter": "python",
   "pygments_lexer": "ipython3",
   "version": "3.7.3"
  },
  "toc-autonumbering": false,
  "toc-showcode": false,
  "toc-showmarkdowntxt": false,
  "toc-showtags": true
 },
 "nbformat": 4,
 "nbformat_minor": 4
}
