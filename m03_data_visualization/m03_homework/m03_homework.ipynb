{
 "cells": [
  {
   "cell_type": "markdown",
   "metadata": {
    "Collapsed": "false",
    "slideshow": {
     "slide_type": "slide"
    }
   },
   "source": [
    "<img src=\"https://upload.wikimedia.org/wikipedia/commons/4/47/Logo_UTFSM.png\" width=\"200\" alt=\"utfsm-logo\" align=\"left\"/>\n",
    "\n",
    "# MAT281\n",
    "### Aplicaciones de la Matemática en la Ingeniería"
   ]
  },
  {
   "cell_type": "markdown",
   "metadata": {
    "Collapsed": "false",
    "slideshow": {
     "slide_type": "slide"
    }
   },
   "source": [
    "## Tarea Módulo 03"
   ]
  },
  {
   "cell_type": "markdown",
   "metadata": {
    "Collapsed": "false"
   },
   "source": [
    "### Instrucciones\n",
    "\n",
    "* Completa tus datos personales (nombre y rol USM) en siguiente celda.\n",
    "* Debes _pushear_ tus cambios a tu repositorio personal del curso.\n",
    "* Como respaldo, debes enviar un archivo .zip con el siguiente formato `mXX_homework_apellido_nombre.zip` a alonso.ogueda@gmail.com, debe contener todo lo necesario para que se ejecute correctamente cada celda, ya sea datos, imágenes, scripts, etc.\n",
    "* Se evaluará:\n",
    "    - Soluciones\n",
    "    - Código\n",
    "    - Que Binder esté bien configurado.\n",
    "    - Al presionar  `Kernel -> Restart Kernel and Run All Cells` deben ejecutarse todas las celdas sin error."
   ]
  },
  {
   "cell_type": "markdown",
   "metadata": {
    "Collapsed": "false"
   },
   "source": [
    "__Nombre__: IGNACIO JERIA MARRAS\n",
    "\n",
    "__Rol__: 201684022-2"
   ]
  },
  {
   "cell_type": "markdown",
   "metadata": {
    "Collapsed": "false"
   },
   "source": [
    "**Indicaciones**: Para el **Ejercicio 1** puedes utilizar tanto `matplotlib` como `altair` según te parezca más conveniente, en ambos casos cada gráfico debe tener elementos mínimos como:\n",
    "- Título\n",
    "- Nombre de los ejes en formato _amigable_, por ejemplo, si la columna del dataframe en cuestión tiene por nombre `cost_of_living_index` se espera que el eje del gráfico tenga por nombre `Índice de Costo de Vida`.\n",
    "- Colores adecuados al tipo de datos.\n",
    "- Un tamaño adecuado para ver con facilidad en una pantalla con resolución HD o FullHD.\n",
    "\n",
    "Para el **Ejercicio 2** es obligación utilizar `altair`."
   ]
  },
  {
   "cell_type": "code",
   "execution_count": 1,
   "metadata": {
    "Collapsed": "false"
   },
   "outputs": [],
   "source": [
    "import os\n",
    "import numpy as np\n",
    "import pandas as pd\n",
    "import matplotlib.pyplot as plt\n",
    "import altair as alt\n",
    "import ipywidgets as widgets\n",
    "\n",
    "from vega_datasets import data\n",
    "from ipywidgets import interactive, interact\n",
    "\n",
    "pd.set_option('display.max_columns', 999)\n",
    "alt.themes.enable('opaque')\n",
    "\n",
    "%matplotlib inline"
   ]
  },
  {
   "cell_type": "markdown",
   "metadata": {
    "Collapsed": "false"
   },
   "source": [
    "## 1. Índices de Costos de Vida"
   ]
  },
  {
   "cell_type": "markdown",
   "metadata": {
    "Collapsed": "false"
   },
   "source": [
    "Estos índices están ajustados a la Ciudad de Nueva York (NYC). Lo que significa que para la Ciudad de Nueva York, cada índice debería marcar 100(%). Si otra ciudad tiene, por ejemplo, un índice de alquiler de 120, significa que en esa ciudad se paga de media por el alquiler un 20% más que en Nueva York. Si una ciudad tiene un índice de alquiler de 70, significa que en esa ciudad los alquileres son de media un 30% más baratos que en Nueva York.\n",
    "\n",
    "* El Índice de Costo de Vida (Sin Alquiler) es un indicador relativo de los precios de bienes de consumo, incluyendo comestibles, restaurantes, transporte y servicios. El Índice de Costo de Vida no incluye gastos de residencia como alquileres o hipotecas. Si una ciudad tiene un Costo de Vida de 120, significa que Numbeo estima que es un 20% más cara que Nueva York (sin contar alquiler).\n",
    "\n",
    "* El Índice de Alquiler es una estimación de precios de alquiler de apartamentos de una ciudad comparada con Nueva York. Si el Índice de Alquiler es 80, Numbeo estima que el precio de los alquileres en esa ciudad es de media un 20% más barato que en Nueva York.\n",
    "\n",
    "* El Índice de Comestibles es una estimación de los precios de la compra de una ciudad en comparación con Nueva York. Para calcular esta sección, Numbeo utiliza el peso de los artículos en la sección \"Mercados\" por cada ciudad.\n",
    "\n",
    "* El Índice de Restaurantes es una comparación de precios de comidas y bebidas en bares y restaurantes en comparación con NY.\n",
    "\n",
    "* El Índice de Costo de Vida más Alquiler es una estimación de precios de consumo incluyendo alquiler en comparación con la Ciudad de Nueva York.\n",
    "\n",
    "* El Poder Adquisitivo Local muestra la capacidad adquisitiva relativa a la hora de comprar bienes y servicios en una ciudad determinada, con relación al salario medio de la ciudad. Si el poder adquisitivo doméstico es 40, significa que los habitantes de dicha ciudad con salario medio pueden permitirse comprar una media de 60% menos bienes y servicios que los habitantes de Nueva York con salario medio. \n",
    "\n",
    "Para más información sobre los pesos utilizados (fórmula completa) puedes visitar: [motivación y metodología](https://es.numbeo.com/coste-de-vida/motivaci%C3%B3n-y-metodolog%C3%ADa)."
   ]
  },
  {
   "cell_type": "markdown",
   "metadata": {
    "Collapsed": "false"
   },
   "source": [
    "Para comenzar es necesario instalar el paquete `lxml` en tu entorno virtual de conda para poder descargar los datos. Basta con ejecutar \n",
    "\n",
    "`conda install -n mat281 lxml`\n",
    "\n",
    "O cambia `mat281` por el ambiente que estés utilizando."
   ]
  },
  {
   "cell_type": "markdown",
   "metadata": {
    "Collapsed": "false"
   },
   "source": [
    "Se disponibiliza a continuación la carga de datos de un dataframe."
   ]
  },
  {
   "cell_type": "code",
   "execution_count": 128,
   "metadata": {
    "Collapsed": "false"
   },
   "outputs": [
    {
     "data": {
      "text/html": [
       "<div>\n",
       "<style scoped>\n",
       "    .dataframe tbody tr th:only-of-type {\n",
       "        vertical-align: middle;\n",
       "    }\n",
       "\n",
       "    .dataframe tbody tr th {\n",
       "        vertical-align: top;\n",
       "    }\n",
       "\n",
       "    .dataframe thead th {\n",
       "        text-align: right;\n",
       "    }\n",
       "</style>\n",
       "<table border=\"1\" class=\"dataframe\">\n",
       "  <thead>\n",
       "    <tr style=\"text-align: right;\">\n",
       "      <th></th>\n",
       "      <th>year</th>\n",
       "      <th>rank</th>\n",
       "      <th>city</th>\n",
       "      <th>cost_of_living_index</th>\n",
       "      <th>rent_index</th>\n",
       "      <th>cost_of_living_plus_rent_index</th>\n",
       "      <th>groceries_index</th>\n",
       "      <th>restaurant_price_index</th>\n",
       "      <th>local_purchasing_power_index</th>\n",
       "    </tr>\n",
       "  </thead>\n",
       "  <tbody>\n",
       "    <tr>\n",
       "      <th>0</th>\n",
       "      <td>2015</td>\n",
       "      <td>1</td>\n",
       "      <td>Hamilton, Bermuda</td>\n",
       "      <td>163.55</td>\n",
       "      <td>120.02</td>\n",
       "      <td>142.28</td>\n",
       "      <td>191.71</td>\n",
       "      <td>132.91</td>\n",
       "      <td>69.79</td>\n",
       "    </tr>\n",
       "    <tr>\n",
       "      <th>1</th>\n",
       "      <td>2015</td>\n",
       "      <td>2</td>\n",
       "      <td>Geneva, Switzerland</td>\n",
       "      <td>145.18</td>\n",
       "      <td>81.46</td>\n",
       "      <td>114.05</td>\n",
       "      <td>161.14</td>\n",
       "      <td>141.23</td>\n",
       "      <td>130.21</td>\n",
       "    </tr>\n",
       "    <tr>\n",
       "      <th>2</th>\n",
       "      <td>2015</td>\n",
       "      <td>3</td>\n",
       "      <td>Caracas, Venezuela</td>\n",
       "      <td>141.41</td>\n",
       "      <td>60.46</td>\n",
       "      <td>101.86</td>\n",
       "      <td>155.16</td>\n",
       "      <td>122.27</td>\n",
       "      <td>9.73</td>\n",
       "    </tr>\n",
       "    <tr>\n",
       "      <th>3</th>\n",
       "      <td>2015</td>\n",
       "      <td>4</td>\n",
       "      <td>Zurich, Switzerland</td>\n",
       "      <td>141.06</td>\n",
       "      <td>66.39</td>\n",
       "      <td>104.57</td>\n",
       "      <td>148.56</td>\n",
       "      <td>146.90</td>\n",
       "      <td>133.91</td>\n",
       "    </tr>\n",
       "    <tr>\n",
       "      <th>4</th>\n",
       "      <td>2015</td>\n",
       "      <td>5</td>\n",
       "      <td>Tromso, Norway</td>\n",
       "      <td>131.45</td>\n",
       "      <td>55.80</td>\n",
       "      <td>94.48</td>\n",
       "      <td>127.72</td>\n",
       "      <td>137.08</td>\n",
       "      <td>132.41</td>\n",
       "    </tr>\n",
       "    <tr>\n",
       "      <th>5</th>\n",
       "      <td>2015</td>\n",
       "      <td>6</td>\n",
       "      <td>Basel, Switzerland</td>\n",
       "      <td>127.22</td>\n",
       "      <td>54.43</td>\n",
       "      <td>91.65</td>\n",
       "      <td>118.85</td>\n",
       "      <td>138.17</td>\n",
       "      <td>148.14</td>\n",
       "    </tr>\n",
       "    <tr>\n",
       "      <th>6</th>\n",
       "      <td>2015</td>\n",
       "      <td>7</td>\n",
       "      <td>Stavanger, Norway</td>\n",
       "      <td>125.13</td>\n",
       "      <td>65.67</td>\n",
       "      <td>96.07</td>\n",
       "      <td>117.55</td>\n",
       "      <td>147.99</td>\n",
       "      <td>95.71</td>\n",
       "    </tr>\n",
       "    <tr>\n",
       "      <th>7</th>\n",
       "      <td>2015</td>\n",
       "      <td>8</td>\n",
       "      <td>Lausanne, Switzerland</td>\n",
       "      <td>124.70</td>\n",
       "      <td>54.64</td>\n",
       "      <td>90.46</td>\n",
       "      <td>124.70</td>\n",
       "      <td>130.39</td>\n",
       "      <td>135.53</td>\n",
       "    </tr>\n",
       "    <tr>\n",
       "      <th>8</th>\n",
       "      <td>2015</td>\n",
       "      <td>9</td>\n",
       "      <td>Darwin, Australia</td>\n",
       "      <td>124.61</td>\n",
       "      <td>63.25</td>\n",
       "      <td>94.62</td>\n",
       "      <td>120.78</td>\n",
       "      <td>125.61</td>\n",
       "      <td>86.86</td>\n",
       "    </tr>\n",
       "    <tr>\n",
       "      <th>9</th>\n",
       "      <td>2015</td>\n",
       "      <td>10</td>\n",
       "      <td>Bern, Switzerland</td>\n",
       "      <td>124.25</td>\n",
       "      <td>54.13</td>\n",
       "      <td>89.99</td>\n",
       "      <td>123.19</td>\n",
       "      <td>123.53</td>\n",
       "      <td>178.90</td>\n",
       "    </tr>\n",
       "    <tr>\n",
       "      <th>10</th>\n",
       "      <td>2015</td>\n",
       "      <td>11</td>\n",
       "      <td>Trondheim, Norway</td>\n",
       "      <td>119.93</td>\n",
       "      <td>48.59</td>\n",
       "      <td>85.07</td>\n",
       "      <td>109.52</td>\n",
       "      <td>140.62</td>\n",
       "      <td>93.45</td>\n",
       "    </tr>\n",
       "    <tr>\n",
       "      <th>11</th>\n",
       "      <td>2015</td>\n",
       "      <td>12</td>\n",
       "      <td>Saint Helier, Jersey</td>\n",
       "      <td>118.26</td>\n",
       "      <td>64.55</td>\n",
       "      <td>92.01</td>\n",
       "      <td>98.32</td>\n",
       "      <td>165.48</td>\n",
       "      <td>90.84</td>\n",
       "    </tr>\n",
       "    <tr>\n",
       "      <th>12</th>\n",
       "      <td>2015</td>\n",
       "      <td>13</td>\n",
       "      <td>Luanda, Angola</td>\n",
       "      <td>116.52</td>\n",
       "      <td>133.86</td>\n",
       "      <td>124.99</td>\n",
       "      <td>94.78</td>\n",
       "      <td>117.00</td>\n",
       "      <td>38.79</td>\n",
       "    </tr>\n",
       "    <tr>\n",
       "      <th>13</th>\n",
       "      <td>2015</td>\n",
       "      <td>14</td>\n",
       "      <td>Oslo, Norway</td>\n",
       "      <td>115.38</td>\n",
       "      <td>51.56</td>\n",
       "      <td>84.20</td>\n",
       "      <td>104.53</td>\n",
       "      <td>140.55</td>\n",
       "      <td>99.05</td>\n",
       "    </tr>\n",
       "    <tr>\n",
       "      <th>14</th>\n",
       "      <td>2015</td>\n",
       "      <td>15</td>\n",
       "      <td>Bergen, Norway</td>\n",
       "      <td>115.10</td>\n",
       "      <td>49.79</td>\n",
       "      <td>83.19</td>\n",
       "      <td>106.77</td>\n",
       "      <td>132.90</td>\n",
       "      <td>96.40</td>\n",
       "    </tr>\n",
       "    <tr>\n",
       "      <th>15</th>\n",
       "      <td>2015</td>\n",
       "      <td>16</td>\n",
       "      <td>Lugano, Switzerland</td>\n",
       "      <td>112.81</td>\n",
       "      <td>46.40</td>\n",
       "      <td>80.36</td>\n",
       "      <td>112.18</td>\n",
       "      <td>124.50</td>\n",
       "      <td>124.89</td>\n",
       "    </tr>\n",
       "    <tr>\n",
       "      <th>16</th>\n",
       "      <td>2015</td>\n",
       "      <td>17</td>\n",
       "      <td>Reading, United Kingdom</td>\n",
       "      <td>111.47</td>\n",
       "      <td>52.47</td>\n",
       "      <td>82.64</td>\n",
       "      <td>100.38</td>\n",
       "      <td>123.10</td>\n",
       "      <td>79.08</td>\n",
       "    </tr>\n",
       "    <tr>\n",
       "      <th>17</th>\n",
       "      <td>2015</td>\n",
       "      <td>18</td>\n",
       "      <td>Aberdeen, United Kingdom</td>\n",
       "      <td>111.01</td>\n",
       "      <td>45.74</td>\n",
       "      <td>79.11</td>\n",
       "      <td>98.11</td>\n",
       "      <td>128.51</td>\n",
       "      <td>93.74</td>\n",
       "    </tr>\n",
       "    <tr>\n",
       "      <th>18</th>\n",
       "      <td>2015</td>\n",
       "      <td>19</td>\n",
       "      <td>Fort McMurray, Canada</td>\n",
       "      <td>109.54</td>\n",
       "      <td>71.00</td>\n",
       "      <td>90.71</td>\n",
       "      <td>108.44</td>\n",
       "      <td>111.82</td>\n",
       "      <td>132.06</td>\n",
       "    </tr>\n",
       "    <tr>\n",
       "      <th>19</th>\n",
       "      <td>2015</td>\n",
       "      <td>20</td>\n",
       "      <td>Perth, Australia</td>\n",
       "      <td>108.99</td>\n",
       "      <td>57.41</td>\n",
       "      <td>83.78</td>\n",
       "      <td>99.74</td>\n",
       "      <td>108.11</td>\n",
       "      <td>105.18</td>\n",
       "    </tr>\n",
       "    <tr>\n",
       "      <th>20</th>\n",
       "      <td>2015</td>\n",
       "      <td>21</td>\n",
       "      <td>Port Moresby, Papua New Guinea</td>\n",
       "      <td>105.86</td>\n",
       "      <td>103.56</td>\n",
       "      <td>104.73</td>\n",
       "      <td>118.29</td>\n",
       "      <td>66.26</td>\n",
       "      <td>8.08</td>\n",
       "    </tr>\n",
       "    <tr>\n",
       "      <th>21</th>\n",
       "      <td>2015</td>\n",
       "      <td>22</td>\n",
       "      <td>London, United Kingdom</td>\n",
       "      <td>105.80</td>\n",
       "      <td>82.16</td>\n",
       "      <td>94.25</td>\n",
       "      <td>91.26</td>\n",
       "      <td>101.65</td>\n",
       "      <td>82.95</td>\n",
       "    </tr>\n",
       "    <tr>\n",
       "      <th>22</th>\n",
       "      <td>2015</td>\n",
       "      <td>23</td>\n",
       "      <td>Copenhagen, Denmark</td>\n",
       "      <td>105.72</td>\n",
       "      <td>52.79</td>\n",
       "      <td>79.86</td>\n",
       "      <td>94.65</td>\n",
       "      <td>122.94</td>\n",
       "      <td>96.68</td>\n",
       "    </tr>\n",
       "    <tr>\n",
       "      <th>23</th>\n",
       "      <td>2015</td>\n",
       "      <td>24</td>\n",
       "      <td>Reykjavik, Iceland</td>\n",
       "      <td>105.02</td>\n",
       "      <td>37.17</td>\n",
       "      <td>71.86</td>\n",
       "      <td>107.89</td>\n",
       "      <td>110.31</td>\n",
       "      <td>66.82</td>\n",
       "    </tr>\n",
       "    <tr>\n",
       "      <th>24</th>\n",
       "      <td>2015</td>\n",
       "      <td>25</td>\n",
       "      <td>Honolulu, HI, United States</td>\n",
       "      <td>104.23</td>\n",
       "      <td>64.92</td>\n",
       "      <td>85.02</td>\n",
       "      <td>119.41</td>\n",
       "      <td>85.11</td>\n",
       "      <td>68.70</td>\n",
       "    </tr>\n",
       "    <tr>\n",
       "      <th>25</th>\n",
       "      <td>2015</td>\n",
       "      <td>26</td>\n",
       "      <td>Nice, France</td>\n",
       "      <td>101.63</td>\n",
       "      <td>31.15</td>\n",
       "      <td>67.19</td>\n",
       "      <td>100.91</td>\n",
       "      <td>106.71</td>\n",
       "      <td>78.83</td>\n",
       "    </tr>\n",
       "    <tr>\n",
       "      <th>26</th>\n",
       "      <td>2015</td>\n",
       "      <td>27</td>\n",
       "      <td>Arhus, Denmark</td>\n",
       "      <td>101.39</td>\n",
       "      <td>30.85</td>\n",
       "      <td>66.92</td>\n",
       "      <td>86.25</td>\n",
       "      <td>115.16</td>\n",
       "      <td>112.16</td>\n",
       "    </tr>\n",
       "    <tr>\n",
       "      <th>27</th>\n",
       "      <td>2015</td>\n",
       "      <td>28</td>\n",
       "      <td>Sydney, Australia</td>\n",
       "      <td>100.42</td>\n",
       "      <td>68.74</td>\n",
       "      <td>84.94</td>\n",
       "      <td>93.74</td>\n",
       "      <td>85.68</td>\n",
       "      <td>104.90</td>\n",
       "    </tr>\n",
       "    <tr>\n",
       "      <th>28</th>\n",
       "      <td>2015</td>\n",
       "      <td>29</td>\n",
       "      <td>Modena, Italy</td>\n",
       "      <td>100.39</td>\n",
       "      <td>22.80</td>\n",
       "      <td>62.48</td>\n",
       "      <td>88.66</td>\n",
       "      <td>90.31</td>\n",
       "      <td>72.65</td>\n",
       "    </tr>\n",
       "    <tr>\n",
       "      <th>29</th>\n",
       "      <td>2015</td>\n",
       "      <td>30</td>\n",
       "      <td>Wellington, New Zealand</td>\n",
       "      <td>100.09</td>\n",
       "      <td>39.47</td>\n",
       "      <td>70.47</td>\n",
       "      <td>102.41</td>\n",
       "      <td>89.48</td>\n",
       "      <td>99.06</td>\n",
       "    </tr>\n",
       "    <tr>\n",
       "      <th>...</th>\n",
       "      <td>...</td>\n",
       "      <td>...</td>\n",
       "      <td>...</td>\n",
       "      <td>...</td>\n",
       "      <td>...</td>\n",
       "      <td>...</td>\n",
       "      <td>...</td>\n",
       "      <td>...</td>\n",
       "      <td>...</td>\n",
       "    </tr>\n",
       "    <tr>\n",
       "      <th>2817</th>\n",
       "      <td>2020</td>\n",
       "      <td>411</td>\n",
       "      <td>Thane, India</td>\n",
       "      <td>27.42</td>\n",
       "      <td>9.04</td>\n",
       "      <td>18.63</td>\n",
       "      <td>26.42</td>\n",
       "      <td>22.90</td>\n",
       "      <td>58.34</td>\n",
       "    </tr>\n",
       "    <tr>\n",
       "      <th>2818</th>\n",
       "      <td>2020</td>\n",
       "      <td>412</td>\n",
       "      <td>Bangalore, India</td>\n",
       "      <td>27.22</td>\n",
       "      <td>8.89</td>\n",
       "      <td>18.45</td>\n",
       "      <td>27.20</td>\n",
       "      <td>20.76</td>\n",
       "      <td>68.14</td>\n",
       "    </tr>\n",
       "    <tr>\n",
       "      <th>2819</th>\n",
       "      <td>2020</td>\n",
       "      <td>413</td>\n",
       "      <td>Tashkent, Uzbekistan</td>\n",
       "      <td>26.87</td>\n",
       "      <td>7.56</td>\n",
       "      <td>17.63</td>\n",
       "      <td>22.64</td>\n",
       "      <td>21.65</td>\n",
       "      <td>25.04</td>\n",
       "    </tr>\n",
       "    <tr>\n",
       "      <th>2820</th>\n",
       "      <td>2020</td>\n",
       "      <td>414</td>\n",
       "      <td>Indore, India</td>\n",
       "      <td>25.90</td>\n",
       "      <td>4.01</td>\n",
       "      <td>15.43</td>\n",
       "      <td>26.83</td>\n",
       "      <td>16.42</td>\n",
       "      <td>43.38</td>\n",
       "    </tr>\n",
       "    <tr>\n",
       "      <th>2821</th>\n",
       "      <td>2020</td>\n",
       "      <td>415</td>\n",
       "      <td>Goa, India</td>\n",
       "      <td>25.83</td>\n",
       "      <td>5.84</td>\n",
       "      <td>16.27</td>\n",
       "      <td>25.69</td>\n",
       "      <td>23.87</td>\n",
       "      <td>44.20</td>\n",
       "    </tr>\n",
       "    <tr>\n",
       "      <th>2822</th>\n",
       "      <td>2020</td>\n",
       "      <td>416</td>\n",
       "      <td>Ahmedabad, India</td>\n",
       "      <td>25.58</td>\n",
       "      <td>7.22</td>\n",
       "      <td>16.79</td>\n",
       "      <td>25.90</td>\n",
       "      <td>17.72</td>\n",
       "      <td>38.52</td>\n",
       "    </tr>\n",
       "    <tr>\n",
       "      <th>2823</th>\n",
       "      <td>2020</td>\n",
       "      <td>417</td>\n",
       "      <td>Navi Mumbai, India</td>\n",
       "      <td>25.39</td>\n",
       "      <td>7.68</td>\n",
       "      <td>16.92</td>\n",
       "      <td>26.46</td>\n",
       "      <td>17.85</td>\n",
       "      <td>100.84</td>\n",
       "    </tr>\n",
       "    <tr>\n",
       "      <th>2824</th>\n",
       "      <td>2020</td>\n",
       "      <td>418</td>\n",
       "      <td>Chennai, India</td>\n",
       "      <td>25.32</td>\n",
       "      <td>6.59</td>\n",
       "      <td>16.36</td>\n",
       "      <td>25.95</td>\n",
       "      <td>15.87</td>\n",
       "      <td>53.06</td>\n",
       "    </tr>\n",
       "    <tr>\n",
       "      <th>2825</th>\n",
       "      <td>2020</td>\n",
       "      <td>419</td>\n",
       "      <td>Hyderabad, India</td>\n",
       "      <td>25.32</td>\n",
       "      <td>6.41</td>\n",
       "      <td>16.27</td>\n",
       "      <td>26.25</td>\n",
       "      <td>16.68</td>\n",
       "      <td>57.90</td>\n",
       "    </tr>\n",
       "    <tr>\n",
       "      <th>2826</th>\n",
       "      <td>2020</td>\n",
       "      <td>420</td>\n",
       "      <td>Jaipur, India</td>\n",
       "      <td>25.18</td>\n",
       "      <td>4.84</td>\n",
       "      <td>15.45</td>\n",
       "      <td>24.09</td>\n",
       "      <td>16.69</td>\n",
       "      <td>55.04</td>\n",
       "    </tr>\n",
       "    <tr>\n",
       "      <th>2827</th>\n",
       "      <td>2020</td>\n",
       "      <td>421</td>\n",
       "      <td>Vadodara, India</td>\n",
       "      <td>24.74</td>\n",
       "      <td>3.92</td>\n",
       "      <td>14.78</td>\n",
       "      <td>25.93</td>\n",
       "      <td>17.11</td>\n",
       "      <td>60.47</td>\n",
       "    </tr>\n",
       "    <tr>\n",
       "      <th>2828</th>\n",
       "      <td>2020</td>\n",
       "      <td>422</td>\n",
       "      <td>Patna, India</td>\n",
       "      <td>24.64</td>\n",
       "      <td>3.87</td>\n",
       "      <td>14.71</td>\n",
       "      <td>23.98</td>\n",
       "      <td>17.88</td>\n",
       "      <td>44.40</td>\n",
       "    </tr>\n",
       "    <tr>\n",
       "      <th>2829</th>\n",
       "      <td>2020</td>\n",
       "      <td>423</td>\n",
       "      <td>Guwahati, India</td>\n",
       "      <td>24.53</td>\n",
       "      <td>3.95</td>\n",
       "      <td>14.69</td>\n",
       "      <td>25.89</td>\n",
       "      <td>14.90</td>\n",
       "      <td>49.57</td>\n",
       "    </tr>\n",
       "    <tr>\n",
       "      <th>2830</th>\n",
       "      <td>2020</td>\n",
       "      <td>424</td>\n",
       "      <td>Kolkata, India</td>\n",
       "      <td>24.37</td>\n",
       "      <td>5.37</td>\n",
       "      <td>15.28</td>\n",
       "      <td>23.89</td>\n",
       "      <td>20.10</td>\n",
       "      <td>45.38</td>\n",
       "    </tr>\n",
       "    <tr>\n",
       "      <th>2831</th>\n",
       "      <td>2020</td>\n",
       "      <td>425</td>\n",
       "      <td>Rajkot, India</td>\n",
       "      <td>24.30</td>\n",
       "      <td>4.17</td>\n",
       "      <td>14.67</td>\n",
       "      <td>23.99</td>\n",
       "      <td>17.57</td>\n",
       "      <td>51.01</td>\n",
       "    </tr>\n",
       "    <tr>\n",
       "      <th>2832</th>\n",
       "      <td>2020</td>\n",
       "      <td>426</td>\n",
       "      <td>Kochi, India</td>\n",
       "      <td>24.26</td>\n",
       "      <td>4.99</td>\n",
       "      <td>15.04</td>\n",
       "      <td>26.50</td>\n",
       "      <td>14.19</td>\n",
       "      <td>46.16</td>\n",
       "    </tr>\n",
       "    <tr>\n",
       "      <th>2833</th>\n",
       "      <td>2020</td>\n",
       "      <td>427</td>\n",
       "      <td>Coimbatore, India</td>\n",
       "      <td>24.22</td>\n",
       "      <td>5.18</td>\n",
       "      <td>15.11</td>\n",
       "      <td>25.96</td>\n",
       "      <td>14.64</td>\n",
       "      <td>45.16</td>\n",
       "    </tr>\n",
       "    <tr>\n",
       "      <th>2834</th>\n",
       "      <td>2020</td>\n",
       "      <td>428</td>\n",
       "      <td>Surat, India</td>\n",
       "      <td>23.83</td>\n",
       "      <td>3.79</td>\n",
       "      <td>14.24</td>\n",
       "      <td>24.05</td>\n",
       "      <td>17.79</td>\n",
       "      <td>48.63</td>\n",
       "    </tr>\n",
       "    <tr>\n",
       "      <th>2835</th>\n",
       "      <td>2020</td>\n",
       "      <td>429</td>\n",
       "      <td>Mangalore, India</td>\n",
       "      <td>23.49</td>\n",
       "      <td>4.40</td>\n",
       "      <td>14.36</td>\n",
       "      <td>25.05</td>\n",
       "      <td>16.69</td>\n",
       "      <td>58.91</td>\n",
       "    </tr>\n",
       "    <tr>\n",
       "      <th>2836</th>\n",
       "      <td>2020</td>\n",
       "      <td>430</td>\n",
       "      <td>Nagpur, India</td>\n",
       "      <td>23.48</td>\n",
       "      <td>4.25</td>\n",
       "      <td>14.28</td>\n",
       "      <td>22.81</td>\n",
       "      <td>19.73</td>\n",
       "      <td>63.53</td>\n",
       "    </tr>\n",
       "    <tr>\n",
       "      <th>2837</th>\n",
       "      <td>2020</td>\n",
       "      <td>431</td>\n",
       "      <td>Lahore, Pakistan</td>\n",
       "      <td>23.42</td>\n",
       "      <td>4.78</td>\n",
       "      <td>14.51</td>\n",
       "      <td>19.66</td>\n",
       "      <td>17.96</td>\n",
       "      <td>28.44</td>\n",
       "    </tr>\n",
       "    <tr>\n",
       "      <th>2838</th>\n",
       "      <td>2020</td>\n",
       "      <td>432</td>\n",
       "      <td>Bhopal, India</td>\n",
       "      <td>23.42</td>\n",
       "      <td>3.46</td>\n",
       "      <td>13.87</td>\n",
       "      <td>23.04</td>\n",
       "      <td>15.59</td>\n",
       "      <td>50.64</td>\n",
       "    </tr>\n",
       "    <tr>\n",
       "      <th>2839</th>\n",
       "      <td>2020</td>\n",
       "      <td>433</td>\n",
       "      <td>Lucknow (Lakhnau), India</td>\n",
       "      <td>23.32</td>\n",
       "      <td>4.71</td>\n",
       "      <td>14.42</td>\n",
       "      <td>21.47</td>\n",
       "      <td>18.44</td>\n",
       "      <td>53.04</td>\n",
       "    </tr>\n",
       "    <tr>\n",
       "      <th>2840</th>\n",
       "      <td>2020</td>\n",
       "      <td>434</td>\n",
       "      <td>Mysore, India</td>\n",
       "      <td>23.31</td>\n",
       "      <td>4.79</td>\n",
       "      <td>14.45</td>\n",
       "      <td>24.03</td>\n",
       "      <td>15.19</td>\n",
       "      <td>51.11</td>\n",
       "    </tr>\n",
       "    <tr>\n",
       "      <th>2841</th>\n",
       "      <td>2020</td>\n",
       "      <td>435</td>\n",
       "      <td>Bhubaneswar, India</td>\n",
       "      <td>23.17</td>\n",
       "      <td>3.90</td>\n",
       "      <td>13.95</td>\n",
       "      <td>24.73</td>\n",
       "      <td>13.29</td>\n",
       "      <td>57.67</td>\n",
       "    </tr>\n",
       "    <tr>\n",
       "      <th>2842</th>\n",
       "      <td>2020</td>\n",
       "      <td>436</td>\n",
       "      <td>Karachi, Pakistan</td>\n",
       "      <td>23.07</td>\n",
       "      <td>4.57</td>\n",
       "      <td>14.22</td>\n",
       "      <td>20.03</td>\n",
       "      <td>19.20</td>\n",
       "      <td>29.27</td>\n",
       "    </tr>\n",
       "    <tr>\n",
       "      <th>2843</th>\n",
       "      <td>2020</td>\n",
       "      <td>437</td>\n",
       "      <td>Islamabad, Pakistan</td>\n",
       "      <td>22.95</td>\n",
       "      <td>6.00</td>\n",
       "      <td>14.84</td>\n",
       "      <td>22.23</td>\n",
       "      <td>17.22</td>\n",
       "      <td>30.28</td>\n",
       "    </tr>\n",
       "    <tr>\n",
       "      <th>2844</th>\n",
       "      <td>2020</td>\n",
       "      <td>438</td>\n",
       "      <td>Vijayawada, India</td>\n",
       "      <td>22.31</td>\n",
       "      <td>5.09</td>\n",
       "      <td>14.07</td>\n",
       "      <td>23.04</td>\n",
       "      <td>13.19</td>\n",
       "      <td>47.38</td>\n",
       "    </tr>\n",
       "    <tr>\n",
       "      <th>2845</th>\n",
       "      <td>2020</td>\n",
       "      <td>439</td>\n",
       "      <td>Visakhapatnam, India</td>\n",
       "      <td>21.09</td>\n",
       "      <td>4.11</td>\n",
       "      <td>12.97</td>\n",
       "      <td>21.43</td>\n",
       "      <td>13.52</td>\n",
       "      <td>52.04</td>\n",
       "    </tr>\n",
       "    <tr>\n",
       "      <th>2846</th>\n",
       "      <td>2020</td>\n",
       "      <td>440</td>\n",
       "      <td>Thiruvananthapuram, India</td>\n",
       "      <td>19.77</td>\n",
       "      <td>4.33</td>\n",
       "      <td>12.38</td>\n",
       "      <td>20.31</td>\n",
       "      <td>10.66</td>\n",
       "      <td>62.74</td>\n",
       "    </tr>\n",
       "  </tbody>\n",
       "</table>\n",
       "<p>2847 rows × 9 columns</p>\n",
       "</div>"
      ],
      "text/plain": [
       "      year  rank                            city  cost_of_living_index  \\\n",
       "0     2015     1               Hamilton, Bermuda                163.55   \n",
       "1     2015     2             Geneva, Switzerland                145.18   \n",
       "2     2015     3              Caracas, Venezuela                141.41   \n",
       "3     2015     4             Zurich, Switzerland                141.06   \n",
       "4     2015     5                  Tromso, Norway                131.45   \n",
       "5     2015     6              Basel, Switzerland                127.22   \n",
       "6     2015     7               Stavanger, Norway                125.13   \n",
       "7     2015     8           Lausanne, Switzerland                124.70   \n",
       "8     2015     9               Darwin, Australia                124.61   \n",
       "9     2015    10               Bern, Switzerland                124.25   \n",
       "10    2015    11               Trondheim, Norway                119.93   \n",
       "11    2015    12            Saint Helier, Jersey                118.26   \n",
       "12    2015    13                  Luanda, Angola                116.52   \n",
       "13    2015    14                    Oslo, Norway                115.38   \n",
       "14    2015    15                  Bergen, Norway                115.10   \n",
       "15    2015    16             Lugano, Switzerland                112.81   \n",
       "16    2015    17         Reading, United Kingdom                111.47   \n",
       "17    2015    18        Aberdeen, United Kingdom                111.01   \n",
       "18    2015    19           Fort McMurray, Canada                109.54   \n",
       "19    2015    20                Perth, Australia                108.99   \n",
       "20    2015    21  Port Moresby, Papua New Guinea                105.86   \n",
       "21    2015    22          London, United Kingdom                105.80   \n",
       "22    2015    23             Copenhagen, Denmark                105.72   \n",
       "23    2015    24              Reykjavik, Iceland                105.02   \n",
       "24    2015    25     Honolulu, HI, United States                104.23   \n",
       "25    2015    26                    Nice, France                101.63   \n",
       "26    2015    27                  Arhus, Denmark                101.39   \n",
       "27    2015    28               Sydney, Australia                100.42   \n",
       "28    2015    29                   Modena, Italy                100.39   \n",
       "29    2015    30         Wellington, New Zealand                100.09   \n",
       "...    ...   ...                             ...                   ...   \n",
       "2817  2020   411                    Thane, India                 27.42   \n",
       "2818  2020   412                Bangalore, India                 27.22   \n",
       "2819  2020   413            Tashkent, Uzbekistan                 26.87   \n",
       "2820  2020   414                   Indore, India                 25.90   \n",
       "2821  2020   415                      Goa, India                 25.83   \n",
       "2822  2020   416                Ahmedabad, India                 25.58   \n",
       "2823  2020   417              Navi Mumbai, India                 25.39   \n",
       "2824  2020   418                  Chennai, India                 25.32   \n",
       "2825  2020   419                Hyderabad, India                 25.32   \n",
       "2826  2020   420                   Jaipur, India                 25.18   \n",
       "2827  2020   421                 Vadodara, India                 24.74   \n",
       "2828  2020   422                    Patna, India                 24.64   \n",
       "2829  2020   423                 Guwahati, India                 24.53   \n",
       "2830  2020   424                  Kolkata, India                 24.37   \n",
       "2831  2020   425                   Rajkot, India                 24.30   \n",
       "2832  2020   426                    Kochi, India                 24.26   \n",
       "2833  2020   427               Coimbatore, India                 24.22   \n",
       "2834  2020   428                    Surat, India                 23.83   \n",
       "2835  2020   429                Mangalore, India                 23.49   \n",
       "2836  2020   430                   Nagpur, India                 23.48   \n",
       "2837  2020   431                Lahore, Pakistan                 23.42   \n",
       "2838  2020   432                   Bhopal, India                 23.42   \n",
       "2839  2020   433        Lucknow (Lakhnau), India                 23.32   \n",
       "2840  2020   434                   Mysore, India                 23.31   \n",
       "2841  2020   435              Bhubaneswar, India                 23.17   \n",
       "2842  2020   436               Karachi, Pakistan                 23.07   \n",
       "2843  2020   437             Islamabad, Pakistan                 22.95   \n",
       "2844  2020   438               Vijayawada, India                 22.31   \n",
       "2845  2020   439            Visakhapatnam, India                 21.09   \n",
       "2846  2020   440       Thiruvananthapuram, India                 19.77   \n",
       "\n",
       "      rent_index  cost_of_living_plus_rent_index  groceries_index  \\\n",
       "0         120.02                          142.28           191.71   \n",
       "1          81.46                          114.05           161.14   \n",
       "2          60.46                          101.86           155.16   \n",
       "3          66.39                          104.57           148.56   \n",
       "4          55.80                           94.48           127.72   \n",
       "5          54.43                           91.65           118.85   \n",
       "6          65.67                           96.07           117.55   \n",
       "7          54.64                           90.46           124.70   \n",
       "8          63.25                           94.62           120.78   \n",
       "9          54.13                           89.99           123.19   \n",
       "10         48.59                           85.07           109.52   \n",
       "11         64.55                           92.01            98.32   \n",
       "12        133.86                          124.99            94.78   \n",
       "13         51.56                           84.20           104.53   \n",
       "14         49.79                           83.19           106.77   \n",
       "15         46.40                           80.36           112.18   \n",
       "16         52.47                           82.64           100.38   \n",
       "17         45.74                           79.11            98.11   \n",
       "18         71.00                           90.71           108.44   \n",
       "19         57.41                           83.78            99.74   \n",
       "20        103.56                          104.73           118.29   \n",
       "21         82.16                           94.25            91.26   \n",
       "22         52.79                           79.86            94.65   \n",
       "23         37.17                           71.86           107.89   \n",
       "24         64.92                           85.02           119.41   \n",
       "25         31.15                           67.19           100.91   \n",
       "26         30.85                           66.92            86.25   \n",
       "27         68.74                           84.94            93.74   \n",
       "28         22.80                           62.48            88.66   \n",
       "29         39.47                           70.47           102.41   \n",
       "...          ...                             ...              ...   \n",
       "2817        9.04                           18.63            26.42   \n",
       "2818        8.89                           18.45            27.20   \n",
       "2819        7.56                           17.63            22.64   \n",
       "2820        4.01                           15.43            26.83   \n",
       "2821        5.84                           16.27            25.69   \n",
       "2822        7.22                           16.79            25.90   \n",
       "2823        7.68                           16.92            26.46   \n",
       "2824        6.59                           16.36            25.95   \n",
       "2825        6.41                           16.27            26.25   \n",
       "2826        4.84                           15.45            24.09   \n",
       "2827        3.92                           14.78            25.93   \n",
       "2828        3.87                           14.71            23.98   \n",
       "2829        3.95                           14.69            25.89   \n",
       "2830        5.37                           15.28            23.89   \n",
       "2831        4.17                           14.67            23.99   \n",
       "2832        4.99                           15.04            26.50   \n",
       "2833        5.18                           15.11            25.96   \n",
       "2834        3.79                           14.24            24.05   \n",
       "2835        4.40                           14.36            25.05   \n",
       "2836        4.25                           14.28            22.81   \n",
       "2837        4.78                           14.51            19.66   \n",
       "2838        3.46                           13.87            23.04   \n",
       "2839        4.71                           14.42            21.47   \n",
       "2840        4.79                           14.45            24.03   \n",
       "2841        3.90                           13.95            24.73   \n",
       "2842        4.57                           14.22            20.03   \n",
       "2843        6.00                           14.84            22.23   \n",
       "2844        5.09                           14.07            23.04   \n",
       "2845        4.11                           12.97            21.43   \n",
       "2846        4.33                           12.38            20.31   \n",
       "\n",
       "      restaurant_price_index  local_purchasing_power_index  \n",
       "0                     132.91                         69.79  \n",
       "1                     141.23                        130.21  \n",
       "2                     122.27                          9.73  \n",
       "3                     146.90                        133.91  \n",
       "4                     137.08                        132.41  \n",
       "5                     138.17                        148.14  \n",
       "6                     147.99                         95.71  \n",
       "7                     130.39                        135.53  \n",
       "8                     125.61                         86.86  \n",
       "9                     123.53                        178.90  \n",
       "10                    140.62                         93.45  \n",
       "11                    165.48                         90.84  \n",
       "12                    117.00                         38.79  \n",
       "13                    140.55                         99.05  \n",
       "14                    132.90                         96.40  \n",
       "15                    124.50                        124.89  \n",
       "16                    123.10                         79.08  \n",
       "17                    128.51                         93.74  \n",
       "18                    111.82                        132.06  \n",
       "19                    108.11                        105.18  \n",
       "20                     66.26                          8.08  \n",
       "21                    101.65                         82.95  \n",
       "22                    122.94                         96.68  \n",
       "23                    110.31                         66.82  \n",
       "24                     85.11                         68.70  \n",
       "25                    106.71                         78.83  \n",
       "26                    115.16                        112.16  \n",
       "27                     85.68                        104.90  \n",
       "28                     90.31                         72.65  \n",
       "29                     89.48                         99.06  \n",
       "...                      ...                           ...  \n",
       "2817                   22.90                         58.34  \n",
       "2818                   20.76                         68.14  \n",
       "2819                   21.65                         25.04  \n",
       "2820                   16.42                         43.38  \n",
       "2821                   23.87                         44.20  \n",
       "2822                   17.72                         38.52  \n",
       "2823                   17.85                        100.84  \n",
       "2824                   15.87                         53.06  \n",
       "2825                   16.68                         57.90  \n",
       "2826                   16.69                         55.04  \n",
       "2827                   17.11                         60.47  \n",
       "2828                   17.88                         44.40  \n",
       "2829                   14.90                         49.57  \n",
       "2830                   20.10                         45.38  \n",
       "2831                   17.57                         51.01  \n",
       "2832                   14.19                         46.16  \n",
       "2833                   14.64                         45.16  \n",
       "2834                   17.79                         48.63  \n",
       "2835                   16.69                         58.91  \n",
       "2836                   19.73                         63.53  \n",
       "2837                   17.96                         28.44  \n",
       "2838                   15.59                         50.64  \n",
       "2839                   18.44                         53.04  \n",
       "2840                   15.19                         51.11  \n",
       "2841                   13.29                         57.67  \n",
       "2842                   19.20                         29.27  \n",
       "2843                   17.22                         30.28  \n",
       "2844                   13.19                         47.38  \n",
       "2845                   13.52                         52.04  \n",
       "2846                   10.66                         62.74  \n",
       "\n",
       "[2847 rows x 9 columns]"
      ]
     },
     "execution_count": 128,
     "metadata": {},
     "output_type": "execute_result"
    }
   ],
   "source": [
    "years = [2015, 2016, 2017, 2018, 2019, 2020]\n",
    "life_cost = (\n",
    "    pd.concat(\n",
    "        {\n",
    "            year: (\n",
    "                pd.read_html(f\"https://www.numbeo.com/cost-of-living/rankings.jsp?title={year}\")[2]\n",
    "                .rename(columns=lambda x: x.lower().replace(\" \", \"_\"))\n",
    "                .assign(rank=lambda x: x.index + 1)\n",
    "                .set_index(\"rank\")\n",
    "            ) for year in years\n",
    "        }\n",
    "    )\n",
    "    .rename_axis([\"year\", \"rank\"])\n",
    "    .reset_index()\n",
    ")\n",
    "life_cost"
   ]
  },
  {
   "cell_type": "markdown",
   "metadata": {
    "Collapsed": "false"
   },
   "source": [
    "### Ejercicio 1.1 (5 pts)\n",
    "\n",
    "Explique lo que se hizo en la celda anterior detalladamente."
   ]
  },
  {
   "cell_type": "markdown",
   "metadata": {
    "Collapsed": "false"
   },
   "source": [
    "Se crea una seriede de los años que se quieren tomar para el dataframe,luego usando al concatenar, enlazamos los años con los datos que se quieren extraer de internet (read_html), luego se editó el nombre de las columnas dejándolas en minúsculas y los espacios con guión bajo. Se crea rank para crear un tipo de index a las filas, partiendo por 1, luego con el for para cada año se le asignan ciertos valores. Con el reset index se reordena todo de nuevo con los nuevos valores y se deja con un ranking por año los costos de vida de cada ciudad."
   ]
  },
  {
   "cell_type": "markdown",
   "metadata": {
    "Collapsed": "false"
   },
   "source": [
    "### Ejercicio 1.2 (10 pts)\n",
    "\n",
    "Genera un histograma del índice del costo de vida (sin alquiler) para cada año (es decir, 6 histogramas).\n",
    "\n",
    "¿Qué conclusión puedes sacar de estos gráficos?"
   ]
  },
  {
   "cell_type": "code",
   "execution_count": 109,
   "metadata": {
    "Collapsed": "false"
   },
   "outputs": [],
   "source": [
    "#años=['2015', '2016', '2017', '2018', '2019', '2020']\n",
    "#for año in años:\n",
    "#    df_new= life_cost[['year','cost_of_living_index']]\n",
    "#    fig = plt.figure(figsize=(20, 10))\n",
    "#    plt.subplot(1, 2, 1)\n",
    "#    plt.bar(df_new['year'][año],df_new['cost_of_living_index'], align='center', color=\"g\", alpha=0.4)\n",
    "#    plt.yticks(df_new['year'][año],df_new['cost_of_living_index'])\n",
    "#    plt.xlabel('Performance')\n",
    "#\n",
    "#plt.show()"
   ]
  },
  {
   "cell_type": "code",
   "execution_count": 129,
   "metadata": {},
   "outputs": [
    {
     "data": {
      "image/png": "[encoded data removed]",
      "text/plain": [
       "<Figure size 1440x864 with 1 Axes>"
      ]
     },
     "metadata": {
      "needs_background": "light"
     },
     "output_type": "display_data"
    },
    {
     "data": {
      "image/png": "[encoded data removed]",
      "text/plain": [
       "<Figure size 1440x864 with 1 Axes>"
      ]
     },
     "metadata": {
      "needs_background": "light"
     },
     "output_type": "display_data"
    },
    {
     "data": {
      "image/png": "[encoded data removed]",
      "text/plain": [
       "<Figure size 1440x864 with 1 Axes>"
      ]
     },
     "metadata": {
      "needs_background": "light"
     },
     "output_type": "display_data"
    },
    {
     "data": {
      "image/png": "[encoded data removed]",
      "text/plain": [
       "<Figure size 1440x864 with 1 Axes>"
      ]
     },
     "metadata": {
      "needs_background": "light"
     },
     "output_type": "display_data"
    },
    {
     "data": {
      "image/png": "[encoded data removed]",
      "text/plain": [
       "<Figure size 1440x864 with 1 Axes>"
      ]
     },
     "metadata": {
      "needs_background": "light"
     },
     "output_type": "display_data"
    },
    {
     "data": {
      "image/png": "[encoded data removed]",
      "text/plain": [
       "<Figure size 1440x864 with 1 Axes>"
      ]
     },
     "metadata": {
      "needs_background": "light"
     },
     "output_type": "display_data"
    }
   ],
   "source": [
    "años=['2015', '2016', '2017', '2018', '2019', '2020']\n",
    "for i in años:\n",
    "    \n",
    "    df1 = life_cost.query('year== @i')\n",
    "    y = df1.loc[:,'cost_of_living_index']\n",
    "    x = df1.loc[:,'cost_of_living_index']\n",
    "    fig = plt.figure(figsize=(20,12))\n",
    "    plt.title('Gráfico Año ')\n",
    "    plt.bar(x,y,color=\"green\")\n",
    "    plt.xlabel('Año')\n",
    "    plt.ylabel('Costo de Vida')\n",
    "    plt.show()"
   ]
  },
  {
   "cell_type": "code",
   "execution_count": null,
   "metadata": {},
   "outputs": [],
   "source": [
    "y = df1.loc[:,'percentage']\n",
    "x = df1.loc[:,'subset']\n",
    "fig = plt.figure(figsize=(10, 6))\n",
    "\n",
    "plt.bar(x,y,color=\"green\")\n",
    "plt.xlabel('Subset')\n",
    "plt.ylabel('Percentage')\n",
    "plt.show()"
   ]
  },
  {
   "cell_type": "code",
   "execution_count": 63,
   "metadata": {
    "Collapsed": "false"
   },
   "outputs": [],
   "source": [
    "#life_cost.hist(column='cost_of_living_index',by='year',figsize=[10,20]);"
   ]
  },
  {
   "cell_type": "markdown",
   "metadata": {
    "Collapsed": "false"
   },
   "source": [
    "### Ejercicio 1.3 ( pts)\n",
    "\n",
    "Grafica el índice de restaurantes a través de los años para diez ciudades escogidas pseudo-aleatoriamente (variable `my_cities` de la celda siguiente) en un mismo gráfico. Recuerda escoger el tipo de gráfico adecuadamente.\n",
    "\n",
    "¿Ves alguna relación? ¿Qué podrías decir del gráfico? ¿Por qué no graficar todas las ciudades en lugar de solo escoger algunas?"
   ]
  },
  {
   "cell_type": "code",
   "execution_count": null,
   "metadata": {
    "Collapsed": "false"
   },
   "outputs": [],
   "source": [
    "rol_seed = 201110002  # Escribe tu rol UTFSM sin número verificador\n",
    "my_cities = life_cost[\"city\"].drop_duplicates().sample(n=10, random_state=rol_seed).values"
   ]
  },
  {
   "cell_type": "code",
   "execution_count": null,
   "metadata": {
    "Collapsed": "false"
   },
   "outputs": [],
   "source": [
    "## FIX ME PLEASE ##"
   ]
  },
  {
   "cell_type": "markdown",
   "metadata": {
    "Collapsed": "false"
   },
   "source": [
    "_## TU RESPUESTA AQUÍ ##_"
   ]
  },
  {
   "cell_type": "markdown",
   "metadata": {
    "Collapsed": "false"
   },
   "source": [
    "### Ejercicio 1.4\n",
    "\n",
    "Genera un mapa de calor tal que:\n",
    "\n",
    "- El eje horizontal corresponda a cada uno de los índices.\n",
    "- El eje vertical corresponda a cada una de las ciudades de `my_cities`.\n",
    "- El color y valor en cada celda sea el promedio de los indicadores.\n",
    "    - El valor de la celda debe tener solo dos decimales."
   ]
  },
  {
   "cell_type": "code",
   "execution_count": null,
   "metadata": {
    "Collapsed": "false"
   },
   "outputs": [],
   "source": [
    "redable_index_names = {\n",
    "    'cost_of_living_index': 'Costo de Vida',\n",
    "    'rent_index': 'Alquiler',\n",
    "    'cost_of_living_plus_rent_index': 'Costo de Vida + Alquiler',\n",
    "    'groceries_index': 'Comestibles',\n",
    "    'restaurant_price_index': 'Restaurantes',\n",
    "    'local_purchasing_power_index': 'Poder Adquisitivo Local'\n",
    "}"
   ]
  },
  {
   "cell_type": "code",
   "execution_count": null,
   "metadata": {
    "Collapsed": "false"
   },
   "outputs": [],
   "source": [
    "## FIX ME PLEASE ##"
   ]
  },
  {
   "cell_type": "markdown",
   "metadata": {
    "Collapsed": "false"
   },
   "source": [
    "_## TU RESPUESTA AQUÍ ##_"
   ]
  },
  {
   "cell_type": "markdown",
   "metadata": {
    "Collapsed": "false"
   },
   "source": [
    "### Ejercicio 1.5\n",
    "\n",
    "Primero, agregar la columna `country` al dataframe `life_cost` a partir de la columna `city`. Luego, realizar un scatter plot donde:\n",
    "\n",
    "- Datos correspondientes al año 2020.\n",
    "- El eje horizontal corresponda a el Índice de Comestibles.\n",
    "- El eje vertical corresponda a el Poder Adquisitivo Local.\n",
    "- El color corresponda al país.\n",
    "- Debe contener solo 20 países que son escogidos pseudo-aleatoriamente.\n",
    "    - Para ellos deber agregar la columna `country` al dataframe `life_cost`.\n",
    "    - Ejecutar la celda sub-siguiente para generar el _np.array_ `my_countries`.\n",
    "- Se debe utilizar un esquema de color distinto (_color scheme_ o _colormap_), puesto que hay 20 categorías. \n",
    "    - En `altair` utilizar el esquema `category20`. [Más información aquí](https://altair-viz.github.io/user_guide/customization.html?highlight=color%20map#color-schemes).\n",
    "    - En `matplotlib` utilizar el esquema `tab20`. [Más información aquí](https://matplotlib.org/3.1.0/tutorials/colors/colormaps.html).    \n",
    "- En caso que los puntos del scatter plot se vean muy pequeños en relación al gráfico debes aumentar su tamaño."
   ]
  },
  {
   "cell_type": "code",
   "execution_count": null,
   "metadata": {
    "Collapsed": "false"
   },
   "outputs": [],
   "source": [
    "life_cost ## FIX ME PLEASE ##"
   ]
  },
  {
   "cell_type": "code",
   "execution_count": null,
   "metadata": {
    "Collapsed": "false"
   },
   "outputs": [],
   "source": [
    "my_countries = life_cost.query(\"year == 2020\")[\"country\"].drop_duplicates().sample(n=20, random_state=rol_seed).values"
   ]
  },
  {
   "cell_type": "code",
   "execution_count": null,
   "metadata": {
    "Collapsed": "false"
   },
   "outputs": [],
   "source": [
    "## FIX ME PLEASE ##"
   ]
  },
  {
   "cell_type": "markdown",
   "metadata": {
    "Collapsed": "false"
   },
   "source": [
    "¿Qué comentarios puedes entregar al comparar los países seleccionados?"
   ]
  },
  {
   "cell_type": "markdown",
   "metadata": {
    "Collapsed": "false"
   },
   "source": [
    "_## TU RESPUESTA AQUÍ ##_"
   ]
  },
  {
   "cell_type": "markdown",
   "metadata": {
    "Collapsed": "false"
   },
   "source": [
    "### Ejercicio 1.6\n",
    "\n",
    "El siguiente ejercicio necesita de un conjunto de datos adicional, que relacione el país con el continente. A continuación se disponibiliza el dataframe `countries` con las columnas `country` y `continent`.\n",
    "\n",
    "Agrega la columna `continent` al dataframe `life_cost` realizando un _merge_ con `countries`."
   ]
  },
  {
   "cell_type": "code",
   "execution_count": null,
   "metadata": {
    "Collapsed": "false"
   },
   "outputs": [],
   "source": [
    "rename_countries_dict = {\n",
    "    \"Czechia\": \"Czech Republic\",\n",
    "    \"Bosnia and Herzegovina\": \"Bosnia And Herzegovina\",\n",
    "    \"Kosovo\": \"Kosovo (Disputed Territory)\",\n",
    "    \"North Macedonia\": \"Macedonia\",\n",
    "    \"Trinidad and Tobago\": \"Trinidad And Tobago\"\n",
    "}\n",
    "\n",
    "countries = (\n",
    "    pd.read_html(\"http://www.geonames.org/countries/\", keep_default_na=False)[1]\n",
    "    .rename(columns=lambda x: x.lower())\n",
    "    .assign(country=lambda x: x[\"country\"].replace(rename_countries_dict))\n",
    "    .loc[:, [\"country\", \"continent\"]]\n",
    ")\n",
    "countries.head()"
   ]
  },
  {
   "cell_type": "code",
   "execution_count": null,
   "metadata": {
    "Collapsed": "false"
   },
   "outputs": [],
   "source": [
    "life_cost ## FIX ME PLEASE ##"
   ]
  },
  {
   "cell_type": "markdown",
   "metadata": {
    "Collapsed": "false"
   },
   "source": [
    "A continuación genera un gráfico que posea 36 subgráficos, estos se generan realizando todas las permutaciones (con repetición) de dos índices. \n",
    "\n",
    "Cada sub-gráfico:\n",
    "- Debe corresponder solo al año 2020.\n",
    "- Debe ser un scatter plot.\n",
    "- Los ejes horizontal y vertical corresponden al par de índices de la permutación\n",
    "- El color de cada punto se corresponde al continente.\n",
    "- La opacidad de cada punto debe ser `0.3`."
   ]
  },
  {
   "cell_type": "code",
   "execution_count": null,
   "metadata": {
    "Collapsed": "false"
   },
   "outputs": [],
   "source": [
    "## FIX ME PLEASE ##"
   ]
  },
  {
   "cell_type": "markdown",
   "metadata": {
    "Collapsed": "false"
   },
   "source": [
    "## 2. Películas"
   ]
  },
  {
   "cell_type": "markdown",
   "metadata": {
    "Collapsed": "false"
   },
   "source": [
    "Este ejercicio utilizará el dataset de películas que viene pre-cargado en `vega_datasets`. Es intereasnte pues posee columnas de distintos tipos y una cantidad relativamente decente de registros."
   ]
  },
  {
   "cell_type": "code",
   "execution_count": null,
   "metadata": {
    "Collapsed": "false"
   },
   "outputs": [],
   "source": [
    "# data.movies?"
   ]
  },
  {
   "cell_type": "code",
   "execution_count": null,
   "metadata": {
    "Collapsed": "false"
   },
   "outputs": [],
   "source": [
    "movies_raw = data.movies()\n",
    "movies_raw.head()"
   ]
  },
  {
   "cell_type": "markdown",
   "metadata": {
    "Collapsed": "false"
   },
   "source": [
    "### Ejercicio 2.1\n",
    "\n",
    "Pre-procesamiento:\n",
    "\n",
    "Crea un dataframe llamado `movies` tal que sea igual a `movies_raw` salvo que la columna `Release_Date` debes convertrla a tipo `datetime` (recuerda utilizar `pd.to_datetime`).\n",
    "\n",
    "Este conjunto de datos posee algunos errores, a medida que vayas avanzando en el desarrollo de estas visualizaciones te irás dando cuenta de ellos y __debes solucionarlos!__.\n",
    "\n",
    "A modo de ejemplo, hay películas que tienen fechas de estreno incorrectas, a cualquiera que sea del año 2020 en adelante hay que restarle 100 años. Ver _King Kong (1933)_ y su fecha de estreno el año 2033."
   ]
  },
  {
   "cell_type": "code",
   "execution_count": null,
   "metadata": {
    "Collapsed": "false"
   },
   "outputs": [],
   "source": [
    "## Arreglar estrenos a partir del año 2020\n",
    "\n",
    "## FIX ME PLEASE ##"
   ]
  },
  {
   "cell_type": "code",
   "execution_count": null,
   "metadata": {
    "Collapsed": "false"
   },
   "outputs": [],
   "source": [
    "## Generar dataframe movies a partir de movies_raw\n",
    "movies = movies_raw.## FIX ME PLEASE ##"
   ]
  },
  {
   "cell_type": "markdown",
   "metadata": {
    "Collapsed": "false"
   },
   "source": [
    "Rellena los registros nulos de la columna `Major_Genre` con el valor `Unknown`."
   ]
  },
  {
   "cell_type": "code",
   "execution_count": null,
   "metadata": {
    "Collapsed": "false"
   },
   "outputs": [],
   "source": [
    "movies ## FIX ME PLEASE ##"
   ]
  },
  {
   "cell_type": "markdown",
   "metadata": {
    "Collapsed": "false"
   },
   "source": [
    "Para que todos los gráficos de aquí en adelante funcionen bien vamos a eliminar los registros/filas/películas que tengan algún elemento nulo dentro de las siguientes columnas:\n",
    "\n",
    "- `US_Gross`\n",
    "- `Worldwide_Gross`\n",
    "- `Production_Budget`\n",
    "- `Release_Date`\n",
    "- `IMDB_Rating`"
   ]
  },
  {
   "cell_type": "code",
   "execution_count": null,
   "metadata": {
    "Collapsed": "false"
   },
   "outputs": [],
   "source": [
    "movies ## FIX ME PLEASE ##"
   ]
  },
  {
   "cell_type": "markdown",
   "metadata": {
    "Collapsed": "false"
   },
   "source": [
    "### Ejercicio 2.2\n",
    "\n",
    "Define la función `movies_chart` tal que: \n",
    "\n",
    "- Los argumentos sean `year`, `imdb_rating`, `genre`, `budget` y `ww_gross` con valor por defecto `None`. \n",
    "    * Cada uno de estos argumentos es una tupla de dos elementos, que corresponden a un valor mínimo y máximo, salvo `genre` que es una tupla de `strings`. \n",
    "- Se define el dataframe `data` que es una copia del dataframe `movies`.\n",
    "- Luego se debe filtrar el dataframe `data` de la siguiente forma:\n",
    "    * `year` filtra la columna `Release_Date` tal que $year[0] \\leq year(Release_Date) \\leq year[1]$.\n",
    "    * `imdb_rating` filtra la columna `IMDB_Rating` tal que $imdb_rating[0] \\leq IMDB_Rating \\leq imdb_rating[1]$.\n",
    "    * `genre` filtra la columna `Major_Genre` tal que $genre[0] \\in Major\\_Genre$.\n",
    "    * `budget` filtra la columna `Production_Budget` tal que $budget[0] \\leq Production_Budget \\leq budget[1]$.\n",
    "    * `ww_gross` filtra la columna `Worldwide_Gross` tal que $ww_gross[0] \\leq Worldwide_Gross \\leq ww_gross[1]$.\n",
    "- Se define la variables `chart` que corresponde a un `alt.Chart` que debe:\n",
    "    * Ser un _scatter plot_ con opacidad `0.4`.\n",
    "    * El eje horizontal corresponde al presupuesto de producción.\n",
    "    * El eje vertical corresponde a lo recaudado mundialmente.\n",
    "    * El color se corresponde con el género principal de la película.\n",
    "    * El tamaño es proporcional al rating de IMDB.\n",
    "    * Cada punto debe mostrar un tooltip con:\n",
    "        - Título de la película.\n",
    "        - Fecha de lanzamiento.\n",
    "        - Director.\n",
    "        - Fuente.\n",
    "        - Distribuidor.\n",
    "        - Presupuesto de producción.\n",
    "        - Recaudación mundial.\n",
    "        - Género principal.\n",
    "        - Rating IMDB.\n",
    "    * El gráfico debe ser interactivo.\n",
    "- Finalmente, hacer un `display` del gráfico `chart`.\n",
    "- Retorna `None`."
   ]
  },
  {
   "cell_type": "code",
   "execution_count": null,
   "metadata": {
    "Collapsed": "false"
   },
   "outputs": [],
   "source": [
    "def movies_chart(year=None, imdb_rating=None, genre=None, budget=None, ww_gross=None):\n",
    " \n",
    "    data = movies.copy()\n",
    "    \n",
    "    # Year\n",
    "    if year is not None:\n",
    "        ## FIX ME PLEASE ##\n",
    "    \n",
    "    # IMDB\n",
    "    if imdb_rating is not None:\n",
    "        ## FIX ME PLEASE ##\n",
    "          \n",
    "    # Genre\n",
    "    if genre is not None:\n",
    "        ## FIX ME PLEASE ##\n",
    "        \n",
    "    # Budget\n",
    "    if budget is not None:\n",
    "        ## FIX ME PLEASE ##\n",
    "\n",
    "    # Worldwide Gross\n",
    "    if ww_gross is not None:\n",
    "        ## FIX ME PLEASE ##\n",
    "    \n",
    "    ## Chart\n",
    "    chart = (\n",
    "        alt.Chart(\n",
    "            data\n",
    "        )\n",
    "       ## FIX ME PLEASE ##\n",
    "    )\n",
    "\n",
    "    display(chart)\n",
    "    return None"
   ]
  },
  {
   "cell_type": "code",
   "execution_count": null,
   "metadata": {
    "Collapsed": "false"
   },
   "outputs": [],
   "source": [
    "movies_chart()"
   ]
  },
  {
   "cell_type": "markdown",
   "metadata": {
    "Collapsed": "false"
   },
   "source": [
    "### Ejercicio 2.3\n",
    "\n",
    "Generar widgets para cada uno de los argumentos de la función `movies_chart`, los nombres sugeridos son:\n",
    "\n",
    "- `year_widget` para el argumente `year`, debe ser un `widget.IntRangeSlider`, por defecto deben venir selecionados el mínimo y máximo; el paso debe ser de 1 unidad.\n",
    "- `imdb_widget` para el argumente `imdb`, debe ser un `widget.FloatRangeSlider`, por defecto deben venir selecionados el mínimo y máximo; el paso debe ser de 0.1 unidad.\n",
    "- `genre_widget` para el argumente `genre`, debe ser un `widget.SelectMultiple`, por defecto deben venir selecionados todos los géneros..\n",
    "- `budget_widget` para el argumente `budget`, debe ser un `widget.IntRangeSlider`, por defecto deben venir selecionados el mínimo y máximo; el paso debe ser de 1 unidad.\n",
    "- `ww_gross_widget` para el argumente `ww_gross`, debe ser un `widget.IntRangeSlider`, por defecto deben venir selecionados el mínimo y máximo; el paso debe ser de 1 unidad.\n",
    "\n",
    "Todo widget debe tener un valor adecuado para el argumento `description` y configurar el argumento `continuous_update = False`."
   ]
  },
  {
   "cell_type": "code",
   "execution_count": null,
   "metadata": {
    "Collapsed": "false"
   },
   "outputs": [],
   "source": [
    "year_widget = widgets.IntRangeSlider(\n",
    "  ## FIX ME PLEASE ##\n",
    ")\n",
    "\n",
    "imdb_widget = widgets.FloatRangeSlider(\n",
    "  ## FIX ME PLEASE ##\n",
    ")\n",
    "\n",
    "genre_widget = widgets.SelectMultiple(\n",
    "   ## FIX ME PLEASE ##\n",
    ")\n",
    "\n",
    "budget_widget = widgets.IntRangeSlider(\n",
    "   ## FIX ME PLEASE ##\n",
    ")\n",
    "\n",
    "ww_gross_widget = widgets.IntRangeSlider(\n",
    "   ## FIX ME PLEASE ##\n",
    ")"
   ]
  },
  {
   "cell_type": "markdown",
   "metadata": {
    "Collapsed": "false"
   },
   "source": [
    "Finalmente, haciendo uso de `interactive`, la función `movies_chart` y todos los widgets es posible crear un _dashboard_ interactivo con los datos de las películas.\n",
    "\n",
    "Respira profundo y explora tu creación!"
   ]
  },
  {
   "cell_type": "code",
   "execution_count": null,
   "metadata": {
    "Collapsed": "false"
   },
   "outputs": [],
   "source": [
    "movies_dashboard = interactive(\n",
    "    movies_chart,\n",
    "    year=year_widget,\n",
    "    imdb_rating=imdb_widget,\n",
    "    genre=genre_widget,\n",
    "    budget=budget_widget,\n",
    "    ww_gross=ww_gross_widget\n",
    ")\n",
    "movies_dashboard"
   ]
  }
 ],
 "metadata": {
  "celltoolbar": "Slideshow",
  "kernelspec": {
   "display_name": "Python 3",
   "language": "python",
   "name": "python3"
  },
  "language_info": {
   "codemirror_mode": {
    "name": "ipython",
    "version": 3
   },
   "file_extension": ".py",
   "mimetype": "text/x-python",
   "name": "python",
   "nbconvert_exporter": "python",
   "pygments_lexer": "ipython3",
   "version": "3.7.3"
  }
 },
 "nbformat": 4,
 "nbformat_minor": 4
}
