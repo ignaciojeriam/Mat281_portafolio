{
 "cells": [
  {
   "cell_type": "markdown",
   "metadata": {
    "Collapsed": "false",
    "slideshow": {
     "slide_type": "slide"
    }
   },
   "source": [
    "<img src=\"https://upload.wikimedia.org/wikipedia/commons/4/47/Logo_UTFSM.png\" width=\"200\" alt=\"utfsm-logo\" align=\"left\"/>\n",
    "\n",
    "# MAT281\n",
    "### Aplicaciones de la Matemática en la Ingeniería"
   ]
  },
  {
   "cell_type": "markdown",
   "metadata": {
    "Collapsed": "false",
    "slideshow": {
     "slide_type": "slide"
    }
   },
   "source": [
    "## Módulo 04\n",
    "## Laboratorio Clase 06: Proyectos de Machine Learning"
   ]
  },
  {
   "cell_type": "markdown",
   "metadata": {
    "Collapsed": "false"
   },
   "source": [
    "### Instrucciones\n",
    "\n",
    "\n",
    "* Completa tus datos personales (nombre y rol USM) en siguiente celda.\n",
    "* La escala es de 0 a 4 considerando solo valores enteros.\n",
    "* Debes _pushear_ tus cambios a tu repositorio personal del curso.\n",
    "* Como respaldo, debes enviar un archivo .zip con el siguiente formato `mXX_cYY_lab_apellido_nombre.zip` a alonso.ogueda@gmail.com, debe contener todo lo necesario para que se ejecute correctamente cada celda, ya sea datos, imágenes, scripts, etc.\n",
    "* Se evaluará:\n",
    "    - Soluciones\n",
    "    - Código\n",
    "    - Que Binder esté bien configurado.\n",
    "    - Al presionar  `Kernel -> Restart Kernel and Run All Cells` deben ejecutarse todas las celdas sin error.\n",
    "* __La entrega es al final de esta clase.__"
   ]
  },
  {
   "cell_type": "markdown",
   "metadata": {
    "Collapsed": "false"
   },
   "source": [
    "__Nombre__: IGNACIO JERIA MARRAS\n",
    "\n",
    "__Rol__: 201684022-2"
   ]
  },
  {
   "cell_type": "markdown",
   "metadata": {
    "Collapsed": "false"
   },
   "source": [
    "## GapMinder"
   ]
  },
  {
   "cell_type": "code",
   "execution_count": 1,
   "metadata": {
    "Collapsed": "false"
   },
   "outputs": [],
   "source": [
    "import pandas as pd\n",
    "import altair as alt\n",
    "\n",
    "from vega_datasets import data\n",
    "\n",
    "alt.themes.enable('opaque')\n",
    "\n",
    "%matplotlib inline"
   ]
  },
  {
   "cell_type": "code",
   "execution_count": 2,
   "metadata": {
    "Collapsed": "false"
   },
   "outputs": [
    {
     "data": {
      "text/html": [
       "<div>\n",
       "<style scoped>\n",
       "    .dataframe tbody tr th:only-of-type {\n",
       "        vertical-align: middle;\n",
       "    }\n",
       "\n",
       "    .dataframe tbody tr th {\n",
       "        vertical-align: top;\n",
       "    }\n",
       "\n",
       "    .dataframe thead th {\n",
       "        text-align: right;\n",
       "    }\n",
       "</style>\n",
       "<table border=\"1\" class=\"dataframe\">\n",
       "  <thead>\n",
       "    <tr style=\"text-align: right;\">\n",
       "      <th></th>\n",
       "      <th>country</th>\n",
       "      <th>income</th>\n",
       "      <th>health</th>\n",
       "      <th>population</th>\n",
       "    </tr>\n",
       "  </thead>\n",
       "  <tbody>\n",
       "    <tr>\n",
       "      <th>0</th>\n",
       "      <td>Afghanistan</td>\n",
       "      <td>1925</td>\n",
       "      <td>57.63</td>\n",
       "      <td>32526562</td>\n",
       "    </tr>\n",
       "    <tr>\n",
       "      <th>1</th>\n",
       "      <td>Albania</td>\n",
       "      <td>10620</td>\n",
       "      <td>76.00</td>\n",
       "      <td>2896679</td>\n",
       "    </tr>\n",
       "    <tr>\n",
       "      <th>2</th>\n",
       "      <td>Algeria</td>\n",
       "      <td>13434</td>\n",
       "      <td>76.50</td>\n",
       "      <td>39666519</td>\n",
       "    </tr>\n",
       "    <tr>\n",
       "      <th>3</th>\n",
       "      <td>Andorra</td>\n",
       "      <td>46577</td>\n",
       "      <td>84.10</td>\n",
       "      <td>70473</td>\n",
       "    </tr>\n",
       "    <tr>\n",
       "      <th>4</th>\n",
       "      <td>Angola</td>\n",
       "      <td>7615</td>\n",
       "      <td>61.00</td>\n",
       "      <td>25021974</td>\n",
       "    </tr>\n",
       "  </tbody>\n",
       "</table>\n",
       "</div>"
      ],
      "text/plain": [
       "       country  income  health  population\n",
       "0  Afghanistan    1925   57.63    32526562\n",
       "1      Albania   10620   76.00     2896679\n",
       "2      Algeria   13434   76.50    39666519\n",
       "3      Andorra   46577   84.10       70473\n",
       "4       Angola    7615   61.00    25021974"
      ]
     },
     "execution_count": 2,
     "metadata": {},
     "output_type": "execute_result"
    }
   ],
   "source": [
    "gapminder = data.gapminder_health_income()\n",
    "gapminder.head()"
   ]
  },
  {
   "cell_type": "markdown",
   "metadata": {
    "Collapsed": "false"
   },
   "source": [
    "### 1. Análisis exploratorio (1 pto)\n",
    "\n",
    "Como mínimo, realizar un `describe` del dataframe y una visualización adecuada, una _scatter matrix_ con los valores numéricos."
   ]
  },
  {
   "cell_type": "code",
   "execution_count": 3,
   "metadata": {
    "Collapsed": "false"
   },
   "outputs": [
    {
     "data": {
      "text/html": [
       "<div>\n",
       "<style scoped>\n",
       "    .dataframe tbody tr th:only-of-type {\n",
       "        vertical-align: middle;\n",
       "    }\n",
       "\n",
       "    .dataframe tbody tr th {\n",
       "        vertical-align: top;\n",
       "    }\n",
       "\n",
       "    .dataframe thead th {\n",
       "        text-align: right;\n",
       "    }\n",
       "</style>\n",
       "<table border=\"1\" class=\"dataframe\">\n",
       "  <thead>\n",
       "    <tr style=\"text-align: right;\">\n",
       "      <th></th>\n",
       "      <th>country</th>\n",
       "      <th>income</th>\n",
       "      <th>health</th>\n",
       "      <th>population</th>\n",
       "    </tr>\n",
       "  </thead>\n",
       "  <tbody>\n",
       "    <tr>\n",
       "      <th>count</th>\n",
       "      <td>187</td>\n",
       "      <td>187.000000</td>\n",
       "      <td>187.000000</td>\n",
       "      <td>1.870000e+02</td>\n",
       "    </tr>\n",
       "    <tr>\n",
       "      <th>unique</th>\n",
       "      <td>187</td>\n",
       "      <td>NaN</td>\n",
       "      <td>NaN</td>\n",
       "      <td>NaN</td>\n",
       "    </tr>\n",
       "    <tr>\n",
       "      <th>top</th>\n",
       "      <td>Nepal</td>\n",
       "      <td>NaN</td>\n",
       "      <td>NaN</td>\n",
       "      <td>NaN</td>\n",
       "    </tr>\n",
       "    <tr>\n",
       "      <th>freq</th>\n",
       "      <td>1</td>\n",
       "      <td>NaN</td>\n",
       "      <td>NaN</td>\n",
       "      <td>NaN</td>\n",
       "    </tr>\n",
       "    <tr>\n",
       "      <th>mean</th>\n",
       "      <td>NaN</td>\n",
       "      <td>17232.240642</td>\n",
       "      <td>71.673262</td>\n",
       "      <td>3.908887e+07</td>\n",
       "    </tr>\n",
       "    <tr>\n",
       "      <th>std</th>\n",
       "      <td>NaN</td>\n",
       "      <td>19310.632882</td>\n",
       "      <td>7.748959</td>\n",
       "      <td>1.432898e+08</td>\n",
       "    </tr>\n",
       "    <tr>\n",
       "      <th>min</th>\n",
       "      <td>NaN</td>\n",
       "      <td>599.000000</td>\n",
       "      <td>48.500000</td>\n",
       "      <td>5.299300e+04</td>\n",
       "    </tr>\n",
       "    <tr>\n",
       "      <th>25%</th>\n",
       "      <td>NaN</td>\n",
       "      <td>3585.500000</td>\n",
       "      <td>65.500000</td>\n",
       "      <td>2.248920e+06</td>\n",
       "    </tr>\n",
       "    <tr>\n",
       "      <th>50%</th>\n",
       "      <td>NaN</td>\n",
       "      <td>10996.000000</td>\n",
       "      <td>73.130000</td>\n",
       "      <td>8.544586e+06</td>\n",
       "    </tr>\n",
       "    <tr>\n",
       "      <th>75%</th>\n",
       "      <td>NaN</td>\n",
       "      <td>23834.000000</td>\n",
       "      <td>77.700000</td>\n",
       "      <td>2.769388e+07</td>\n",
       "    </tr>\n",
       "    <tr>\n",
       "      <th>max</th>\n",
       "      <td>NaN</td>\n",
       "      <td>132877.000000</td>\n",
       "      <td>84.100000</td>\n",
       "      <td>1.376049e+09</td>\n",
       "    </tr>\n",
       "  </tbody>\n",
       "</table>\n",
       "</div>"
      ],
      "text/plain": [
       "       country         income      health    population\n",
       "count      187     187.000000  187.000000  1.870000e+02\n",
       "unique     187            NaN         NaN           NaN\n",
       "top      Nepal            NaN         NaN           NaN\n",
       "freq         1            NaN         NaN           NaN\n",
       "mean       NaN   17232.240642   71.673262  3.908887e+07\n",
       "std        NaN   19310.632882    7.748959  1.432898e+08\n",
       "min        NaN     599.000000   48.500000  5.299300e+04\n",
       "25%        NaN    3585.500000   65.500000  2.248920e+06\n",
       "50%        NaN   10996.000000   73.130000  8.544586e+06\n",
       "75%        NaN   23834.000000   77.700000  2.769388e+07\n",
       "max        NaN  132877.000000   84.100000  1.376049e+09"
      ]
     },
     "execution_count": 3,
     "metadata": {},
     "output_type": "execute_result"
    }
   ],
   "source": [
    "gapminder.describe(include='all')"
   ]
  },
  {
   "cell_type": "code",
   "execution_count": 4,
   "metadata": {
    "Collapsed": "false"
   },
   "outputs": [
    {
     "data": {
      "text/html": [
       "\n",
       "<div id=\"altair-viz-1\"></div>\n",
       "<script type=\"text/javascript\">\n",
       "  (function(spec, embedOpt){\n",
       "    const outputDiv = document.getElementById(\"altair-viz-1\");\n",
       "    const paths = {\n",
       "      \"vega\": \"https://cdn.jsdelivr.net/npm//vega@5?noext\",\n",
       "      \"vega-lib\": \"https://cdn.jsdelivr.net/npm//vega-lib?noext\",\n",
       "      \"vega-lite\": \"https://cdn.jsdelivr.net/npm//vega-lite@4.0.0?noext\",\n",
       "      \"vega-embed\": \"https://cdn.jsdelivr.net/npm//vega-embed@6?noext\",\n",
       "    };\n",
       "\n",
       "    function loadScript(lib) {\n",
       "      return new Promise(function(resolve, reject) {\n",
       "        var s = document.createElement('script');\n",
       "        s.src = paths[lib];\n",
       "        s.async = true;\n",
       "        s.onload = () => resolve(paths[lib]);\n",
       "        s.onerror = () => reject(`Error loading script: ${paths[lib]}`);\n",
       "        document.getElementsByTagName(\"head\")[0].appendChild(s);\n",
       "      });\n",
       "    }\n",
       "\n",
       "    function showError(err) {\n",
       "      outputDiv.innerHTML = `<div class=\"error\" style=\"color:red;\">${err}</div>`;\n",
       "      throw err;\n",
       "    }\n",
       "\n",
       "    function displayChart(vegaEmbed) {\n",
       "      vegaEmbed(outputDiv, spec, embedOpt)\n",
       "        .catch(err => showError(`Javascript Error: ${err.message}<br>This usually means there's a typo in your chart specification. See the javascript console for the full traceback.`));\n",
       "    }\n",
       "\n",
       "    if(typeof define === \"function\" && define.amd) {\n",
       "      requirejs.config({paths});\n",
       "      require([\"vega-embed\"], displayChart, err => showError(`Error loading script: ${err.message}`));\n",
       "    } else if (typeof vegaEmbed === \"function\") {\n",
       "      displayChart(vegaEmbed);\n",
       "    } else {\n",
       "      loadScript(\"vega\")\n",
       "        .then(() => loadScript(\"vega-lite\"))\n",
       "        .then(() => loadScript(\"vega-embed\"))\n",
       "        .catch(showError)\n",
       "        .then(() => displayChart(vegaEmbed));\n",
       "    }\n",
       "  })({\"config\": {\"background\": \"white\", \"view\": {\"continuousWidth\": 400, \"continuousHeight\": 300}}, \"repeat\": {\"column\": [\"population\", \"health\", \"income\"], \"row\": [\"income\", \"health\", \"population\"]}, \"spec\": {\"data\": {\"name\": \"data-7e3b7ef5d72a8470b0044710e8a24cca\"}, \"mark\": \"circle\", \"encoding\": {\"color\": {\"type\": \"nominal\", \"field\": \"country\"}, \"x\": {\"type\": \"quantitative\", \"field\": {\"repeat\": \"column\"}}, \"y\": {\"type\": \"quantitative\", \"field\": {\"repeat\": \"row\"}}}, \"height\": 250, \"selection\": {\"selector001\": {\"type\": \"interval\", \"bind\": \"scales\", \"encodings\": [\"x\", \"y\"]}}, \"width\": 250}, \"$schema\": \"https://vega.github.io/schema/vega-lite/v4.0.0.json\", \"datasets\": {\"data-7e3b7ef5d72a8470b0044710e8a24cca\": [{\"country\": \"Afghanistan\", \"income\": 1925, \"health\": 57.63, \"population\": 32526562}, {\"country\": \"Albania\", \"income\": 10620, \"health\": 76.0, \"population\": 2896679}, {\"country\": \"Algeria\", \"income\": 13434, \"health\": 76.5, \"population\": 39666519}, {\"country\": \"Andorra\", \"income\": 46577, \"health\": 84.1, \"population\": 70473}, {\"country\": \"Angola\", \"income\": 7615, \"health\": 61.0, \"population\": 25021974}, {\"country\": \"Antigua and Barbuda\", \"income\": 21049, \"health\": 75.2, \"population\": 91818}, {\"country\": \"Argentina\", \"income\": 17344, \"health\": 76.2, \"population\": 43416755}, {\"country\": \"Armenia\", \"income\": 7763, \"health\": 74.4, \"population\": 3017712}, {\"country\": \"Australia\", \"income\": 44056, \"health\": 81.8, \"population\": 23968973}, {\"country\": \"Austria\", \"income\": 44401, \"health\": 81.0, \"population\": 8544586}, {\"country\": \"Azerbaijan\", \"income\": 16986, \"health\": 72.9, \"population\": 9753968}, {\"country\": \"Bahamas\", \"income\": 22818, \"health\": 72.3, \"population\": 388019}, {\"country\": \"Bahrain\", \"income\": 44138, \"health\": 79.2, \"population\": 1377237}, {\"country\": \"Bangladesh\", \"income\": 3161, \"health\": 70.1, \"population\": 160995642}, {\"country\": \"Barbados\", \"income\": 12984, \"health\": 75.8, \"population\": 284215}, {\"country\": \"Belarus\", \"income\": 17415, \"health\": 70.4, \"population\": 9495826}, {\"country\": \"Belgium\", \"income\": 41240, \"health\": 80.4, \"population\": 11299192}, {\"country\": \"Belize\", \"income\": 8501, \"health\": 70.0, \"population\": 359287}, {\"country\": \"Benin\", \"income\": 1830, \"health\": 65.5, \"population\": 10879829}, {\"country\": \"Bhutan\", \"income\": 7983, \"health\": 70.2, \"population\": 774830}, {\"country\": \"Bolivia\", \"income\": 6295, \"health\": 72.3, \"population\": 10724705}, {\"country\": \"Bosnia and Herzegovina\", \"income\": 9833, \"health\": 77.9, \"population\": 3810416}, {\"country\": \"Botswana\", \"income\": 17196, \"health\": 66.4, \"population\": 2262485}, {\"country\": \"Brazil\", \"income\": 15441, \"health\": 75.6, \"population\": 207847528}, {\"country\": \"Brunei\", \"income\": 73003, \"health\": 78.7, \"population\": 423188}, {\"country\": \"Bulgaria\", \"income\": 16371, \"health\": 74.9, \"population\": 7149787}, {\"country\": \"Burkina Faso\", \"income\": 1654, \"health\": 62.8, \"population\": 18105570}, {\"country\": \"Burundi\", \"income\": 777, \"health\": 60.4, \"population\": 11178921}, {\"country\": \"Cambodia\", \"income\": 3267, \"health\": 68.4, \"population\": 15577899}, {\"country\": \"Cameroon\", \"income\": 2897, \"health\": 59.5, \"population\": 23344179}, {\"country\": \"Canada\", \"income\": 43294, \"health\": 81.7, \"population\": 35939927}, {\"country\": \"Cape Verde\", \"income\": 6514, \"health\": 74.6, \"population\": 520502}, {\"country\": \"Central African Republic\", \"income\": 599, \"health\": 53.8, \"population\": 4900274}, {\"country\": \"Chad\", \"income\": 2191, \"health\": 57.7, \"population\": 14037472}, {\"country\": \"Chile\", \"income\": 22465, \"health\": 79.3, \"population\": 17948141}, {\"country\": \"China\", \"income\": 13334, \"health\": 76.9, \"population\": 1376048943}, {\"country\": \"Colombia\", \"income\": 12761, \"health\": 75.8, \"population\": 48228704}, {\"country\": \"Comoros\", \"income\": 1472, \"health\": 64.1, \"population\": 788474}, {\"country\": \"Congo, Dem. Rep.\", \"income\": 809, \"health\": 58.3, \"population\": 77266814}, {\"country\": \"Congo, Rep.\", \"income\": 6220, \"health\": 61.9, \"population\": 4620330}, {\"country\": \"Costa Rica\", \"income\": 14132, \"health\": 80.0, \"population\": 4807850}, {\"country\": \"Cote d'Ivoire\", \"income\": 3491, \"health\": 60.33, \"population\": 22701556}, {\"country\": \"Croatia\", \"income\": 20260, \"health\": 78.0, \"population\": 4240317}, {\"country\": \"Cuba\", \"income\": 21291, \"health\": 78.5, \"population\": 11389562}, {\"country\": \"Cyprus\", \"income\": 29797, \"health\": 82.6, \"population\": 1165300}, {\"country\": \"Czech Republic\", \"income\": 29437, \"health\": 78.6, \"population\": 10543186}, {\"country\": \"Denmark\", \"income\": 43495, \"health\": 80.1, \"population\": 5669081}, {\"country\": \"Djibouti\", \"income\": 3139, \"health\": 64.63, \"population\": 887861}, {\"country\": \"Dominica\", \"income\": 10503, \"health\": 74.6, \"population\": 72680}, {\"country\": \"Dominican Republic\", \"income\": 12837, \"health\": 73.8, \"population\": 10528391}, {\"country\": \"Ecuador\", \"income\": 10996, \"health\": 75.2, \"population\": 16144363}, {\"country\": \"Egypt\", \"income\": 11031, \"health\": 71.3, \"population\": 91508084}, {\"country\": \"El Salvador\", \"income\": 7776, \"health\": 74.1, \"population\": 6126583}, {\"country\": \"Equatorial Guinea\", \"income\": 31087, \"health\": 60.63, \"population\": 845060}, {\"country\": \"Eritrea\", \"income\": 1129, \"health\": 62.9, \"population\": 5227791}, {\"country\": \"Estonia\", \"income\": 26812, \"health\": 76.8, \"population\": 1312558}, {\"country\": \"Ethiopia\", \"income\": 1520, \"health\": 63.6, \"population\": 99390750}, {\"country\": \"Fiji\", \"income\": 7925, \"health\": 66.3, \"population\": 892145}, {\"country\": \"Finland\", \"income\": 38923, \"health\": 80.8, \"population\": 5503457}, {\"country\": \"France\", \"income\": 37599, \"health\": 81.9, \"population\": 64395345}, {\"country\": \"Gabon\", \"income\": 18627, \"health\": 60.53, \"population\": 1725292}, {\"country\": \"Gambia\", \"income\": 1644, \"health\": 65.1, \"population\": 1990924}, {\"country\": \"Georgia\", \"income\": 7474, \"health\": 73.3, \"population\": 3999812}, {\"country\": \"Germany\", \"income\": 44053, \"health\": 81.1, \"population\": 80688545}, {\"country\": \"Ghana\", \"income\": 4099, \"health\": 65.5, \"population\": 27409893}, {\"country\": \"Greece\", \"income\": 25430, \"health\": 79.8, \"population\": 10954617}, {\"country\": \"Grenada\", \"income\": 11593, \"health\": 71.7, \"population\": 106825}, {\"country\": \"Guatemala\", \"income\": 7279, \"health\": 73.1, \"population\": 16342897}, {\"country\": \"Guinea\", \"income\": 1225, \"health\": 60.8, \"population\": 12608590}, {\"country\": \"Guinea-Bissau\", \"income\": 1386, \"health\": 53.4, \"population\": 1844325}, {\"country\": \"Guyana\", \"income\": 6816, \"health\": 64.4, \"population\": 767085}, {\"country\": \"Haiti\", \"income\": 1710, \"health\": 65.3, \"population\": 10711067}, {\"country\": \"Honduras\", \"income\": 4270, \"health\": 72.4, \"population\": 8075060}, {\"country\": \"Hungary\", \"income\": 24200, \"health\": 76.2, \"population\": 9855023}, {\"country\": \"Iceland\", \"income\": 42182, \"health\": 82.8, \"population\": 329425}, {\"country\": \"India\", \"income\": 5903, \"health\": 66.8, \"population\": 1311050527}, {\"country\": \"Indonesia\", \"income\": 10504, \"health\": 70.9, \"population\": 257563815}, {\"country\": \"Iran\", \"income\": 15573, \"health\": 78.5, \"population\": 79109272}, {\"country\": \"Iraq\", \"income\": 14646, \"health\": 72.1, \"population\": 36423395}, {\"country\": \"Ireland\", \"income\": 47758, \"health\": 80.4, \"population\": 4688465}, {\"country\": \"Israel\", \"income\": 31590, \"health\": 82.4, \"population\": 8064036}, {\"country\": \"Italy\", \"income\": 33297, \"health\": 82.1, \"population\": 59797685}, {\"country\": \"Jamaica\", \"income\": 8606, \"health\": 75.5, \"population\": 2793335}, {\"country\": \"Japan\", \"income\": 36162, \"health\": 83.5, \"population\": 126573481}, {\"country\": \"Jordan\", \"income\": 11752, \"health\": 78.3, \"population\": 7594547}, {\"country\": \"Kazakhstan\", \"income\": 23468, \"health\": 68.2, \"population\": 17625226}, {\"country\": \"Kenya\", \"income\": 2898, \"health\": 66.63, \"population\": 46050302}, {\"country\": \"Kiribati\", \"income\": 1824, \"health\": 62.4, \"population\": 112423}, {\"country\": \"Kuwait\", \"income\": 82633, \"health\": 80.7, \"population\": 3892115}, {\"country\": \"Kyrgyz Republic\", \"income\": 3245, \"health\": 69.0, \"population\": 5939962}, {\"country\": \"Lao\", \"income\": 5212, \"health\": 66.4, \"population\": 6802023}, {\"country\": \"Latvia\", \"income\": 23282, \"health\": 75.7, \"population\": 1970503}, {\"country\": \"Lebanon\", \"income\": 17050, \"health\": 78.5, \"population\": 5850743}, {\"country\": \"Lesotho\", \"income\": 2598, \"health\": 48.5, \"population\": 2135022}, {\"country\": \"Liberia\", \"income\": 958, \"health\": 63.9, \"population\": 4503438}, {\"country\": \"Libya\", \"income\": 17261, \"health\": 76.2, \"population\": 6278438}, {\"country\": \"Lithuania\", \"income\": 26665, \"health\": 75.4, \"population\": 2878405}, {\"country\": \"Luxembourg\", \"income\": 88314, \"health\": 81.1, \"population\": 567110}, {\"country\": \"Macedonia, FYR\", \"income\": 12547, \"health\": 77.0, \"population\": 2078453}, {\"country\": \"Madagascar\", \"income\": 1400, \"health\": 64.7, \"population\": 24235390}, {\"country\": \"Malawi\", \"income\": 799, \"health\": 60.22, \"population\": 17215232}, {\"country\": \"Malaysia\", \"income\": 24320, \"health\": 75.1, \"population\": 30331007}, {\"country\": \"Maldives\", \"income\": 14408, \"health\": 79.5, \"population\": 363657}, {\"country\": \"Mali\", \"income\": 1684, \"health\": 57.6, \"population\": 17599694}, {\"country\": \"Malta\", \"income\": 30265, \"health\": 82.1, \"population\": 418670}, {\"country\": \"Marshall Islands\", \"income\": 3661, \"health\": 65.1, \"population\": 52993}, {\"country\": \"Mauritania\", \"income\": 3877, \"health\": 65.7, \"population\": 4067564}, {\"country\": \"Mauritius\", \"income\": 18350, \"health\": 73.9, \"population\": 1273212}, {\"country\": \"Mexico\", \"income\": 16850, \"health\": 74.5, \"population\": 127017224}, {\"country\": \"Micronesia, Fed. Sts.\", \"income\": 3510, \"health\": 67.0, \"population\": 104460}, {\"country\": \"Moldova\", \"income\": 4896, \"health\": 72.7, \"population\": 4068897}, {\"country\": \"Mongolia\", \"income\": 11819, \"health\": 65.3, \"population\": 2959134}, {\"country\": \"Montenegro\", \"income\": 14833, \"health\": 75.8, \"population\": 625781}, {\"country\": \"Morocco\", \"income\": 7319, \"health\": 74.7, \"population\": 34377511}, {\"country\": \"Mozambique\", \"income\": 1176, \"health\": 56.4, \"population\": 27977863}, {\"country\": \"Myanmar\", \"income\": 4012, \"health\": 67.9, \"population\": 53897154}, {\"country\": \"Namibia\", \"income\": 10040, \"health\": 61.0, \"population\": 2458830}, {\"country\": \"Nepal\", \"income\": 2352, \"health\": 71.2, \"population\": 28513700}, {\"country\": \"Netherlands\", \"income\": 45784, \"health\": 80.6, \"population\": 16924929}, {\"country\": \"New Zealand\", \"income\": 34186, \"health\": 80.6, \"population\": 4528526}, {\"country\": \"Nicaragua\", \"income\": 4712, \"health\": 76.8, \"population\": 6082032}, {\"country\": \"Niger\", \"income\": 943, \"health\": 62.2, \"population\": 19899120}, {\"country\": \"Nigeria\", \"income\": 5727, \"health\": 61.33, \"population\": 182201962}, {\"country\": \"North Korea\", \"income\": 1390, \"health\": 71.4, \"population\": 25155317}, {\"country\": \"Norway\", \"income\": 64304, \"health\": 81.6, \"population\": 5210967}, {\"country\": \"Oman\", \"income\": 48226, \"health\": 75.7, \"population\": 4490541}, {\"country\": \"Pakistan\", \"income\": 4743, \"health\": 66.5, \"population\": 188924874}, {\"country\": \"Panama\", \"income\": 20485, \"health\": 78.2, \"population\": 3929141}, {\"country\": \"Papua New Guinea\", \"income\": 2529, \"health\": 60.6, \"population\": 7619321}, {\"country\": \"Paraguay\", \"income\": 8219, \"health\": 73.9, \"population\": 6639123}, {\"country\": \"Peru\", \"income\": 11903, \"health\": 77.5, \"population\": 31376670}, {\"country\": \"Philippines\", \"income\": 6876, \"health\": 70.2, \"population\": 100699395}, {\"country\": \"Poland\", \"income\": 24787, \"health\": 77.3, \"population\": 38611794}, {\"country\": \"Portugal\", \"income\": 26437, \"health\": 79.8, \"population\": 10349803}, {\"country\": \"Qatar\", \"income\": 132877, \"health\": 82.0, \"population\": 2235355}, {\"country\": \"Romania\", \"income\": 19203, \"health\": 76.8, \"population\": 19511324}, {\"country\": \"Russia\", \"income\": 23038, \"health\": 73.13, \"population\": 143456918}, {\"country\": \"Rwanda\", \"income\": 1549, \"health\": 66.53, \"population\": 11609666}, {\"country\": \"Samoa\", \"income\": 5558, \"health\": 72.2, \"population\": 193228}, {\"country\": \"Sao Tome and Principe\", \"income\": 3003, \"health\": 68.8, \"population\": 190344}, {\"country\": \"Saudi Arabia\", \"income\": 52469, \"health\": 78.1, \"population\": 31540372}, {\"country\": \"Senegal\", \"income\": 2251, \"health\": 66.1, \"population\": 15129273}, {\"country\": \"Serbia\", \"income\": 12908, \"health\": 78.1, \"population\": 8850975}, {\"country\": \"Seychelles\", \"income\": 25684, \"health\": 73.7, \"population\": 96471}, {\"country\": \"Sierra Leone\", \"income\": 2085, \"health\": 58.5, \"population\": 6453184}, {\"country\": \"Singapore\", \"income\": 80794, \"health\": 82.1, \"population\": 5603740}, {\"country\": \"Slovak Republic\", \"income\": 27204, \"health\": 76.4, \"population\": 5426258}, {\"country\": \"Slovenia\", \"income\": 28550, \"health\": 80.2, \"population\": 2067526}, {\"country\": \"Solomon Islands\", \"income\": 2047, \"health\": 64.1, \"population\": 583591}, {\"country\": \"Somalia\", \"income\": 624, \"health\": 58.7, \"population\": 10787104}, {\"country\": \"South Africa\", \"income\": 12509, \"health\": 63.72, \"population\": 54490406}, {\"country\": \"South Korea\", \"income\": 34644, \"health\": 80.7, \"population\": 50293439}, {\"country\": \"South Sudan\", \"income\": 3047, \"health\": 58.0, \"population\": 12339812}, {\"country\": \"Spain\", \"income\": 32979, \"health\": 81.7, \"population\": 46121699}, {\"country\": \"Sri Lanka\", \"income\": 10624, \"health\": 76.5, \"population\": 20715010}, {\"country\": \"St. Lucia\", \"income\": 9997, \"health\": 74.5, \"population\": 184999}, {\"country\": \"St. Vincent and the Grenadines\", \"income\": 10435, \"health\": 72.9, \"population\": 109462}, {\"country\": \"Sudan\", \"income\": 3975, \"health\": 69.5, \"population\": 40234882}, {\"country\": \"Suriname\", \"income\": 17125, \"health\": 70.5, \"population\": 542975}, {\"country\": \"Swaziland\", \"income\": 6095, \"health\": 51.5, \"population\": 1286970}, {\"country\": \"Sweden\", \"income\": 44892, \"health\": 82.0, \"population\": 9779426}, {\"country\": \"Switzerland\", \"income\": 56118, \"health\": 82.9, \"population\": 8298663}, {\"country\": \"Syria\", \"income\": 4637, \"health\": 70.26, \"population\": 18502413}, {\"country\": \"Tajikistan\", \"income\": 2582, \"health\": 71.0, \"population\": 8481855}, {\"country\": \"Tanzania\", \"income\": 2571, \"health\": 63.43, \"population\": 53470420}, {\"country\": \"Thailand\", \"income\": 14512, \"health\": 75.1, \"population\": 67959359}, {\"country\": \"Timor-Leste\", \"income\": 2086, \"health\": 72.4, \"population\": 1184765}, {\"country\": \"Togo\", \"income\": 1433, \"health\": 64.23, \"population\": 7304578}, {\"country\": \"Tonga\", \"income\": 5069, \"health\": 70.5, \"population\": 106170}, {\"country\": \"Trinidad and Tobago\", \"income\": 30113, \"health\": 71.4, \"population\": 1360088}, {\"country\": \"Tunisia\", \"income\": 11126, \"health\": 77.3, \"population\": 11253554}, {\"country\": \"Turkey\", \"income\": 19360, \"health\": 76.5, \"population\": 78665830}, {\"country\": \"Turkmenistan\", \"income\": 15865, \"health\": 67.9, \"population\": 5373502}, {\"country\": \"Uganda\", \"income\": 1680, \"health\": 60.8, \"population\": 39032383}, {\"country\": \"Ukraine\", \"income\": 8449, \"health\": 72.1, \"population\": 44823765}, {\"country\": \"United Arab Emirates\", \"income\": 60749, \"health\": 76.6, \"population\": 9156963}, {\"country\": \"United Kingdom\", \"income\": 38225, \"health\": 81.4, \"population\": 64715810}, {\"country\": \"United States\", \"income\": 53354, \"health\": 79.1, \"population\": 321773631}, {\"country\": \"Uruguay\", \"income\": 20438, \"health\": 77.3, \"population\": 3431555}, {\"country\": \"Uzbekistan\", \"income\": 5598, \"health\": 70.1, \"population\": 29893488}, {\"country\": \"Vanuatu\", \"income\": 2912, \"health\": 65.0, \"population\": 264652}, {\"country\": \"Venezuela\", \"income\": 15753, \"health\": 75.8, \"population\": 31108083}, {\"country\": \"Vietnam\", \"income\": 5623, \"health\": 76.5, \"population\": 93447601}, {\"country\": \"West Bank and Gaza\", \"income\": 4319, \"health\": 75.2, \"population\": 4668466}, {\"country\": \"Yemen\", \"income\": 3887, \"health\": 67.6, \"population\": 26832215}, {\"country\": \"Zambia\", \"income\": 4034, \"health\": 58.96, \"population\": 16211767}, {\"country\": \"Zimbabwe\", \"income\": 1801, \"health\": 60.01, \"population\": 15602751}]}}, {\"mode\": \"vega-lite\"});\n",
       "</script>"
      ],
      "text/plain": [
       "alt.RepeatChart(...)"
      ]
     },
     "execution_count": 4,
     "metadata": {},
     "output_type": "execute_result"
    }
   ],
   "source": [
    "alt.Chart(gapminder).mark_circle().encode(\n",
    "    alt.X(alt.repeat(\"column\"), type='quantitative'),\n",
    "    alt.Y(alt.repeat(\"row\"), type='quantitative'),\n",
    "    color='country:N',\n",
    ").properties(\n",
    "    width=250,\n",
    "    height=250\n",
    ").repeat(\n",
    "    row=['income', 'health', 'population'],\n",
    "    column=['population', 'health', 'income']\n",
    ").interactive()"
   ]
  },
  {
   "cell_type": "markdown",
   "metadata": {
    "Collapsed": "false"
   },
   "source": [
    "### 2. Preprocesamiento (1 pto)"
   ]
  },
  {
   "cell_type": "markdown",
   "metadata": {
    "Collapsed": "false"
   },
   "source": [
    "Aplicar un escalamiento a los datos antes de aplicar nuestro algoritmo de clustering. Para ello, definir la variable `X_raw` que corresponde a un `numpy.array` con los valores del dataframe `gapminder` en las columnas _income_, _health_ y  _population_. Luego, definir la variable `X` que deben ser los datos escalados de `X_raw`."
   ]
  },
  {
   "cell_type": "code",
   "execution_count": 5,
   "metadata": {
    "Collapsed": "false"
   },
   "outputs": [],
   "source": [
    "from sklearn.preprocessing import StandardScaler"
   ]
  },
  {
   "cell_type": "code",
   "execution_count": 19,
   "metadata": {
    "Collapsed": "false"
   },
   "outputs": [],
   "source": [
    "X_raw = gapminder.drop(columns='country').to_numpy()\n",
    "X = StandardScaler().fit_transform(X_raw)"
   ]
  },
  {
   "cell_type": "markdown",
   "metadata": {
    "Collapsed": "false"
   },
   "source": [
    "### 3. Clustering (1 pto)"
   ]
  },
  {
   "cell_type": "code",
   "execution_count": 7,
   "metadata": {
    "Collapsed": "false"
   },
   "outputs": [],
   "source": [
    "from sklearn.cluster import KMeans"
   ]
  },
  {
   "cell_type": "markdown",
   "metadata": {
    "Collapsed": "false"
   },
   "source": [
    "Definir un _estimator_ `KMeans` con `k=3` y `random_state=42`, luego ajustar con `X` y finalmente, agregar los _labels_ obtenidos a una nueva columna del dataframe `gapminder` llamada `cluster`. Finalmente, realizar el mismo gráfico del principio pero coloreado por los clusters obtenidos.\n",
    "\n"
   ]
  },
  {
   "cell_type": "code",
   "execution_count": 8,
   "metadata": {
    "Collapsed": "false"
   },
   "outputs": [
    {
     "ename": "SyntaxError",
     "evalue": "invalid syntax (<ipython-input-8-b48ef4ae9cb1>, line 2)",
     "output_type": "error",
     "traceback": [
      "\u001b[1;36m  File \u001b[1;32m\"<ipython-input-8-b48ef4ae9cb1>\"\u001b[1;36m, line \u001b[1;32m2\u001b[0m\n\u001b[1;33m    kmeans =## FIX ME PLEASE ##\u001b[0m\n\u001b[1;37m                               ^\u001b[0m\n\u001b[1;31mSyntaxError\u001b[0m\u001b[1;31m:\u001b[0m invalid syntax\n"
     ]
    }
   ],
   "source": [
    "k = 3\n",
    "kmeans =\n",
    "kmeans#\n",
    "clusters =\n",
    "gapminder"
   ]
  },
  {
   "cell_type": "code",
   "execution_count": null,
   "metadata": {
    "Collapsed": "false"
   },
   "outputs": [],
   "source": [
    "## FIX ME PLEASE ##"
   ]
  },
  {
   "cell_type": "markdown",
   "metadata": {
    "Collapsed": "true"
   },
   "source": [
    "### 4. Regla del codo (1 pto)"
   ]
  },
  {
   "cell_type": "markdown",
   "metadata": {
    "Collapsed": "false"
   },
   "source": [
    "__¿Cómo escoger la mejor cantidad de _clusters_?__\n",
    "\n",
    "En este ejercicio hemos utilizado que el número de clusters es igual a 3. El ajuste del modelo siempre será mejor al aumentar el número de clusters, pero ello no significa que el número de clusters sea el apropiado. De hecho, si tenemos que ajustar $n$ puntos, claramente tomar $n$ clusters generaría un ajuste perfecto, pero no permitiría representar si existen realmente agrupaciones de datos.\n",
    "\n",
    "Cuando no se conoce el número de clusters a priori, se utiliza la [regla del codo](https://jarroba.com/seleccion-del-numero-optimo-clusters/), que indica que el número más apropiado es aquel donde \"cambia la pendiente\" de decrecimiento de la la suma de las distancias a los clusters para cada punto, en función del número de clusters.\n",
    "\n",
    "A continuación se provee el código para el caso de clustering sobre los datos estandarizados, leídos directamente de un archivo preparado especialmente."
   ]
  },
  {
   "cell_type": "code",
   "execution_count": null,
   "metadata": {
    "Collapsed": "false"
   },
   "outputs": [],
   "source": [
    "elbow = pd.Series(name=\"inertia\").rename_axis(index=\"k\")\n",
    "for k in range(1, 10):\n",
    "    kmeans = KMeans(n_clusters=k, random_state=42).fit(X)\n",
    "    elbow.loc[k] = kmeans.inertia_ # Inertia: Sum of distances of samples to their closest cluster center\n",
    "elbow = elbow.reset_index()"
   ]
  },
  {
   "cell_type": "code",
   "execution_count": null,
   "metadata": {
    "Collapsed": "false"
   },
   "outputs": [],
   "source": [
    "alt.Chart(elbow).mark_line(point=True).encode(\n",
    "    x=\"k:O\",\n",
    "    y=\"inertia:Q\"\n",
    ").properties(\n",
    "    height=600,\n",
    "    width=800\n",
    ")"
   ]
  },
  {
   "cell_type": "markdown",
   "metadata": {
    "Collapsed": "false"
   },
   "source": [
    "__Pregunta__\n",
    "\n",
    "Considerando los datos (países) y el gráfico anterior, ¿Cuántos clusters escogerías?"
   ]
  },
  {
   "cell_type": "markdown",
   "metadata": {
    "Collapsed": "false"
   },
   "source": [
    "##_TU RESPUESTA AQUÍ_ ##"
   ]
  }
 ],
 "metadata": {
  "celltoolbar": "Slideshow",
  "kernelspec": {
   "display_name": "Python 3",
   "language": "python",
   "name": "python3"
  },
  "language_info": {
   "codemirror_mode": {
    "name": "ipython",
    "version": 3
   },
   "file_extension": ".py",
   "mimetype": "text/x-python",
   "name": "python",
   "nbconvert_exporter": "python",
   "pygments_lexer": "ipython3",
   "version": "3.7.3"
  }
 },
 "nbformat": 4,
 "nbformat_minor": 4
}
